{
 "cells": [
  {
   "cell_type": "code",
   "execution_count": 2,
   "metadata": {},
   "outputs": [],
   "source": [
    "import pandas as pd\n",
    "import numpy as np\n",
    "import matplotlib.pyplot as plt\n",
    "import seaborn as sns\n",
    "import os\n",
    "from env import host, user, password\n",
    "import acquire\n",
    "from sklearn.model_selection import train_test_split\n",
    "from sklearn.impute import SimpleImputer\n",
    "import pandas as pd\n",
    "from scipy import stats\n",
    "from pydataset import data\n",
    "from sklearn.tree import DecisionTreeClassifier, plot_tree, export_text\n",
    "from sklearn.ensemble import RandomForestClassifier\n",
    "from sklearn.neighbors import KNeighborsClassifier\n",
    "from sklearn.metrics import classification_report\n",
    "from sklearn.metrics import confusion_matrix\n",
    "from sklearn.dummy import DummyClassifier\n",
    "from sklearn.metrics import accuracy_score\n",
    "from sklearn.metrics import precision_score\n",
    "from sklearn.metrics import recall_score\n",
    "from sklearn.linear_model import LogisticRegression\n",
    "import prepare\n",
    "\n",
    "from env import host, user, password\n",
    "\n",
    "\n",
    "\n",
    "\n",
    "# ignore warnings\n",
    "import warnings\n",
    "warnings.filterwarnings(\"ignore\")"
   ]
  },
  {
   "cell_type": "code",
   "execution_count": 3,
   "metadata": {},
   "outputs": [
    {
     "data": {
      "text/plain": [
       "<function prepare.prep_telco(df)>"
      ]
     },
     "execution_count": 3,
     "metadata": {},
     "output_type": "execute_result"
    }
   ],
   "source": []
  },
  {
   "cell_type": "markdown",
   "metadata": {},
   "source": [
    "# Acquire Stage"
   ]
  },
  {
   "cell_type": "markdown",
   "metadata": {},
   "source": [
    "Main Objective:\n",
    "Create a connection and bring in the telco-churn data from the Codeup database. "
   ]
  },
  {
   "cell_type": "code",
   "execution_count": 2,
   "metadata": {},
   "outputs": [],
   "source": [
    "#importing data from sql: telco_churn dataset.\n",
    "# this notebook is used for the generation of functions to bring in telco_churn data from the Codeup DB\n",
    "###################### Acquire Telco_Churn Data ######################\n",
    "\n",
    "def get_connection(db, user=user, host=host, password=password):\n",
    "    '''\n",
    "    This function uses my info from my env file to\n",
    "    create a connection url to access the Codeup db.\n",
    "    '''\n",
    "    return f'mysql+pymysql://{user}:{password}@{host}/{db}'"
   ]
  },
  {
   "cell_type": "code",
   "execution_count": 3,
   "metadata": {},
   "outputs": [],
   "source": [
    "#Objective 1: connect to the Codeup db. REMEMBER TO CREATE .gitignore and include env.py within this!\n",
    "###################### Acquire Telco_Churn Data ######################\n",
    "#####################################################################\n",
    "# Pull in the Telco-churn dataset using pandas.read_sql. SQl query generated within sequel ace then implemented in a variable.\n",
    "def telco_churn_data():\n",
    "    '''\n",
    "    This function reads the telco_churn data from the Codeup db into a df,\n",
    "    write it to a csv file, and returns the df.\n",
    "    '''\n",
    "    # Create SQL query.\n",
    "    sql_query = '''\n",
    "    select * from customers as c \n",
    "    join contract_types as ct ON c.contract_type_id = ct.contract_type_id\n",
    "    join internet_service_types as ist ON c.internet_service_type_id = ist.internet_service_type_id\n",
    "    join payment_types as pt ON c.payment_type_id = pt.payment_type_id;\n",
    "    '''\n",
    "    \n",
    "    # bring in DataFrame from Codeup db.\n",
    "    df = pd.read_sql(sql_query, get_connection('telco_churn'))\n",
    "    \n",
    "    return df\n"
   ]
  },
  {
   "cell_type": "code",
   "execution_count": 4,
   "metadata": {},
   "outputs": [],
   "source": [
    "#####################################################################\n",
    "#write the telco-churn data to a csv file\n",
    "def get_telco_churn_data(cached=False):\n",
    "    '''\n",
    "    This function reads in telco_churn data from Codeup database and writes data to\n",
    "    a csv file if cached == False or if cached == True reads in telco_churn df from\n",
    "    a csv file, returns df.\n",
    "    '''\n",
    "    if cached == False or os.path.isfile('telco_churn.csv') == False:\n",
    "        \n",
    "        # Read fresh data from db into a DataFrame.\n",
    "        df = telco_churn_data()\n",
    "        \n",
    "        # Write DataFrame to a csv file.\n",
    "        df.to_csv('telco_churn.csv')\n",
    "        \n",
    "    else:\n",
    "        \n",
    "        # If csv file exists or cached == True, read in data from csv file.\n",
    "        df = pd.read_csv('telco_churn.csv', index_col=0)\n",
    "        \n",
    "    return df"
   ]
  },
  {
   "cell_type": "code",
   "execution_count": 5,
   "metadata": {},
   "outputs": [],
   "source": [
    "#Final product upon completion of functions should result in df below\n",
    "#for information regarding function for get_telco_churn refer to prepare.py"
   ]
  },
  {
   "cell_type": "markdown",
   "metadata": {},
   "source": [
    "Main Takeaway:\n"
   ]
  },
  {
   "cell_type": "markdown",
   "metadata": {},
   "source": [
    "# Prepare Stage:"
   ]
  },
  {
   "cell_type": "markdown",
   "metadata": {},
   "source": []
  },
  {
   "cell_type": "code",
   "execution_count": 6,
   "metadata": {},
   "outputs": [],
   "source": [
    "telco_churn = acquire.get_telco_churn_data()"
   ]
  },
  {
   "cell_type": "code",
   "execution_count": 7,
   "metadata": {},
   "outputs": [],
   "source": [
    "#.acquire function brings in needed data!"
   ]
  },
  {
   "cell_type": "code",
   "execution_count": null,
   "metadata": {},
   "outputs": [],
   "source": [
    "prepare."
   ]
  },
  {
   "cell_type": "code",
   "execution_count": 8,
   "metadata": {},
   "outputs": [
    {
     "data": {
      "text/html": [
       "<div>\n",
       "<style scoped>\n",
       "    .dataframe tbody tr th:only-of-type {\n",
       "        vertical-align: middle;\n",
       "    }\n",
       "\n",
       "    .dataframe tbody tr th {\n",
       "        vertical-align: top;\n",
       "    }\n",
       "\n",
       "    .dataframe thead th {\n",
       "        text-align: right;\n",
       "    }\n",
       "</style>\n",
       "<table border=\"1\" class=\"dataframe\">\n",
       "  <thead>\n",
       "    <tr style=\"text-align: right;\">\n",
       "      <th></th>\n",
       "      <th>0</th>\n",
       "      <th>1</th>\n",
       "      <th>2</th>\n",
       "      <th>3</th>\n",
       "      <th>4</th>\n",
       "    </tr>\n",
       "  </thead>\n",
       "  <tbody>\n",
       "    <tr>\n",
       "      <th>customer_id</th>\n",
       "      <td>0016-QLJIS</td>\n",
       "      <td>0017-DINOC</td>\n",
       "      <td>0019-GFNTW</td>\n",
       "      <td>0056-EPFBG</td>\n",
       "      <td>0078-XZMHT</td>\n",
       "    </tr>\n",
       "    <tr>\n",
       "      <th>gender</th>\n",
       "      <td>Female</td>\n",
       "      <td>Male</td>\n",
       "      <td>Female</td>\n",
       "      <td>Male</td>\n",
       "      <td>Male</td>\n",
       "    </tr>\n",
       "    <tr>\n",
       "      <th>senior_citizen</th>\n",
       "      <td>0</td>\n",
       "      <td>0</td>\n",
       "      <td>0</td>\n",
       "      <td>0</td>\n",
       "      <td>0</td>\n",
       "    </tr>\n",
       "    <tr>\n",
       "      <th>partner</th>\n",
       "      <td>Yes</td>\n",
       "      <td>No</td>\n",
       "      <td>No</td>\n",
       "      <td>Yes</td>\n",
       "      <td>Yes</td>\n",
       "    </tr>\n",
       "    <tr>\n",
       "      <th>dependents</th>\n",
       "      <td>Yes</td>\n",
       "      <td>No</td>\n",
       "      <td>No</td>\n",
       "      <td>Yes</td>\n",
       "      <td>No</td>\n",
       "    </tr>\n",
       "    <tr>\n",
       "      <th>tenure</th>\n",
       "      <td>65</td>\n",
       "      <td>54</td>\n",
       "      <td>56</td>\n",
       "      <td>20</td>\n",
       "      <td>72</td>\n",
       "    </tr>\n",
       "    <tr>\n",
       "      <th>phone_service</th>\n",
       "      <td>Yes</td>\n",
       "      <td>No</td>\n",
       "      <td>No</td>\n",
       "      <td>No</td>\n",
       "      <td>Yes</td>\n",
       "    </tr>\n",
       "    <tr>\n",
       "      <th>multiple_lines</th>\n",
       "      <td>Yes</td>\n",
       "      <td>No phone service</td>\n",
       "      <td>No phone service</td>\n",
       "      <td>No phone service</td>\n",
       "      <td>Yes</td>\n",
       "    </tr>\n",
       "    <tr>\n",
       "      <th>internet_service_type_id</th>\n",
       "      <td>1</td>\n",
       "      <td>1</td>\n",
       "      <td>1</td>\n",
       "      <td>1</td>\n",
       "      <td>1</td>\n",
       "    </tr>\n",
       "    <tr>\n",
       "      <th>online_security</th>\n",
       "      <td>Yes</td>\n",
       "      <td>Yes</td>\n",
       "      <td>Yes</td>\n",
       "      <td>Yes</td>\n",
       "      <td>No</td>\n",
       "    </tr>\n",
       "    <tr>\n",
       "      <th>online_backup</th>\n",
       "      <td>Yes</td>\n",
       "      <td>No</td>\n",
       "      <td>Yes</td>\n",
       "      <td>No</td>\n",
       "      <td>Yes</td>\n",
       "    </tr>\n",
       "    <tr>\n",
       "      <th>device_protection</th>\n",
       "      <td>Yes</td>\n",
       "      <td>No</td>\n",
       "      <td>Yes</td>\n",
       "      <td>Yes</td>\n",
       "      <td>Yes</td>\n",
       "    </tr>\n",
       "    <tr>\n",
       "      <th>tech_support</th>\n",
       "      <td>Yes</td>\n",
       "      <td>Yes</td>\n",
       "      <td>Yes</td>\n",
       "      <td>Yes</td>\n",
       "      <td>Yes</td>\n",
       "    </tr>\n",
       "    <tr>\n",
       "      <th>streaming_tv</th>\n",
       "      <td>Yes</td>\n",
       "      <td>Yes</td>\n",
       "      <td>No</td>\n",
       "      <td>No</td>\n",
       "      <td>Yes</td>\n",
       "    </tr>\n",
       "    <tr>\n",
       "      <th>streaming_movies</th>\n",
       "      <td>Yes</td>\n",
       "      <td>No</td>\n",
       "      <td>No</td>\n",
       "      <td>No</td>\n",
       "      <td>Yes</td>\n",
       "    </tr>\n",
       "    <tr>\n",
       "      <th>contract_type_id</th>\n",
       "      <td>3</td>\n",
       "      <td>3</td>\n",
       "      <td>3</td>\n",
       "      <td>3</td>\n",
       "      <td>3</td>\n",
       "    </tr>\n",
       "    <tr>\n",
       "      <th>paperless_billing</th>\n",
       "      <td>Yes</td>\n",
       "      <td>No</td>\n",
       "      <td>No</td>\n",
       "      <td>Yes</td>\n",
       "      <td>Yes</td>\n",
       "    </tr>\n",
       "    <tr>\n",
       "      <th>payment_type_id</th>\n",
       "      <td>2</td>\n",
       "      <td>4</td>\n",
       "      <td>3</td>\n",
       "      <td>4</td>\n",
       "      <td>3</td>\n",
       "    </tr>\n",
       "    <tr>\n",
       "      <th>monthly_charges</th>\n",
       "      <td>90.45</td>\n",
       "      <td>45.2</td>\n",
       "      <td>45.05</td>\n",
       "      <td>39.4</td>\n",
       "      <td>85.15</td>\n",
       "    </tr>\n",
       "    <tr>\n",
       "      <th>total_charges</th>\n",
       "      <td>5957.9</td>\n",
       "      <td>2460.55</td>\n",
       "      <td>2560.1</td>\n",
       "      <td>825.4</td>\n",
       "      <td>6316.2</td>\n",
       "    </tr>\n",
       "    <tr>\n",
       "      <th>churn</th>\n",
       "      <td>No</td>\n",
       "      <td>No</td>\n",
       "      <td>No</td>\n",
       "      <td>No</td>\n",
       "      <td>No</td>\n",
       "    </tr>\n",
       "    <tr>\n",
       "      <th>contract_type_id</th>\n",
       "      <td>3</td>\n",
       "      <td>3</td>\n",
       "      <td>3</td>\n",
       "      <td>3</td>\n",
       "      <td>3</td>\n",
       "    </tr>\n",
       "    <tr>\n",
       "      <th>contract_type</th>\n",
       "      <td>Two year</td>\n",
       "      <td>Two year</td>\n",
       "      <td>Two year</td>\n",
       "      <td>Two year</td>\n",
       "      <td>Two year</td>\n",
       "    </tr>\n",
       "    <tr>\n",
       "      <th>internet_service_type_id</th>\n",
       "      <td>1</td>\n",
       "      <td>1</td>\n",
       "      <td>1</td>\n",
       "      <td>1</td>\n",
       "      <td>1</td>\n",
       "    </tr>\n",
       "    <tr>\n",
       "      <th>internet_service_type</th>\n",
       "      <td>DSL</td>\n",
       "      <td>DSL</td>\n",
       "      <td>DSL</td>\n",
       "      <td>DSL</td>\n",
       "      <td>DSL</td>\n",
       "    </tr>\n",
       "    <tr>\n",
       "      <th>payment_type_id</th>\n",
       "      <td>2</td>\n",
       "      <td>4</td>\n",
       "      <td>3</td>\n",
       "      <td>4</td>\n",
       "      <td>3</td>\n",
       "    </tr>\n",
       "    <tr>\n",
       "      <th>payment_type</th>\n",
       "      <td>Mailed check</td>\n",
       "      <td>Credit card (automatic)</td>\n",
       "      <td>Bank transfer (automatic)</td>\n",
       "      <td>Credit card (automatic)</td>\n",
       "      <td>Bank transfer (automatic)</td>\n",
       "    </tr>\n",
       "  </tbody>\n",
       "</table>\n",
       "</div>"
      ],
      "text/plain": [
       "                                     0                        1  \\\n",
       "customer_id                 0016-QLJIS               0017-DINOC   \n",
       "gender                          Female                     Male   \n",
       "senior_citizen                       0                        0   \n",
       "partner                            Yes                       No   \n",
       "dependents                         Yes                       No   \n",
       "tenure                              65                       54   \n",
       "phone_service                      Yes                       No   \n",
       "multiple_lines                     Yes         No phone service   \n",
       "internet_service_type_id             1                        1   \n",
       "online_security                    Yes                      Yes   \n",
       "online_backup                      Yes                       No   \n",
       "device_protection                  Yes                       No   \n",
       "tech_support                       Yes                      Yes   \n",
       "streaming_tv                       Yes                      Yes   \n",
       "streaming_movies                   Yes                       No   \n",
       "contract_type_id                     3                        3   \n",
       "paperless_billing                  Yes                       No   \n",
       "payment_type_id                      2                        4   \n",
       "monthly_charges                  90.45                     45.2   \n",
       "total_charges                   5957.9                  2460.55   \n",
       "churn                               No                       No   \n",
       "contract_type_id                     3                        3   \n",
       "contract_type                 Two year                 Two year   \n",
       "internet_service_type_id             1                        1   \n",
       "internet_service_type              DSL                      DSL   \n",
       "payment_type_id                      2                        4   \n",
       "payment_type              Mailed check  Credit card (automatic)   \n",
       "\n",
       "                                                  2                        3  \\\n",
       "customer_id                              0019-GFNTW               0056-EPFBG   \n",
       "gender                                       Female                     Male   \n",
       "senior_citizen                                    0                        0   \n",
       "partner                                          No                      Yes   \n",
       "dependents                                       No                      Yes   \n",
       "tenure                                           56                       20   \n",
       "phone_service                                    No                       No   \n",
       "multiple_lines                     No phone service         No phone service   \n",
       "internet_service_type_id                          1                        1   \n",
       "online_security                                 Yes                      Yes   \n",
       "online_backup                                   Yes                       No   \n",
       "device_protection                               Yes                      Yes   \n",
       "tech_support                                    Yes                      Yes   \n",
       "streaming_tv                                     No                       No   \n",
       "streaming_movies                                 No                       No   \n",
       "contract_type_id                                  3                        3   \n",
       "paperless_billing                                No                      Yes   \n",
       "payment_type_id                                   3                        4   \n",
       "monthly_charges                               45.05                     39.4   \n",
       "total_charges                                2560.1                    825.4   \n",
       "churn                                            No                       No   \n",
       "contract_type_id                                  3                        3   \n",
       "contract_type                              Two year                 Two year   \n",
       "internet_service_type_id                          1                        1   \n",
       "internet_service_type                           DSL                      DSL   \n",
       "payment_type_id                                   3                        4   \n",
       "payment_type              Bank transfer (automatic)  Credit card (automatic)   \n",
       "\n",
       "                                                  4  \n",
       "customer_id                              0078-XZMHT  \n",
       "gender                                         Male  \n",
       "senior_citizen                                    0  \n",
       "partner                                         Yes  \n",
       "dependents                                       No  \n",
       "tenure                                           72  \n",
       "phone_service                                   Yes  \n",
       "multiple_lines                                  Yes  \n",
       "internet_service_type_id                          1  \n",
       "online_security                                  No  \n",
       "online_backup                                   Yes  \n",
       "device_protection                               Yes  \n",
       "tech_support                                    Yes  \n",
       "streaming_tv                                    Yes  \n",
       "streaming_movies                                Yes  \n",
       "contract_type_id                                  3  \n",
       "paperless_billing                               Yes  \n",
       "payment_type_id                                   3  \n",
       "monthly_charges                               85.15  \n",
       "total_charges                                6316.2  \n",
       "churn                                            No  \n",
       "contract_type_id                                  3  \n",
       "contract_type                              Two year  \n",
       "internet_service_type_id                          1  \n",
       "internet_service_type                           DSL  \n",
       "payment_type_id                                   3  \n",
       "payment_type              Bank transfer (automatic)  "
      ]
     },
     "execution_count": 8,
     "metadata": {},
     "output_type": "execute_result"
    }
   ],
   "source": [
    "telco_churn.head(5).T"
   ]
  },
  {
   "cell_type": "code",
   "execution_count": 9,
   "metadata": {},
   "outputs": [
    {
     "data": {
      "text/plain": [
       "(7043, 27)"
      ]
     },
     "execution_count": 9,
     "metadata": {},
     "output_type": "execute_result"
    }
   ],
   "source": [
    "# The shape of the Telco-churn dataframe is 7043 Rows and 27 Columns.\n",
    "telco_churn.shape"
   ]
  },
  {
   "cell_type": "code",
   "execution_count": 10,
   "metadata": {},
   "outputs": [
    {
     "name": "stdout",
     "output_type": "stream",
     "text": [
      "<class 'pandas.core.frame.DataFrame'>\n",
      "RangeIndex: 7043 entries, 0 to 7042\n",
      "Data columns (total 27 columns):\n",
      " #   Column                    Non-Null Count  Dtype  \n",
      "---  ------                    --------------  -----  \n",
      " 0   customer_id               7043 non-null   object \n",
      " 1   gender                    7043 non-null   object \n",
      " 2   senior_citizen            7043 non-null   int64  \n",
      " 3   partner                   7043 non-null   object \n",
      " 4   dependents                7043 non-null   object \n",
      " 5   tenure                    7043 non-null   int64  \n",
      " 6   phone_service             7043 non-null   object \n",
      " 7   multiple_lines            7043 non-null   object \n",
      " 8   internet_service_type_id  7043 non-null   int64  \n",
      " 9   online_security           7043 non-null   object \n",
      " 10  online_backup             7043 non-null   object \n",
      " 11  device_protection         7043 non-null   object \n",
      " 12  tech_support              7043 non-null   object \n",
      " 13  streaming_tv              7043 non-null   object \n",
      " 14  streaming_movies          7043 non-null   object \n",
      " 15  contract_type_id          7043 non-null   int64  \n",
      " 16  paperless_billing         7043 non-null   object \n",
      " 17  payment_type_id           7043 non-null   int64  \n",
      " 18  monthly_charges           7043 non-null   float64\n",
      " 19  total_charges             7043 non-null   object \n",
      " 20  churn                     7043 non-null   object \n",
      " 21  contract_type_id          7043 non-null   int64  \n",
      " 22  contract_type             7043 non-null   object \n",
      " 23  internet_service_type_id  7043 non-null   int64  \n",
      " 24  internet_service_type     7043 non-null   object \n",
      " 25  payment_type_id           7043 non-null   int64  \n",
      " 26  payment_type              7043 non-null   object \n",
      "dtypes: float64(1), int64(8), object(18)\n",
      "memory usage: 1.5+ MB\n"
     ]
    }
   ],
   "source": [
    "#Datatypes: 18 objects, 8 integer64, 1 float64\n",
    "# 25 Categorical and 2 Continous Numerical.\n",
    "telco_churn.info()"
   ]
  },
  {
   "cell_type": "code",
   "execution_count": 11,
   "metadata": {},
   "outputs": [
    {
     "data": {
      "text/html": [
       "<div>\n",
       "<style scoped>\n",
       "    .dataframe tbody tr th:only-of-type {\n",
       "        vertical-align: middle;\n",
       "    }\n",
       "\n",
       "    .dataframe tbody tr th {\n",
       "        vertical-align: top;\n",
       "    }\n",
       "\n",
       "    .dataframe thead th {\n",
       "        text-align: right;\n",
       "    }\n",
       "</style>\n",
       "<table border=\"1\" class=\"dataframe\">\n",
       "  <thead>\n",
       "    <tr style=\"text-align: right;\">\n",
       "      <th></th>\n",
       "      <th>count</th>\n",
       "      <th>mean</th>\n",
       "      <th>std</th>\n",
       "      <th>min</th>\n",
       "      <th>25%</th>\n",
       "      <th>50%</th>\n",
       "      <th>75%</th>\n",
       "      <th>max</th>\n",
       "      <th>range</th>\n",
       "    </tr>\n",
       "  </thead>\n",
       "  <tbody>\n",
       "    <tr>\n",
       "      <th>senior_citizen</th>\n",
       "      <td>5.0</td>\n",
       "      <td>0.00</td>\n",
       "      <td>0.000000</td>\n",
       "      <td>0.0</td>\n",
       "      <td>0.00</td>\n",
       "      <td>0.0</td>\n",
       "      <td>0.00</td>\n",
       "      <td>0.00</td>\n",
       "      <td>0.00</td>\n",
       "    </tr>\n",
       "    <tr>\n",
       "      <th>tenure</th>\n",
       "      <td>5.0</td>\n",
       "      <td>53.40</td>\n",
       "      <td>20.019990</td>\n",
       "      <td>20.0</td>\n",
       "      <td>54.00</td>\n",
       "      <td>56.0</td>\n",
       "      <td>65.00</td>\n",
       "      <td>72.00</td>\n",
       "      <td>52.00</td>\n",
       "    </tr>\n",
       "    <tr>\n",
       "      <th>internet_service_type_id</th>\n",
       "      <td>5.0</td>\n",
       "      <td>1.00</td>\n",
       "      <td>0.000000</td>\n",
       "      <td>1.0</td>\n",
       "      <td>1.00</td>\n",
       "      <td>1.0</td>\n",
       "      <td>1.00</td>\n",
       "      <td>1.00</td>\n",
       "      <td>0.00</td>\n",
       "    </tr>\n",
       "    <tr>\n",
       "      <th>contract_type_id</th>\n",
       "      <td>5.0</td>\n",
       "      <td>3.00</td>\n",
       "      <td>0.000000</td>\n",
       "      <td>3.0</td>\n",
       "      <td>3.00</td>\n",
       "      <td>3.0</td>\n",
       "      <td>3.00</td>\n",
       "      <td>3.00</td>\n",
       "      <td>0.00</td>\n",
       "    </tr>\n",
       "    <tr>\n",
       "      <th>payment_type_id</th>\n",
       "      <td>5.0</td>\n",
       "      <td>3.20</td>\n",
       "      <td>0.836660</td>\n",
       "      <td>2.0</td>\n",
       "      <td>3.00</td>\n",
       "      <td>3.0</td>\n",
       "      <td>4.00</td>\n",
       "      <td>4.00</td>\n",
       "      <td>2.00</td>\n",
       "    </tr>\n",
       "    <tr>\n",
       "      <th>monthly_charges</th>\n",
       "      <td>5.0</td>\n",
       "      <td>61.05</td>\n",
       "      <td>24.602413</td>\n",
       "      <td>39.4</td>\n",
       "      <td>45.05</td>\n",
       "      <td>45.2</td>\n",
       "      <td>85.15</td>\n",
       "      <td>90.45</td>\n",
       "      <td>51.05</td>\n",
       "    </tr>\n",
       "    <tr>\n",
       "      <th>contract_type_id</th>\n",
       "      <td>5.0</td>\n",
       "      <td>3.00</td>\n",
       "      <td>0.000000</td>\n",
       "      <td>3.0</td>\n",
       "      <td>3.00</td>\n",
       "      <td>3.0</td>\n",
       "      <td>3.00</td>\n",
       "      <td>3.00</td>\n",
       "      <td>0.00</td>\n",
       "    </tr>\n",
       "    <tr>\n",
       "      <th>internet_service_type_id</th>\n",
       "      <td>5.0</td>\n",
       "      <td>1.00</td>\n",
       "      <td>0.000000</td>\n",
       "      <td>1.0</td>\n",
       "      <td>1.00</td>\n",
       "      <td>1.0</td>\n",
       "      <td>1.00</td>\n",
       "      <td>1.00</td>\n",
       "      <td>0.00</td>\n",
       "    </tr>\n",
       "    <tr>\n",
       "      <th>payment_type_id</th>\n",
       "      <td>5.0</td>\n",
       "      <td>3.20</td>\n",
       "      <td>0.836660</td>\n",
       "      <td>2.0</td>\n",
       "      <td>3.00</td>\n",
       "      <td>3.0</td>\n",
       "      <td>4.00</td>\n",
       "      <td>4.00</td>\n",
       "      <td>2.00</td>\n",
       "    </tr>\n",
       "  </tbody>\n",
       "</table>\n",
       "</div>"
      ],
      "text/plain": [
       "                          count   mean        std   min    25%   50%    75%  \\\n",
       "senior_citizen              5.0   0.00   0.000000   0.0   0.00   0.0   0.00   \n",
       "tenure                      5.0  53.40  20.019990  20.0  54.00  56.0  65.00   \n",
       "internet_service_type_id    5.0   1.00   0.000000   1.0   1.00   1.0   1.00   \n",
       "contract_type_id            5.0   3.00   0.000000   3.0   3.00   3.0   3.00   \n",
       "payment_type_id             5.0   3.20   0.836660   2.0   3.00   3.0   4.00   \n",
       "monthly_charges             5.0  61.05  24.602413  39.4  45.05  45.2  85.15   \n",
       "contract_type_id            5.0   3.00   0.000000   3.0   3.00   3.0   3.00   \n",
       "internet_service_type_id    5.0   1.00   0.000000   1.0   1.00   1.0   1.00   \n",
       "payment_type_id             5.0   3.20   0.836660   2.0   3.00   3.0   4.00   \n",
       "\n",
       "                            max  range  \n",
       "senior_citizen             0.00   0.00  \n",
       "tenure                    72.00  52.00  \n",
       "internet_service_type_id   1.00   0.00  \n",
       "contract_type_id           3.00   0.00  \n",
       "payment_type_id            4.00   2.00  \n",
       "monthly_charges           90.45  51.05  \n",
       "contract_type_id           3.00   0.00  \n",
       "internet_service_type_id   1.00   0.00  \n",
       "payment_type_id            4.00   2.00  "
      ]
     },
     "execution_count": 11,
     "metadata": {},
     "output_type": "execute_result"
    }
   ],
   "source": [
    "#Telco-churn Statistical data.\n",
    "# varibale below adds range to the original .describe() statistaical table.\n",
    "ds = telco_churn.head().describe()\n",
    "ds.loc['range'] = ds.loc['max'] - ds.loc['min']\n",
    "pd.DataFrame(ds).T"
   ]
  },
  {
   "cell_type": "markdown",
   "metadata": {},
   "source": [
    "### Now investigate the dataframe and look at the data types, dataframe shape, and statistical information."
   ]
  },
  {
   "cell_type": "code",
   "execution_count": 13,
   "metadata": {},
   "outputs": [],
   "source": []
  },
  {
   "cell_type": "code",
   "execution_count": 14,
   "metadata": {},
   "outputs": [
    {
     "data": {
      "text/html": [
       "<div>\n",
       "<style scoped>\n",
       "    .dataframe tbody tr th:only-of-type {\n",
       "        vertical-align: middle;\n",
       "    }\n",
       "\n",
       "    .dataframe tbody tr th {\n",
       "        vertical-align: top;\n",
       "    }\n",
       "\n",
       "    .dataframe thead th {\n",
       "        text-align: right;\n",
       "    }\n",
       "</style>\n",
       "<table border=\"1\" class=\"dataframe\">\n",
       "  <thead>\n",
       "    <tr style=\"text-align: right;\">\n",
       "      <th></th>\n",
       "      <th>0</th>\n",
       "      <th>1</th>\n",
       "      <th>2</th>\n",
       "      <th>3</th>\n",
       "      <th>4</th>\n",
       "    </tr>\n",
       "  </thead>\n",
       "  <tbody>\n",
       "    <tr>\n",
       "      <th>customer_id</th>\n",
       "      <td>0016-QLJIS</td>\n",
       "      <td>0017-DINOC</td>\n",
       "      <td>0019-GFNTW</td>\n",
       "      <td>0056-EPFBG</td>\n",
       "      <td>0078-XZMHT</td>\n",
       "    </tr>\n",
       "    <tr>\n",
       "      <th>gender</th>\n",
       "      <td>Female</td>\n",
       "      <td>Male</td>\n",
       "      <td>Female</td>\n",
       "      <td>Male</td>\n",
       "      <td>Male</td>\n",
       "    </tr>\n",
       "    <tr>\n",
       "      <th>senior_citizen</th>\n",
       "      <td>0</td>\n",
       "      <td>0</td>\n",
       "      <td>0</td>\n",
       "      <td>0</td>\n",
       "      <td>0</td>\n",
       "    </tr>\n",
       "    <tr>\n",
       "      <th>partner</th>\n",
       "      <td>Yes</td>\n",
       "      <td>No</td>\n",
       "      <td>No</td>\n",
       "      <td>Yes</td>\n",
       "      <td>Yes</td>\n",
       "    </tr>\n",
       "    <tr>\n",
       "      <th>dependents</th>\n",
       "      <td>Yes</td>\n",
       "      <td>No</td>\n",
       "      <td>No</td>\n",
       "      <td>Yes</td>\n",
       "      <td>No</td>\n",
       "    </tr>\n",
       "    <tr>\n",
       "      <th>tenure</th>\n",
       "      <td>65</td>\n",
       "      <td>54</td>\n",
       "      <td>56</td>\n",
       "      <td>20</td>\n",
       "      <td>72</td>\n",
       "    </tr>\n",
       "    <tr>\n",
       "      <th>phone_service</th>\n",
       "      <td>Yes</td>\n",
       "      <td>No</td>\n",
       "      <td>No</td>\n",
       "      <td>No</td>\n",
       "      <td>Yes</td>\n",
       "    </tr>\n",
       "    <tr>\n",
       "      <th>multiple_lines</th>\n",
       "      <td>Yes</td>\n",
       "      <td>No phone service</td>\n",
       "      <td>No phone service</td>\n",
       "      <td>No phone service</td>\n",
       "      <td>Yes</td>\n",
       "    </tr>\n",
       "    <tr>\n",
       "      <th>internet_service_type_id</th>\n",
       "      <td>1</td>\n",
       "      <td>1</td>\n",
       "      <td>1</td>\n",
       "      <td>1</td>\n",
       "      <td>1</td>\n",
       "    </tr>\n",
       "    <tr>\n",
       "      <th>online_security</th>\n",
       "      <td>Yes</td>\n",
       "      <td>Yes</td>\n",
       "      <td>Yes</td>\n",
       "      <td>Yes</td>\n",
       "      <td>No</td>\n",
       "    </tr>\n",
       "    <tr>\n",
       "      <th>online_backup</th>\n",
       "      <td>Yes</td>\n",
       "      <td>No</td>\n",
       "      <td>Yes</td>\n",
       "      <td>No</td>\n",
       "      <td>Yes</td>\n",
       "    </tr>\n",
       "    <tr>\n",
       "      <th>device_protection</th>\n",
       "      <td>Yes</td>\n",
       "      <td>No</td>\n",
       "      <td>Yes</td>\n",
       "      <td>Yes</td>\n",
       "      <td>Yes</td>\n",
       "    </tr>\n",
       "    <tr>\n",
       "      <th>tech_support</th>\n",
       "      <td>Yes</td>\n",
       "      <td>Yes</td>\n",
       "      <td>Yes</td>\n",
       "      <td>Yes</td>\n",
       "      <td>Yes</td>\n",
       "    </tr>\n",
       "    <tr>\n",
       "      <th>streaming_tv</th>\n",
       "      <td>Yes</td>\n",
       "      <td>Yes</td>\n",
       "      <td>No</td>\n",
       "      <td>No</td>\n",
       "      <td>Yes</td>\n",
       "    </tr>\n",
       "    <tr>\n",
       "      <th>streaming_movies</th>\n",
       "      <td>Yes</td>\n",
       "      <td>No</td>\n",
       "      <td>No</td>\n",
       "      <td>No</td>\n",
       "      <td>Yes</td>\n",
       "    </tr>\n",
       "    <tr>\n",
       "      <th>contract_type_id</th>\n",
       "      <td>3</td>\n",
       "      <td>3</td>\n",
       "      <td>3</td>\n",
       "      <td>3</td>\n",
       "      <td>3</td>\n",
       "    </tr>\n",
       "    <tr>\n",
       "      <th>paperless_billing</th>\n",
       "      <td>Yes</td>\n",
       "      <td>No</td>\n",
       "      <td>No</td>\n",
       "      <td>Yes</td>\n",
       "      <td>Yes</td>\n",
       "    </tr>\n",
       "    <tr>\n",
       "      <th>payment_type_id</th>\n",
       "      <td>2</td>\n",
       "      <td>4</td>\n",
       "      <td>3</td>\n",
       "      <td>4</td>\n",
       "      <td>3</td>\n",
       "    </tr>\n",
       "    <tr>\n",
       "      <th>monthly_charges</th>\n",
       "      <td>90.45</td>\n",
       "      <td>45.2</td>\n",
       "      <td>45.05</td>\n",
       "      <td>39.4</td>\n",
       "      <td>85.15</td>\n",
       "    </tr>\n",
       "    <tr>\n",
       "      <th>total_charges</th>\n",
       "      <td>5957.9</td>\n",
       "      <td>2460.55</td>\n",
       "      <td>2560.1</td>\n",
       "      <td>825.4</td>\n",
       "      <td>6316.2</td>\n",
       "    </tr>\n",
       "    <tr>\n",
       "      <th>churn</th>\n",
       "      <td>No</td>\n",
       "      <td>No</td>\n",
       "      <td>No</td>\n",
       "      <td>No</td>\n",
       "      <td>No</td>\n",
       "    </tr>\n",
       "    <tr>\n",
       "      <th>contract_type_id</th>\n",
       "      <td>3</td>\n",
       "      <td>3</td>\n",
       "      <td>3</td>\n",
       "      <td>3</td>\n",
       "      <td>3</td>\n",
       "    </tr>\n",
       "    <tr>\n",
       "      <th>contract_type</th>\n",
       "      <td>Two year</td>\n",
       "      <td>Two year</td>\n",
       "      <td>Two year</td>\n",
       "      <td>Two year</td>\n",
       "      <td>Two year</td>\n",
       "    </tr>\n",
       "    <tr>\n",
       "      <th>internet_service_type_id</th>\n",
       "      <td>1</td>\n",
       "      <td>1</td>\n",
       "      <td>1</td>\n",
       "      <td>1</td>\n",
       "      <td>1</td>\n",
       "    </tr>\n",
       "    <tr>\n",
       "      <th>internet_service_type</th>\n",
       "      <td>DSL</td>\n",
       "      <td>DSL</td>\n",
       "      <td>DSL</td>\n",
       "      <td>DSL</td>\n",
       "      <td>DSL</td>\n",
       "    </tr>\n",
       "    <tr>\n",
       "      <th>payment_type_id</th>\n",
       "      <td>2</td>\n",
       "      <td>4</td>\n",
       "      <td>3</td>\n",
       "      <td>4</td>\n",
       "      <td>3</td>\n",
       "    </tr>\n",
       "    <tr>\n",
       "      <th>payment_type</th>\n",
       "      <td>Mailed check</td>\n",
       "      <td>Credit card (automatic)</td>\n",
       "      <td>Bank transfer (automatic)</td>\n",
       "      <td>Credit card (automatic)</td>\n",
       "      <td>Bank transfer (automatic)</td>\n",
       "    </tr>\n",
       "  </tbody>\n",
       "</table>\n",
       "</div>"
      ],
      "text/plain": [
       "                                     0                        1  \\\n",
       "customer_id                 0016-QLJIS               0017-DINOC   \n",
       "gender                          Female                     Male   \n",
       "senior_citizen                       0                        0   \n",
       "partner                            Yes                       No   \n",
       "dependents                         Yes                       No   \n",
       "tenure                              65                       54   \n",
       "phone_service                      Yes                       No   \n",
       "multiple_lines                     Yes         No phone service   \n",
       "internet_service_type_id             1                        1   \n",
       "online_security                    Yes                      Yes   \n",
       "online_backup                      Yes                       No   \n",
       "device_protection                  Yes                       No   \n",
       "tech_support                       Yes                      Yes   \n",
       "streaming_tv                       Yes                      Yes   \n",
       "streaming_movies                   Yes                       No   \n",
       "contract_type_id                     3                        3   \n",
       "paperless_billing                  Yes                       No   \n",
       "payment_type_id                      2                        4   \n",
       "monthly_charges                  90.45                     45.2   \n",
       "total_charges                   5957.9                  2460.55   \n",
       "churn                               No                       No   \n",
       "contract_type_id                     3                        3   \n",
       "contract_type                 Two year                 Two year   \n",
       "internet_service_type_id             1                        1   \n",
       "internet_service_type              DSL                      DSL   \n",
       "payment_type_id                      2                        4   \n",
       "payment_type              Mailed check  Credit card (automatic)   \n",
       "\n",
       "                                                  2                        3  \\\n",
       "customer_id                              0019-GFNTW               0056-EPFBG   \n",
       "gender                                       Female                     Male   \n",
       "senior_citizen                                    0                        0   \n",
       "partner                                          No                      Yes   \n",
       "dependents                                       No                      Yes   \n",
       "tenure                                           56                       20   \n",
       "phone_service                                    No                       No   \n",
       "multiple_lines                     No phone service         No phone service   \n",
       "internet_service_type_id                          1                        1   \n",
       "online_security                                 Yes                      Yes   \n",
       "online_backup                                   Yes                       No   \n",
       "device_protection                               Yes                      Yes   \n",
       "tech_support                                    Yes                      Yes   \n",
       "streaming_tv                                     No                       No   \n",
       "streaming_movies                                 No                       No   \n",
       "contract_type_id                                  3                        3   \n",
       "paperless_billing                                No                      Yes   \n",
       "payment_type_id                                   3                        4   \n",
       "monthly_charges                               45.05                     39.4   \n",
       "total_charges                                2560.1                    825.4   \n",
       "churn                                            No                       No   \n",
       "contract_type_id                                  3                        3   \n",
       "contract_type                              Two year                 Two year   \n",
       "internet_service_type_id                          1                        1   \n",
       "internet_service_type                           DSL                      DSL   \n",
       "payment_type_id                                   3                        4   \n",
       "payment_type              Bank transfer (automatic)  Credit card (automatic)   \n",
       "\n",
       "                                                  4  \n",
       "customer_id                              0078-XZMHT  \n",
       "gender                                         Male  \n",
       "senior_citizen                                    0  \n",
       "partner                                         Yes  \n",
       "dependents                                       No  \n",
       "tenure                                           72  \n",
       "phone_service                                   Yes  \n",
       "multiple_lines                                  Yes  \n",
       "internet_service_type_id                          1  \n",
       "online_security                                  No  \n",
       "online_backup                                   Yes  \n",
       "device_protection                               Yes  \n",
       "tech_support                                    Yes  \n",
       "streaming_tv                                    Yes  \n",
       "streaming_movies                                Yes  \n",
       "contract_type_id                                  3  \n",
       "paperless_billing                               Yes  \n",
       "payment_type_id                                   3  \n",
       "monthly_charges                               85.15  \n",
       "total_charges                                6316.2  \n",
       "churn                                            No  \n",
       "contract_type_id                                  3  \n",
       "contract_type                              Two year  \n",
       "internet_service_type_id                          1  \n",
       "internet_service_type                           DSL  \n",
       "payment_type_id                                   3  \n",
       "payment_type              Bank transfer (automatic)  "
      ]
     },
     "execution_count": 14,
     "metadata": {},
     "output_type": "execute_result"
    }
   ],
   "source": [
    "telco_churn.head(5).T"
   ]
  },
  {
   "cell_type": "code",
   "execution_count": 15,
   "metadata": {},
   "outputs": [
    {
     "data": {
      "text/plain": [
       "(7043, 27)"
      ]
     },
     "execution_count": 15,
     "metadata": {},
     "output_type": "execute_result"
    }
   ],
   "source": [
    "# The shape of the Telco-churn dataframe is 7043 Rows and 27 Columns.\n",
    "telco_churn.shape"
   ]
  },
  {
   "cell_type": "code",
   "execution_count": 16,
   "metadata": {},
   "outputs": [
    {
     "name": "stdout",
     "output_type": "stream",
     "text": [
      "<class 'pandas.core.frame.DataFrame'>\n",
      "RangeIndex: 7043 entries, 0 to 7042\n",
      "Data columns (total 27 columns):\n",
      " #   Column                    Non-Null Count  Dtype  \n",
      "---  ------                    --------------  -----  \n",
      " 0   customer_id               7043 non-null   object \n",
      " 1   gender                    7043 non-null   object \n",
      " 2   senior_citizen            7043 non-null   int64  \n",
      " 3   partner                   7043 non-null   object \n",
      " 4   dependents                7043 non-null   object \n",
      " 5   tenure                    7043 non-null   int64  \n",
      " 6   phone_service             7043 non-null   object \n",
      " 7   multiple_lines            7043 non-null   object \n",
      " 8   internet_service_type_id  7043 non-null   int64  \n",
      " 9   online_security           7043 non-null   object \n",
      " 10  online_backup             7043 non-null   object \n",
      " 11  device_protection         7043 non-null   object \n",
      " 12  tech_support              7043 non-null   object \n",
      " 13  streaming_tv              7043 non-null   object \n",
      " 14  streaming_movies          7043 non-null   object \n",
      " 15  contract_type_id          7043 non-null   int64  \n",
      " 16  paperless_billing         7043 non-null   object \n",
      " 17  payment_type_id           7043 non-null   int64  \n",
      " 18  monthly_charges           7043 non-null   float64\n",
      " 19  total_charges             7043 non-null   object \n",
      " 20  churn                     7043 non-null   object \n",
      " 21  contract_type_id          7043 non-null   int64  \n",
      " 22  contract_type             7043 non-null   object \n",
      " 23  internet_service_type_id  7043 non-null   int64  \n",
      " 24  internet_service_type     7043 non-null   object \n",
      " 25  payment_type_id           7043 non-null   int64  \n",
      " 26  payment_type              7043 non-null   object \n",
      "dtypes: float64(1), int64(8), object(18)\n",
      "memory usage: 1.5+ MB\n"
     ]
    }
   ],
   "source": [
    "#Datatypes: 18 objects, 8 integer64, 1 float64\n",
    "# 25 Categorical and 2 Continous Numerical.\n",
    "telco_churn.info()"
   ]
  },
  {
   "cell_type": "code",
   "execution_count": 2,
   "metadata": {},
   "outputs": [
    {
     "ename": "NameError",
     "evalue": "name 'telco_churn' is not defined",
     "output_type": "error",
     "traceback": [
      "\u001b[0;31m---------------------------------------------------------------------------\u001b[0m",
      "\u001b[0;31mNameError\u001b[0m                                 Traceback (most recent call last)",
      "\u001b[0;32m<ipython-input-2-782a01613bbf>\u001b[0m in \u001b[0;36m<module>\u001b[0;34m\u001b[0m\n\u001b[1;32m      1\u001b[0m \u001b[0;31m#Telco-churn Statistical data.\u001b[0m\u001b[0;34m\u001b[0m\u001b[0;34m\u001b[0m\u001b[0;34m\u001b[0m\u001b[0m\n\u001b[1;32m      2\u001b[0m \u001b[0;31m# varibale below adds range to the original .describe() statistaical table.\u001b[0m\u001b[0;34m\u001b[0m\u001b[0;34m\u001b[0m\u001b[0;34m\u001b[0m\u001b[0m\n\u001b[0;32m----> 3\u001b[0;31m \u001b[0mds\u001b[0m \u001b[0;34m=\u001b[0m \u001b[0mtelco_churn\u001b[0m\u001b[0;34m.\u001b[0m\u001b[0mhead\u001b[0m\u001b[0;34m(\u001b[0m\u001b[0;34m)\u001b[0m\u001b[0;34m.\u001b[0m\u001b[0mdescribe\u001b[0m\u001b[0;34m(\u001b[0m\u001b[0;34m)\u001b[0m\u001b[0;34m\u001b[0m\u001b[0;34m\u001b[0m\u001b[0m\n\u001b[0m\u001b[1;32m      4\u001b[0m \u001b[0mds\u001b[0m\u001b[0;34m.\u001b[0m\u001b[0mloc\u001b[0m\u001b[0;34m[\u001b[0m\u001b[0;34m'range'\u001b[0m\u001b[0;34m]\u001b[0m \u001b[0;34m=\u001b[0m \u001b[0mds\u001b[0m\u001b[0;34m.\u001b[0m\u001b[0mloc\u001b[0m\u001b[0;34m[\u001b[0m\u001b[0;34m'max'\u001b[0m\u001b[0;34m]\u001b[0m \u001b[0;34m-\u001b[0m \u001b[0mds\u001b[0m\u001b[0;34m.\u001b[0m\u001b[0mloc\u001b[0m\u001b[0;34m[\u001b[0m\u001b[0;34m'min'\u001b[0m\u001b[0;34m]\u001b[0m\u001b[0;34m\u001b[0m\u001b[0;34m\u001b[0m\u001b[0m\n\u001b[1;32m      5\u001b[0m \u001b[0mpd\u001b[0m\u001b[0;34m.\u001b[0m\u001b[0mDataFrame\u001b[0m\u001b[0;34m(\u001b[0m\u001b[0mds\u001b[0m\u001b[0;34m)\u001b[0m\u001b[0;34m.\u001b[0m\u001b[0mT\u001b[0m\u001b[0;34m\u001b[0m\u001b[0;34m\u001b[0m\u001b[0m\n",
      "\u001b[0;31mNameError\u001b[0m: name 'telco_churn' is not defined"
     ]
    }
   ],
   "source": [
    "#Telco-churn Statistical data.\n",
    "# varibale below adds range to the original .describe() statistaical table.\n",
    "ds = telco_churn.head().describe()\n",
    "ds.loc['range'] = ds.loc['max'] - ds.loc['min']\n",
    "pd.DataFrame(ds).T"
   ]
  },
  {
   "cell_type": "markdown",
   "metadata": {},
   "source": [
    "The objective of this notebook is to inspect the dataset and see if:\n",
    "- 1.) There is any duplicate values, not in every field but where it would matter.\n",
    "- 2.) Look for duplicate fields and drop those who are repeated.\n",
    "- 3.) Inspect fields which could be split into a numerical category.\n",
    "- 4.) Create dummy variables for those fields we wish to split into a numeric category.\n",
    "- 5.) Add the dummy columns to the original df!\n",
    "- 6.) Generate functions within this notebook which will be implemented with in the prepare.py\n",
    "- 7.) Give a few charts to display data. Pre-exploratory!!!"
   ]
  },
  {
   "cell_type": "code",
   "execution_count": 19,
   "metadata": {},
   "outputs": [
    {
     "data": {
      "text/html": [
       "<div>\n",
       "<style scoped>\n",
       "    .dataframe tbody tr th:only-of-type {\n",
       "        vertical-align: middle;\n",
       "    }\n",
       "\n",
       "    .dataframe tbody tr th {\n",
       "        vertical-align: top;\n",
       "    }\n",
       "\n",
       "    .dataframe thead th {\n",
       "        text-align: right;\n",
       "    }\n",
       "</style>\n",
       "<table border=\"1\" class=\"dataframe\">\n",
       "  <thead>\n",
       "    <tr style=\"text-align: right;\">\n",
       "      <th></th>\n",
       "      <th>0</th>\n",
       "      <th>1</th>\n",
       "    </tr>\n",
       "  </thead>\n",
       "  <tbody>\n",
       "    <tr>\n",
       "      <th>customer_id</th>\n",
       "      <td>0016-QLJIS</td>\n",
       "      <td>0017-DINOC</td>\n",
       "    </tr>\n",
       "    <tr>\n",
       "      <th>gender</th>\n",
       "      <td>Female</td>\n",
       "      <td>Male</td>\n",
       "    </tr>\n",
       "    <tr>\n",
       "      <th>senior_citizen</th>\n",
       "      <td>0</td>\n",
       "      <td>0</td>\n",
       "    </tr>\n",
       "    <tr>\n",
       "      <th>partner</th>\n",
       "      <td>Yes</td>\n",
       "      <td>No</td>\n",
       "    </tr>\n",
       "    <tr>\n",
       "      <th>dependents</th>\n",
       "      <td>Yes</td>\n",
       "      <td>No</td>\n",
       "    </tr>\n",
       "    <tr>\n",
       "      <th>tenure</th>\n",
       "      <td>65</td>\n",
       "      <td>54</td>\n",
       "    </tr>\n",
       "    <tr>\n",
       "      <th>phone_service</th>\n",
       "      <td>Yes</td>\n",
       "      <td>No</td>\n",
       "    </tr>\n",
       "    <tr>\n",
       "      <th>multiple_lines</th>\n",
       "      <td>Yes</td>\n",
       "      <td>No phone service</td>\n",
       "    </tr>\n",
       "    <tr>\n",
       "      <th>internet_service_type_id</th>\n",
       "      <td>1</td>\n",
       "      <td>1</td>\n",
       "    </tr>\n",
       "    <tr>\n",
       "      <th>online_security</th>\n",
       "      <td>Yes</td>\n",
       "      <td>Yes</td>\n",
       "    </tr>\n",
       "    <tr>\n",
       "      <th>online_backup</th>\n",
       "      <td>Yes</td>\n",
       "      <td>No</td>\n",
       "    </tr>\n",
       "    <tr>\n",
       "      <th>device_protection</th>\n",
       "      <td>Yes</td>\n",
       "      <td>No</td>\n",
       "    </tr>\n",
       "    <tr>\n",
       "      <th>tech_support</th>\n",
       "      <td>Yes</td>\n",
       "      <td>Yes</td>\n",
       "    </tr>\n",
       "    <tr>\n",
       "      <th>streaming_tv</th>\n",
       "      <td>Yes</td>\n",
       "      <td>Yes</td>\n",
       "    </tr>\n",
       "    <tr>\n",
       "      <th>streaming_movies</th>\n",
       "      <td>Yes</td>\n",
       "      <td>No</td>\n",
       "    </tr>\n",
       "    <tr>\n",
       "      <th>contract_type_id</th>\n",
       "      <td>3</td>\n",
       "      <td>3</td>\n",
       "    </tr>\n",
       "    <tr>\n",
       "      <th>paperless_billing</th>\n",
       "      <td>Yes</td>\n",
       "      <td>No</td>\n",
       "    </tr>\n",
       "    <tr>\n",
       "      <th>payment_type_id</th>\n",
       "      <td>2</td>\n",
       "      <td>4</td>\n",
       "    </tr>\n",
       "    <tr>\n",
       "      <th>monthly_charges</th>\n",
       "      <td>90.45</td>\n",
       "      <td>45.2</td>\n",
       "    </tr>\n",
       "    <tr>\n",
       "      <th>total_charges</th>\n",
       "      <td>5957.9</td>\n",
       "      <td>2460.55</td>\n",
       "    </tr>\n",
       "    <tr>\n",
       "      <th>churn</th>\n",
       "      <td>No</td>\n",
       "      <td>No</td>\n",
       "    </tr>\n",
       "    <tr>\n",
       "      <th>contract_type_id</th>\n",
       "      <td>3</td>\n",
       "      <td>3</td>\n",
       "    </tr>\n",
       "    <tr>\n",
       "      <th>contract_type</th>\n",
       "      <td>Two year</td>\n",
       "      <td>Two year</td>\n",
       "    </tr>\n",
       "    <tr>\n",
       "      <th>internet_service_type_id</th>\n",
       "      <td>1</td>\n",
       "      <td>1</td>\n",
       "    </tr>\n",
       "    <tr>\n",
       "      <th>internet_service_type</th>\n",
       "      <td>DSL</td>\n",
       "      <td>DSL</td>\n",
       "    </tr>\n",
       "    <tr>\n",
       "      <th>payment_type_id</th>\n",
       "      <td>2</td>\n",
       "      <td>4</td>\n",
       "    </tr>\n",
       "    <tr>\n",
       "      <th>payment_type</th>\n",
       "      <td>Mailed check</td>\n",
       "      <td>Credit card (automatic)</td>\n",
       "    </tr>\n",
       "  </tbody>\n",
       "</table>\n",
       "</div>"
      ],
      "text/plain": [
       "                                     0                        1\n",
       "customer_id                 0016-QLJIS               0017-DINOC\n",
       "gender                          Female                     Male\n",
       "senior_citizen                       0                        0\n",
       "partner                            Yes                       No\n",
       "dependents                         Yes                       No\n",
       "tenure                              65                       54\n",
       "phone_service                      Yes                       No\n",
       "multiple_lines                     Yes         No phone service\n",
       "internet_service_type_id             1                        1\n",
       "online_security                    Yes                      Yes\n",
       "online_backup                      Yes                       No\n",
       "device_protection                  Yes                       No\n",
       "tech_support                       Yes                      Yes\n",
       "streaming_tv                       Yes                      Yes\n",
       "streaming_movies                   Yes                       No\n",
       "contract_type_id                     3                        3\n",
       "paperless_billing                  Yes                       No\n",
       "payment_type_id                      2                        4\n",
       "monthly_charges                  90.45                     45.2\n",
       "total_charges                   5957.9                  2460.55\n",
       "churn                               No                       No\n",
       "contract_type_id                     3                        3\n",
       "contract_type                 Two year                 Two year\n",
       "internet_service_type_id             1                        1\n",
       "internet_service_type              DSL                      DSL\n",
       "payment_type_id                      2                        4\n",
       "payment_type              Mailed check  Credit card (automatic)"
      ]
     },
     "execution_count": 19,
     "metadata": {},
     "output_type": "execute_result"
    }
   ],
   "source": [
    "telco_churn.head(2).T"
   ]
  },
  {
   "cell_type": "markdown",
   "metadata": {},
   "source": [
    "### Summarize our data:\n",
    "- head(), describe(), info(), isnull(), value_counts(), shape, ...\n",
    "- plt.hist(), plt.boxplot()\n",
    "- document takeaways (nulls, datatypes to change, outliers, ideas for features, etc.)\n"
   ]
  },
  {
   "cell_type": "markdown",
   "metadata": {},
   "source": [
    "Import the data and inspect it for nulls, duplicate values and columns, review the data types."
   ]
  },
  {
   "cell_type": "code",
   "execution_count": 20,
   "metadata": {},
   "outputs": [
    {
     "data": {
      "text/plain": [
       "Index(['customer_id', 'gender', 'senior_citizen', 'partner', 'dependents',\n",
       "       'tenure', 'phone_service', 'multiple_lines', 'internet_service_type_id',\n",
       "       'online_security', 'online_backup', 'device_protection', 'tech_support',\n",
       "       'streaming_tv', 'streaming_movies', 'contract_type_id',\n",
       "       'paperless_billing', 'payment_type_id', 'monthly_charges',\n",
       "       'total_charges', 'churn', 'contract_type_id', 'contract_type',\n",
       "       'internet_service_type_id', 'internet_service_type', 'payment_type_id',\n",
       "       'payment_type'],\n",
       "      dtype='object')"
      ]
     },
     "execution_count": 20,
     "metadata": {},
     "output_type": "execute_result"
    }
   ],
   "source": [
    "# Displaying all of the datasets columns.\n",
    "telco_churn.columns"
   ]
  },
  {
   "cell_type": "code",
   "execution_count": 21,
   "metadata": {},
   "outputs": [
    {
     "name": "stdout",
     "output_type": "stream",
     "text": [
      "<class 'pandas.core.frame.DataFrame'>\n",
      "RangeIndex: 7043 entries, 0 to 7042\n",
      "Data columns (total 27 columns):\n",
      " #   Column                    Non-Null Count  Dtype  \n",
      "---  ------                    --------------  -----  \n",
      " 0   customer_id               7043 non-null   object \n",
      " 1   gender                    7043 non-null   object \n",
      " 2   senior_citizen            7043 non-null   int64  \n",
      " 3   partner                   7043 non-null   object \n",
      " 4   dependents                7043 non-null   object \n",
      " 5   tenure                    7043 non-null   int64  \n",
      " 6   phone_service             7043 non-null   object \n",
      " 7   multiple_lines            7043 non-null   object \n",
      " 8   internet_service_type_id  7043 non-null   int64  \n",
      " 9   online_security           7043 non-null   object \n",
      " 10  online_backup             7043 non-null   object \n",
      " 11  device_protection         7043 non-null   object \n",
      " 12  tech_support              7043 non-null   object \n",
      " 13  streaming_tv              7043 non-null   object \n",
      " 14  streaming_movies          7043 non-null   object \n",
      " 15  contract_type_id          7043 non-null   int64  \n",
      " 16  paperless_billing         7043 non-null   object \n",
      " 17  payment_type_id           7043 non-null   int64  \n",
      " 18  monthly_charges           7043 non-null   float64\n",
      " 19  total_charges             7043 non-null   object \n",
      " 20  churn                     7043 non-null   object \n",
      " 21  contract_type_id          7043 non-null   int64  \n",
      " 22  contract_type             7043 non-null   object \n",
      " 23  internet_service_type_id  7043 non-null   int64  \n",
      " 24  internet_service_type     7043 non-null   object \n",
      " 25  payment_type_id           7043 non-null   int64  \n",
      " 26  payment_type              7043 non-null   object \n",
      "dtypes: float64(1), int64(8), object(18)\n",
      "memory usage: 1.5+ MB\n"
     ]
    }
   ],
   "source": [
    "# start looking into the dataset.\n",
    "telco_churn.info()\n",
    "# appears there is no nulls within the data set. Need to check and make sure no values are nan as well!"
   ]
  },
  {
   "cell_type": "markdown",
   "metadata": {},
   "source": [
    "## Begin cleaning up the table and data"
   ]
  },
  {
   "cell_type": "code",
   "execution_count": 22,
   "metadata": {},
   "outputs": [],
   "source": [
    "#start with dropping any potential duplicate values.\n",
    "telco_churn.drop_duplicates(inplace =True)"
   ]
  },
  {
   "cell_type": "code",
   "execution_count": 23,
   "metadata": {},
   "outputs": [],
   "source": [
    "#Changing the index from numbered records to records by customer_id\n",
    "telco_churn.set_index('customer_id', drop = True, inplace = True)"
   ]
  },
  {
   "cell_type": "code",
   "execution_count": 24,
   "metadata": {},
   "outputs": [
    {
     "name": "stdout",
     "output_type": "stream",
     "text": [
      "<class 'pandas.core.frame.DataFrame'>\n",
      "Index: 7043 entries, 0016-QLJIS to 9986-BONCE\n",
      "Data columns (total 26 columns):\n",
      " #   Column                    Non-Null Count  Dtype  \n",
      "---  ------                    --------------  -----  \n",
      " 0   gender                    7043 non-null   object \n",
      " 1   senior_citizen            7043 non-null   int64  \n",
      " 2   partner                   7043 non-null   object \n",
      " 3   dependents                7043 non-null   object \n",
      " 4   tenure                    7043 non-null   int64  \n",
      " 5   phone_service             7043 non-null   object \n",
      " 6   multiple_lines            7043 non-null   object \n",
      " 7   internet_service_type_id  7043 non-null   int64  \n",
      " 8   online_security           7043 non-null   object \n",
      " 9   online_backup             7043 non-null   object \n",
      " 10  device_protection         7043 non-null   object \n",
      " 11  tech_support              7043 non-null   object \n",
      " 12  streaming_tv              7043 non-null   object \n",
      " 13  streaming_movies          7043 non-null   object \n",
      " 14  contract_type_id          7043 non-null   int64  \n",
      " 15  paperless_billing         7043 non-null   object \n",
      " 16  payment_type_id           7043 non-null   int64  \n",
      " 17  monthly_charges           7043 non-null   float64\n",
      " 18  total_charges             7043 non-null   object \n",
      " 19  churn                     7043 non-null   object \n",
      " 20  contract_type_id          7043 non-null   int64  \n",
      " 21  contract_type             7043 non-null   object \n",
      " 22  internet_service_type_id  7043 non-null   int64  \n",
      " 23  internet_service_type     7043 non-null   object \n",
      " 24  payment_type_id           7043 non-null   int64  \n",
      " 25  payment_type              7043 non-null   object \n",
      "dtypes: float64(1), int64(8), object(17)\n",
      "memory usage: 1.5+ MB\n"
     ]
    }
   ],
   "source": [
    "telco_churn.info()"
   ]
  },
  {
   "cell_type": "code",
   "execution_count": 25,
   "metadata": {},
   "outputs": [],
   "source": [
    "#are there any empty records? replaced the empty values with NaN\n",
    "telco_churn.replace(' ', np.nan, inplace = True)"
   ]
  },
  {
   "cell_type": "code",
   "execution_count": 26,
   "metadata": {},
   "outputs": [
    {
     "data": {
      "text/plain": [
       "gender                       0\n",
       "senior_citizen               0\n",
       "partner                      0\n",
       "dependents                   0\n",
       "tenure                       0\n",
       "phone_service                0\n",
       "multiple_lines               0\n",
       "internet_service_type_id     0\n",
       "online_security              0\n",
       "online_backup                0\n",
       "device_protection            0\n",
       "tech_support                 0\n",
       "streaming_tv                 0\n",
       "streaming_movies             0\n",
       "contract_type_id             0\n",
       "paperless_billing            0\n",
       "payment_type_id              0\n",
       "monthly_charges              0\n",
       "total_charges               11\n",
       "churn                        0\n",
       "contract_type_id             0\n",
       "contract_type                0\n",
       "internet_service_type_id     0\n",
       "internet_service_type        0\n",
       "payment_type_id              0\n",
       "payment_type                 0\n",
       "dtype: int64"
      ]
     },
     "execution_count": 26,
     "metadata": {},
     "output_type": "execute_result"
    }
   ],
   "source": [
    "#double checking the dataset for nulls\n",
    "# appears total charges has 11 nan values.\n",
    "nan_check = telco_churn.isna().sum()\n",
    "nan_check"
   ]
  },
  {
   "cell_type": "code",
   "execution_count": 27,
   "metadata": {},
   "outputs": [
    {
     "data": {
      "text/plain": [
       "gender                      7032\n",
       "senior_citizen              7032\n",
       "partner                     7032\n",
       "dependents                  7032\n",
       "tenure                      7032\n",
       "phone_service               7032\n",
       "multiple_lines              7032\n",
       "internet_service_type_id    7032\n",
       "online_security             7032\n",
       "online_backup               7032\n",
       "device_protection           7032\n",
       "tech_support                7032\n",
       "streaming_tv                7032\n",
       "streaming_movies            7032\n",
       "contract_type_id            7032\n",
       "paperless_billing           7032\n",
       "payment_type_id             7032\n",
       "monthly_charges             7032\n",
       "total_charges               7032\n",
       "churn                       7032\n",
       "contract_type_id            7032\n",
       "contract_type               7032\n",
       "internet_service_type_id    7032\n",
       "internet_service_type       7032\n",
       "payment_type_id             7032\n",
       "payment_type                7032\n",
       "dtype: int64"
      ]
     },
     "execution_count": 27,
     "metadata": {},
     "output_type": "execute_result"
    }
   ],
   "source": [
    "#dropped the nan values within the total charges column\n",
    "telco_churn.dropna(inplace =True)\n",
    "telco_churn.count()"
   ]
  },
  {
   "cell_type": "code",
   "execution_count": 28,
   "metadata": {},
   "outputs": [
    {
     "data": {
      "text/html": [
       "<div>\n",
       "<style scoped>\n",
       "    .dataframe tbody tr th:only-of-type {\n",
       "        vertical-align: middle;\n",
       "    }\n",
       "\n",
       "    .dataframe tbody tr th {\n",
       "        vertical-align: top;\n",
       "    }\n",
       "\n",
       "    .dataframe thead th {\n",
       "        text-align: right;\n",
       "    }\n",
       "</style>\n",
       "<table border=\"1\" class=\"dataframe\">\n",
       "  <thead>\n",
       "    <tr style=\"text-align: right;\">\n",
       "      <th></th>\n",
       "      <th>senior_citizen</th>\n",
       "      <th>tenure</th>\n",
       "      <th>internet_service_type_id</th>\n",
       "      <th>contract_type_id</th>\n",
       "      <th>payment_type_id</th>\n",
       "      <th>monthly_charges</th>\n",
       "      <th>contract_type_id</th>\n",
       "      <th>internet_service_type_id</th>\n",
       "      <th>payment_type_id</th>\n",
       "    </tr>\n",
       "  </thead>\n",
       "  <tbody>\n",
       "    <tr>\n",
       "      <th>count</th>\n",
       "      <td>7032.000000</td>\n",
       "      <td>7032.000000</td>\n",
       "      <td>7032.000000</td>\n",
       "      <td>7032.000000</td>\n",
       "      <td>7032.000000</td>\n",
       "      <td>7032.000000</td>\n",
       "      <td>7032.000000</td>\n",
       "      <td>7032.000000</td>\n",
       "      <td>7032.000000</td>\n",
       "    </tr>\n",
       "    <tr>\n",
       "      <th>mean</th>\n",
       "      <td>0.162400</td>\n",
       "      <td>32.421786</td>\n",
       "      <td>1.872582</td>\n",
       "      <td>1.688567</td>\n",
       "      <td>2.315557</td>\n",
       "      <td>64.798208</td>\n",
       "      <td>1.688567</td>\n",
       "      <td>1.872582</td>\n",
       "      <td>2.315557</td>\n",
       "    </tr>\n",
       "    <tr>\n",
       "      <th>std</th>\n",
       "      <td>0.368844</td>\n",
       "      <td>24.545260</td>\n",
       "      <td>0.737271</td>\n",
       "      <td>0.832934</td>\n",
       "      <td>1.149523</td>\n",
       "      <td>30.085974</td>\n",
       "      <td>0.832934</td>\n",
       "      <td>0.737271</td>\n",
       "      <td>1.149523</td>\n",
       "    </tr>\n",
       "    <tr>\n",
       "      <th>min</th>\n",
       "      <td>0.000000</td>\n",
       "      <td>1.000000</td>\n",
       "      <td>1.000000</td>\n",
       "      <td>1.000000</td>\n",
       "      <td>1.000000</td>\n",
       "      <td>18.250000</td>\n",
       "      <td>1.000000</td>\n",
       "      <td>1.000000</td>\n",
       "      <td>1.000000</td>\n",
       "    </tr>\n",
       "    <tr>\n",
       "      <th>25%</th>\n",
       "      <td>0.000000</td>\n",
       "      <td>9.000000</td>\n",
       "      <td>1.000000</td>\n",
       "      <td>1.000000</td>\n",
       "      <td>1.000000</td>\n",
       "      <td>35.587500</td>\n",
       "      <td>1.000000</td>\n",
       "      <td>1.000000</td>\n",
       "      <td>1.000000</td>\n",
       "    </tr>\n",
       "    <tr>\n",
       "      <th>50%</th>\n",
       "      <td>0.000000</td>\n",
       "      <td>29.000000</td>\n",
       "      <td>2.000000</td>\n",
       "      <td>1.000000</td>\n",
       "      <td>2.000000</td>\n",
       "      <td>70.350000</td>\n",
       "      <td>1.000000</td>\n",
       "      <td>2.000000</td>\n",
       "      <td>2.000000</td>\n",
       "    </tr>\n",
       "    <tr>\n",
       "      <th>75%</th>\n",
       "      <td>0.000000</td>\n",
       "      <td>55.000000</td>\n",
       "      <td>2.000000</td>\n",
       "      <td>2.000000</td>\n",
       "      <td>3.000000</td>\n",
       "      <td>89.862500</td>\n",
       "      <td>2.000000</td>\n",
       "      <td>2.000000</td>\n",
       "      <td>3.000000</td>\n",
       "    </tr>\n",
       "    <tr>\n",
       "      <th>max</th>\n",
       "      <td>1.000000</td>\n",
       "      <td>72.000000</td>\n",
       "      <td>3.000000</td>\n",
       "      <td>3.000000</td>\n",
       "      <td>4.000000</td>\n",
       "      <td>118.750000</td>\n",
       "      <td>3.000000</td>\n",
       "      <td>3.000000</td>\n",
       "      <td>4.000000</td>\n",
       "    </tr>\n",
       "  </tbody>\n",
       "</table>\n",
       "</div>"
      ],
      "text/plain": [
       "       senior_citizen       tenure  internet_service_type_id  \\\n",
       "count     7032.000000  7032.000000               7032.000000   \n",
       "mean         0.162400    32.421786                  1.872582   \n",
       "std          0.368844    24.545260                  0.737271   \n",
       "min          0.000000     1.000000                  1.000000   \n",
       "25%          0.000000     9.000000                  1.000000   \n",
       "50%          0.000000    29.000000                  2.000000   \n",
       "75%          0.000000    55.000000                  2.000000   \n",
       "max          1.000000    72.000000                  3.000000   \n",
       "\n",
       "       contract_type_id  payment_type_id  monthly_charges  contract_type_id  \\\n",
       "count       7032.000000      7032.000000      7032.000000       7032.000000   \n",
       "mean           1.688567         2.315557        64.798208          1.688567   \n",
       "std            0.832934         1.149523        30.085974          0.832934   \n",
       "min            1.000000         1.000000        18.250000          1.000000   \n",
       "25%            1.000000         1.000000        35.587500          1.000000   \n",
       "50%            1.000000         2.000000        70.350000          1.000000   \n",
       "75%            2.000000         3.000000        89.862500          2.000000   \n",
       "max            3.000000         4.000000       118.750000          3.000000   \n",
       "\n",
       "       internet_service_type_id  payment_type_id  \n",
       "count               7032.000000      7032.000000  \n",
       "mean                   1.872582         2.315557  \n",
       "std                    0.737271         1.149523  \n",
       "min                    1.000000         1.000000  \n",
       "25%                    1.000000         1.000000  \n",
       "50%                    2.000000         2.000000  \n",
       "75%                    2.000000         3.000000  \n",
       "max                    3.000000         4.000000  "
      ]
     },
     "execution_count": 28,
     "metadata": {},
     "output_type": "execute_result"
    }
   ],
   "source": [
    "# statistical details of the dataset.\n",
    "telco_churn.describe()"
   ]
  },
  {
   "cell_type": "code",
   "execution_count": 29,
   "metadata": {},
   "outputs": [],
   "source": [
    "# dropped duplicate columns.\n",
    "telco_churn = telco_churn.loc[:, ~telco_churn.columns.duplicated()]"
   ]
  },
  {
   "cell_type": "code",
   "execution_count": 30,
   "metadata": {},
   "outputs": [],
   "source": [
    "#total_charges was originally the dtype object, but needs to be changed to a float64.\n",
    "telco_churn = telco_churn.astype({'total_charges': 'float64'})"
   ]
  },
  {
   "cell_type": "code",
   "execution_count": 31,
   "metadata": {},
   "outputs": [
    {
     "name": "stdout",
     "output_type": "stream",
     "text": [
      "<class 'pandas.core.frame.DataFrame'>\n",
      "Index: 7032 entries, 0016-QLJIS to 9986-BONCE\n",
      "Data columns (total 23 columns):\n",
      " #   Column                    Non-Null Count  Dtype  \n",
      "---  ------                    --------------  -----  \n",
      " 0   gender                    7032 non-null   object \n",
      " 1   senior_citizen            7032 non-null   int64  \n",
      " 2   partner                   7032 non-null   object \n",
      " 3   dependents                7032 non-null   object \n",
      " 4   tenure                    7032 non-null   int64  \n",
      " 5   phone_service             7032 non-null   object \n",
      " 6   multiple_lines            7032 non-null   object \n",
      " 7   internet_service_type_id  7032 non-null   int64  \n",
      " 8   online_security           7032 non-null   object \n",
      " 9   online_backup             7032 non-null   object \n",
      " 10  device_protection         7032 non-null   object \n",
      " 11  tech_support              7032 non-null   object \n",
      " 12  streaming_tv              7032 non-null   object \n",
      " 13  streaming_movies          7032 non-null   object \n",
      " 14  contract_type_id          7032 non-null   int64  \n",
      " 15  paperless_billing         7032 non-null   object \n",
      " 16  payment_type_id           7032 non-null   int64  \n",
      " 17  monthly_charges           7032 non-null   float64\n",
      " 18  total_charges             7032 non-null   float64\n",
      " 19  churn                     7032 non-null   object \n",
      " 20  contract_type             7032 non-null   object \n",
      " 21  internet_service_type     7032 non-null   object \n",
      " 22  payment_type              7032 non-null   object \n",
      "dtypes: float64(2), int64(5), object(16)\n",
      "memory usage: 1.3+ MB\n"
     ]
    }
   ],
   "source": [
    "telco_churn.info()"
   ]
  },
  {
   "cell_type": "code",
   "execution_count": 32,
   "metadata": {},
   "outputs": [
    {
     "data": {
      "text/plain": [
       "Index(['gender', 'senior_citizen', 'partner', 'dependents', 'tenure',\n",
       "       'phone_service', 'multiple_lines', 'internet_service_type_id',\n",
       "       'online_security', 'online_backup', 'device_protection', 'tech_support',\n",
       "       'streaming_tv', 'streaming_movies', 'contract_type_id',\n",
       "       'paperless_billing', 'payment_type_id', 'monthly_charges',\n",
       "       'total_charges', 'churn', 'contract_type', 'internet_service_type',\n",
       "       'payment_type'],\n",
       "      dtype='object')"
      ]
     },
     "execution_count": 32,
     "metadata": {},
     "output_type": "execute_result"
    }
   ],
   "source": [
    "telco_columns = telco_churn.columns\n",
    "telco_columns"
   ]
  },
  {
   "cell_type": "code",
   "execution_count": 33,
   "metadata": {},
   "outputs": [
    {
     "data": {
      "image/png": "[encoded data removed]",
      "text/plain": [
       "<Figure size 432x288 with 1 Axes>"
      ]
     },
     "metadata": {
      "needs_background": "light"
     },
     "output_type": "display_data"
    },
    {
     "data": {
      "image/png": "[encoded data removed]",
      "text/plain": [
       "<Figure size 432x288 with 1 Axes>"
      ]
     },
     "metadata": {
      "needs_background": "light"
     },
     "output_type": "display_data"
    },
    {
     "data": {
      "image/png": "[encoded data removed]",
      "text/plain": [
       "<Figure size 432x288 with 1 Axes>"
      ]
     },
     "metadata": {
      "needs_background": "light"
     },
     "output_type": "display_data"
    },
    {
     "data": {
      "image/png": "[encoded data removed]",
      "text/plain": [
       "<Figure size 432x288 with 1 Axes>"
      ]
     },
     "metadata": {
      "needs_background": "light"
     },
     "output_type": "display_data"
    },
    {
     "data": {
      "image/png": "[encoded data removed]",
      "text/plain": [
       "<Figure size 432x288 with 1 Axes>"
      ]
     },
     "metadata": {
      "needs_background": "light"
     },
     "output_type": "display_data"
    },
    {
     "data": {
      "image/png": "[encoded data removed]",
      "text/plain": [
       "<Figure size 432x288 with 1 Axes>"
      ]
     },
     "metadata": {
      "needs_background": "light"
     },
     "output_type": "display_data"
    },
    {
     "data": {
      "image/png": "[encoded data removed]",
      "text/plain": [
       "<Figure size 432x288 with 1 Axes>"
      ]
     },
     "metadata": {
      "needs_background": "light"
     },
     "output_type": "display_data"
    },
    {
     "data": {
      "image/png": "[encoded data removed]",
      "text/plain": [
       "<Figure size 432x288 with 1 Axes>"
      ]
     },
     "metadata": {
      "needs_background": "light"
     },
     "output_type": "display_data"
    },
    {
     "data": {
      "image/png": "[encoded data removed]",
      "text/plain": [
       "<Figure size 432x288 with 1 Axes>"
      ]
     },
     "metadata": {
      "needs_background": "light"
     },
     "output_type": "display_data"
    },
    {
     "data": {
      "image/png": "[encoded data removed]",
      "text/plain": [
       "<Figure size 432x288 with 1 Axes>"
      ]
     },
     "metadata": {
      "needs_background": "light"
     },
     "output_type": "display_data"
    },
    {
     "data": {
      "image/png": "[encoded data removed]",
      "text/plain": [
       "<Figure size 432x288 with 1 Axes>"
      ]
     },
     "metadata": {
      "needs_background": "light"
     },
     "output_type": "display_data"
    },
    {
     "data": {
      "image/png": "[encoded data removed]",
      "text/plain": [
       "<Figure size 432x288 with 1 Axes>"
      ]
     },
     "metadata": {
      "needs_background": "light"
     },
     "output_type": "display_data"
    },
    {
     "data": {
      "image/png": "[encoded data removed]",
      "text/plain": [
       "<Figure size 432x288 with 1 Axes>"
      ]
     },
     "metadata": {
      "needs_background": "light"
     },
     "output_type": "display_data"
    },
    {
     "data": {
      "image/png": "[encoded data removed]",
      "text/plain": [
       "<Figure size 432x288 with 1 Axes>"
      ]
     },
     "metadata": {
      "needs_background": "light"
     },
     "output_type": "display_data"
    },
    {
     "data": {
      "image/png": "[encoded data removed]",
      "text/plain": [
       "<Figure size 432x288 with 1 Axes>"
      ]
     },
     "metadata": {
      "needs_background": "light"
     },
     "output_type": "display_data"
    },
    {
     "data": {
      "image/png": "[encoded data removed]",
      "text/plain": [
       "<Figure size 432x288 with 1 Axes>"
      ]
     },
     "metadata": {
      "needs_background": "light"
     },
     "output_type": "display_data"
    },
    {
     "data": {
      "image/png": "[encoded data removed]",
      "text/plain": [
       "<Figure size 432x288 with 1 Axes>"
      ]
     },
     "metadata": {
      "needs_background": "light"
     },
     "output_type": "display_data"
    },
    {
     "data": {
      "image/png": "[encoded data removed]",
      "text/plain": [
       "<Figure size 432x288 with 1 Axes>"
      ]
     },
     "metadata": {
      "needs_background": "light"
     },
     "output_type": "display_data"
    },
    {
     "data": {
      "image/png": "[encoded data removed]",
      "text/plain": [
       "<Figure size 432x288 with 1 Axes>"
      ]
     },
     "metadata": {
      "needs_background": "light"
     },
     "output_type": "display_data"
    },
    {
     "data": {
      "image/png": "[encoded data removed]",
      "text/plain": [
       "<Figure size 432x288 with 1 Axes>"
      ]
     },
     "metadata": {
      "needs_background": "light"
     },
     "output_type": "display_data"
    },
    {
     "data": {
      "image/png": "[encoded data removed]",
      "text/plain": [
       "<Figure size 432x288 with 1 Axes>"
      ]
     },
     "metadata": {
      "needs_background": "light"
     },
     "output_type": "display_data"
    },
    {
     "data": {
      "image/png": "[encoded data removed]",
      "text/plain": [
       "<Figure size 432x288 with 1 Axes>"
      ]
     },
     "metadata": {
      "needs_background": "light"
     },
     "output_type": "display_data"
    },
    {
     "data": {
      "image/png": "[encoded data removed]",
      "text/plain": [
       "<Figure size 432x288 with 1 Axes>"
      ]
     },
     "metadata": {
      "needs_background": "light"
     },
     "output_type": "display_data"
    }
   ],
   "source": [
    "for col in telco_columns:\n",
    "    plt.hist(telco_churn[col])\n",
    "    plt.title(f'Distribution of {col}')\n",
    "    plt.show()"
   ]
  },
  {
   "cell_type": "code",
   "execution_count": 34,
   "metadata": {},
   "outputs": [
    {
     "name": "stdout",
     "output_type": "stream",
     "text": [
      "<class 'pandas.core.frame.DataFrame'>\n",
      "Index: 7032 entries, 0016-QLJIS to 9986-BONCE\n",
      "Data columns (total 23 columns):\n",
      " #   Column                    Non-Null Count  Dtype  \n",
      "---  ------                    --------------  -----  \n",
      " 0   gender                    7032 non-null   object \n",
      " 1   senior_citizen            7032 non-null   int64  \n",
      " 2   partner                   7032 non-null   object \n",
      " 3   dependents                7032 non-null   object \n",
      " 4   tenure                    7032 non-null   int64  \n",
      " 5   phone_service             7032 non-null   object \n",
      " 6   multiple_lines            7032 non-null   object \n",
      " 7   internet_service_type_id  7032 non-null   int64  \n",
      " 8   online_security           7032 non-null   object \n",
      " 9   online_backup             7032 non-null   object \n",
      " 10  device_protection         7032 non-null   object \n",
      " 11  tech_support              7032 non-null   object \n",
      " 12  streaming_tv              7032 non-null   object \n",
      " 13  streaming_movies          7032 non-null   object \n",
      " 14  contract_type_id          7032 non-null   int64  \n",
      " 15  paperless_billing         7032 non-null   object \n",
      " 16  payment_type_id           7032 non-null   int64  \n",
      " 17  monthly_charges           7032 non-null   float64\n",
      " 18  total_charges             7032 non-null   float64\n",
      " 19  churn                     7032 non-null   object \n",
      " 20  contract_type             7032 non-null   object \n",
      " 21  internet_service_type     7032 non-null   object \n",
      " 22  payment_type              7032 non-null   object \n",
      "dtypes: float64(2), int64(5), object(16)\n",
      "memory usage: 1.3+ MB\n"
     ]
    }
   ],
   "source": [
    "telco_churn.info()"
   ]
  },
  {
   "cell_type": "code",
   "execution_count": 35,
   "metadata": {},
   "outputs": [],
   "source": [
    "#Changing binary str variables to numerical based value of 1 and 0."
   ]
  },
  {
   "cell_type": "code",
   "execution_count": 36,
   "metadata": {},
   "outputs": [],
   "source": [
    "def create_dummies(df):\n",
    "    '''\n",
    "    This function is used to create dummy columns for my non binary columns\n",
    "    '''\n",
    "    # create dummies for payment_type, internet_service_type, and contract_type\n",
    "    payment_dummies = pd.get_dummies(df.payment_type, drop_first=False)\n",
    "    internet_dummies = pd.get_dummies(df.internet_service_type, drop_first=False)\n",
    "    contract_dummies = pd.get_dummies(df.contract_type, drop_first=False)\n",
    "\n",
    "    # now we concatenate our dummy dataframes with the original\n",
    "    df = pd.concat([df, payment_dummies, internet_dummies, contract_dummies], axis=1)\n",
    "    df = df.rename(columns = {'None': 'no_internet'})\n",
    "    \n",
    "\n",
    "    # now I am dropping all my original string columns that I made dummies with and dropping\n",
    "    #the type_id columns since they are duplicates of the string column\n",
    "    df = df.drop(columns=['contract_type', 'internet_service_type', 'no_internet'])\n",
    "    return df"
   ]
  },
  {
   "cell_type": "code",
   "execution_count": 37,
   "metadata": {},
   "outputs": [],
   "source": [
    "#implementing the create dummies function on the df.\n",
    "telco_churn = create_dummies(telco_churn)"
   ]
  },
  {
   "cell_type": "code",
   "execution_count": 38,
   "metadata": {},
   "outputs": [],
   "source": [
    "#replacing several fields from str values to numerical based values.\n",
    "telco_churn.gender = telco_churn.gender.replace({'Female': 1, 'Male':0})\n",
    "telco_churn.partner = telco_churn.partner.replace({'Yes': 1, 'No':0})\n",
    "telco_churn.dependents = telco_churn.dependents.replace({'Yes': 1, 'No':0})\n",
    "telco_churn.churn = telco_churn.churn.replace({'Yes': 1, 'No':0})\n",
    "telco_churn.phone_service= telco_churn.phone_service.replace({'Yes': 1, 'No':0})\n",
    "telco_churn.paperless_billing = telco_churn.paperless_billing.replace({'Yes': 1, 'No':0})"
   ]
  },
  {
   "cell_type": "code",
   "execution_count": 39,
   "metadata": {},
   "outputs": [],
   "source": [
    "#created a new field to change tenure from months to year.\n",
    "telco_churn['tenure_year'] =  round(telco_churn['tenure']/12,0)"
   ]
  },
  {
   "cell_type": "code",
   "execution_count": 40,
   "metadata": {},
   "outputs": [],
   "source": [
    "#dropping original fields and renaming fields.\n",
    "telco_churn.drop(columns = ['multiple_lines','online_security', 'online_backup', 'device_protection', 'tech_support','streaming_tv', 'streaming_movies','paperless_billing','contract_type_id','paperless_billing', 'payment_type_id','payment_type'], inplace =True)\n",
    "telco_churn = telco_churn.rename(columns = {'tenure': 'tenure_months', 'Bank transfer (automatic)': 'bank_transfer_auto', 'Credit card (automatic)': 'credit_card_auto', 'Mailed check': 'mailed_check','Fiber optic': 'fiber_optic', 'Electronic check': 'electronic_check'})"
   ]
  },
  {
   "cell_type": "code",
   "execution_count": 41,
   "metadata": {},
   "outputs": [],
   "source": [
    "#creating new field representing autopay and dropping payment type fields.\n",
    "telco_churn['auto_pay'] = telco_churn['bank_transfer_auto'] + telco_churn['credit_card_auto']\n",
    "telco_churn.drop(columns = ['bank_transfer_auto', 'credit_card_auto',  'mailed_check','electronic_check'], inplace = True)"
   ]
  },
  {
   "cell_type": "code",
   "execution_count": 42,
   "metadata": {},
   "outputs": [
    {
     "data": {
      "text/plain": [
       "['gender',\n",
       " 'senior_citizen',\n",
       " 'partner',\n",
       " 'dependents',\n",
       " 'tenure_months',\n",
       " 'phone_service',\n",
       " 'internet_service_type_id',\n",
       " 'monthly_charges',\n",
       " 'total_charges',\n",
       " 'churn',\n",
       " 'DSL',\n",
       " 'fiber_optic',\n",
       " 'Month-to-month',\n",
       " 'One year',\n",
       " 'Two year',\n",
       " 'tenure_year',\n",
       " 'auto_pay']"
      ]
     },
     "execution_count": 42,
     "metadata": {},
     "output_type": "execute_result"
    }
   ],
   "source": [
    "list(telco_churn.columns)"
   ]
  },
  {
   "cell_type": "code",
   "execution_count": 43,
   "metadata": {},
   "outputs": [
    {
     "data": {
      "text/plain": [
       "churn                       1.000000\n",
       "Month-to-month              0.404565\n",
       "fiber_optic                 0.307463\n",
       "monthly_charges             0.192858\n",
       "senior_citizen              0.150541\n",
       "phone_service               0.011691\n",
       "gender                      0.008545\n",
       "internet_service_type_id   -0.047097\n",
       "DSL                        -0.124141\n",
       "partner                    -0.149982\n",
       "dependents                 -0.163128\n",
       "One year                   -0.178225\n",
       "total_charges              -0.199484\n",
       "auto_pay                   -0.210420\n",
       "Two year                   -0.301552\n",
       "tenure_year                -0.353056\n",
       "tenure_months              -0.354049\n",
       "Name: churn, dtype: float64"
      ]
     },
     "execution_count": 43,
     "metadata": {},
     "output_type": "execute_result"
    }
   ],
   "source": [
    "original_df_corr = telco_churn.corr()\n",
    "original_df_corr['churn'].sort_values(ascending=False)"
   ]
  },
  {
   "cell_type": "code",
   "execution_count": 44,
   "metadata": {},
   "outputs": [
    {
     "data": {
      "text/plain": [
       "churn                       1.000000\n",
       "Month-to-month              0.404565\n",
       "fiber_optic                 0.307463\n",
       "monthly_charges             0.192858\n",
       "senior_citizen              0.150541\n",
       "phone_service               0.011691\n",
       "gender                      0.008545\n",
       "internet_service_type_id   -0.047097\n",
       "DSL                        -0.124141\n",
       "partner                    -0.149982\n",
       "dependents                 -0.163128\n",
       "One year                   -0.178225\n",
       "total_charges              -0.199484\n",
       "auto_pay                   -0.210420\n",
       "Two year                   -0.301552\n",
       "tenure_year                -0.353056\n",
       "tenure_months              -0.354049\n",
       "Name: churn, dtype: float64"
      ]
     },
     "execution_count": 44,
     "metadata": {},
     "output_type": "execute_result"
    }
   ],
   "source": [
    "#sort values and create variable which has the corr features.\n",
    "og_cols= original_df_corr['churn'].sort_values(ascending=False)\n",
    "og_cols"
   ]
  },
  {
   "cell_type": "code",
   "execution_count": 45,
   "metadata": {},
   "outputs": [
    {
     "data": {
      "text/plain": [
       "['churn',\n",
       " 'Month-to-month',\n",
       " 'fiber_optic',\n",
       " 'monthly_charges',\n",
       " 'total_charges',\n",
       " 'auto_pay',\n",
       " 'Two year',\n",
       " 'tenure_year',\n",
       " 'tenure_months']"
      ]
     },
     "execution_count": 45,
     "metadata": {},
     "output_type": "execute_result"
    }
   ],
   "source": [
    "# variable which creates a list of features whos correlation percentages greater than  18 % and less than 18 %.\n",
    "column_list = list(og_cols[og_cols > .18].index)  + list(og_cols[og_cols < (-.18)].index)\n",
    "column_list"
   ]
  },
  {
   "cell_type": "code",
   "execution_count": 46,
   "metadata": {},
   "outputs": [
    {
     "data": {
      "image/png": "[encoded data removed]",
      "text/plain": [
       "<Figure size 432x288 with 1 Axes>"
      ]
     },
     "metadata": {
      "needs_background": "light"
     },
     "output_type": "display_data"
    }
   ],
   "source": [
    "telco_churn.churn.value_counts().sort_index().plot.bar()\n",
    "churn_rate = telco_churn.churn.mean()\n",
    "plt.title(f'Overall churn rate: {churn_rate:.2%}')\n",
    "plt.xlabel('churn')\n",
    "plt.show()"
   ]
  },
  {
   "cell_type": "code",
   "execution_count": 47,
   "metadata": {},
   "outputs": [],
   "source": [
    "# Train size: 20% test, 80% train_validate, looking at the 80% train_validate.\n",
    "# 80% train_validate: 30% validate, 70% train, looking at the 70\n"
   ]
  },
  {
   "cell_type": "code",
   "execution_count": 48,
   "metadata": {},
   "outputs": [],
   "source": [
    "#function created to split the data into a training, validate and test df\n",
    "def telco_split(df):\n",
    "    '''\n",
    "    This function take in the telco_churn data acquired by get_telco_data,\n",
    "    performs a split and stratifies churn column.\n",
    "    Returns train, validate, and test dfs.\n",
    "    '''\n",
    "    #20% test, 80% train_validate\n",
    "    train_validate, test = train_test_split(df, test_size=0.2, \n",
    "                                        random_state=1349, \n",
    "                                        stratify=df.churn)\n",
    "    # 80% train_validate: 30% validate, 70% train.\n",
    "    train, validate = train_test_split(train_validate, train_size=0.7, \n",
    "                                   random_state=1349, \n",
    "                                   stratify=train_validate.churn)\n",
    "    return train, validate, test\n",
    "\n",
    "\n",
    "\n"
   ]
  },
  {
   "cell_type": "code",
   "execution_count": 49,
   "metadata": {},
   "outputs": [],
   "source": [
    "#Splitting the data in train, validate and test\n",
    "train, validate, test = telco_split(telco_churn)"
   ]
  },
  {
   "cell_type": "code",
   "execution_count": 50,
   "metadata": {},
   "outputs": [
    {
     "data": {
      "text/plain": [
       "((3937, 17), (1688, 17), (1407, 17))"
      ]
     },
     "execution_count": 50,
     "metadata": {},
     "output_type": "execute_result"
    }
   ],
   "source": [
    "# Looking at the row and columns of the DF\n",
    "train.shape, validate.shape, test.shape"
   ]
  },
  {
   "cell_type": "code",
   "execution_count": 51,
   "metadata": {},
   "outputs": [
    {
     "data": {
      "image/png": "[encoded data removed]",
      "text/plain": [
       "<Figure size 432x288 with 1 Axes>"
      ]
     },
     "metadata": {
      "needs_background": "light"
     },
     "output_type": "display_data"
    }
   ],
   "source": [
    "#looking at overall churn rate.\n",
    "train.churn.value_counts().sort_index().plot.bar()\n",
    "churn_rate = train.churn.mean()\n",
    "plt.title(f'Overall churn rate: {churn_rate:.2%}')\n",
    "plt.xlabel('churn')\n",
    "plt.show()"
   ]
  },
  {
   "cell_type": "code",
   "execution_count": 52,
   "metadata": {},
   "outputs": [
    {
     "data": {
      "text/html": [
       "<div>\n",
       "<style scoped>\n",
       "    .dataframe tbody tr th:only-of-type {\n",
       "        vertical-align: middle;\n",
       "    }\n",
       "\n",
       "    .dataframe tbody tr th {\n",
       "        vertical-align: top;\n",
       "    }\n",
       "\n",
       "    .dataframe thead th {\n",
       "        text-align: right;\n",
       "    }\n",
       "</style>\n",
       "<table border=\"1\" class=\"dataframe\">\n",
       "  <thead>\n",
       "    <tr style=\"text-align: right;\">\n",
       "      <th></th>\n",
       "      <th>0</th>\n",
       "      <th>1</th>\n",
       "      <th>2</th>\n",
       "      <th>3</th>\n",
       "      <th>4</th>\n",
       "      <th>5</th>\n",
       "      <th>6</th>\n",
       "      <th>7</th>\n",
       "      <th>8</th>\n",
       "      <th>9</th>\n",
       "      <th>10</th>\n",
       "      <th>11</th>\n",
       "      <th>12</th>\n",
       "      <th>13</th>\n",
       "      <th>14</th>\n",
       "      <th>15</th>\n",
       "      <th>16</th>\n",
       "    </tr>\n",
       "  </thead>\n",
       "  <tbody>\n",
       "    <tr>\n",
       "      <th>index</th>\n",
       "      <td>gender</td>\n",
       "      <td>senior_citizen</td>\n",
       "      <td>partner</td>\n",
       "      <td>dependents</td>\n",
       "      <td>tenure_months</td>\n",
       "      <td>phone_service</td>\n",
       "      <td>internet_service_type_id</td>\n",
       "      <td>monthly_charges</td>\n",
       "      <td>total_charges</td>\n",
       "      <td>churn</td>\n",
       "      <td>DSL</td>\n",
       "      <td>fiber_optic</td>\n",
       "      <td>Month-to-month</td>\n",
       "      <td>One year</td>\n",
       "      <td>Two year</td>\n",
       "      <td>tenure_year</td>\n",
       "      <td>auto_pay</td>\n",
       "    </tr>\n",
       "    <tr>\n",
       "      <th>gender</th>\n",
       "      <td>1</td>\n",
       "      <td>0.0189389</td>\n",
       "      <td>4.13239e-05</td>\n",
       "      <td>-0.019311</td>\n",
       "      <td>-0.00971591</td>\n",
       "      <td>-0.00613821</td>\n",
       "      <td>0.00188388</td>\n",
       "      <td>0.0172216</td>\n",
       "      <td>-0.00134437</td>\n",
       "      <td>0.00665888</td>\n",
       "      <td>-0.0101343</td>\n",
       "      <td>0.0165195</td>\n",
       "      <td>0.0114661</td>\n",
       "      <td>-0.00398682</td>\n",
       "      <td>-0.00955784</td>\n",
       "      <td>-0.0100687</td>\n",
       "      <td>0.00826339</td>\n",
       "    </tr>\n",
       "    <tr>\n",
       "      <th>senior_citizen</th>\n",
       "      <td>0.0189389</td>\n",
       "      <td>1</td>\n",
       "      <td>0.00498783</td>\n",
       "      <td>-0.208847</td>\n",
       "      <td>0.0190898</td>\n",
       "      <td>0.00415726</td>\n",
       "      <td>-0.0278047</td>\n",
       "      <td>0.205728</td>\n",
       "      <td>0.0992579</td>\n",
       "      <td>0.139556</td>\n",
       "      <td>-0.108389</td>\n",
       "      <td>0.247757</td>\n",
       "      <td>0.130232</td>\n",
       "      <td>-0.0464107</td>\n",
       "      <td>-0.107466</td>\n",
       "      <td>0.0219789</td>\n",
       "      <td>-0.0246559</td>\n",
       "    </tr>\n",
       "    <tr>\n",
       "      <th>partner</th>\n",
       "      <td>4.13239e-05</td>\n",
       "      <td>0.00498783</td>\n",
       "      <td>1</td>\n",
       "      <td>0.451373</td>\n",
       "      <td>0.380911</td>\n",
       "      <td>0.0387024</td>\n",
       "      <td>0.00380386</td>\n",
       "      <td>0.118643</td>\n",
       "      <td>0.324977</td>\n",
       "      <td>-0.135987</td>\n",
       "      <td>-0.0176173</td>\n",
       "      <td>0.0279331</td>\n",
       "      <td>-0.277372</td>\n",
       "      <td>0.0759212</td>\n",
       "      <td>0.251061</td>\n",
       "      <td>0.37872</td>\n",
       "      <td>0.152424</td>\n",
       "    </tr>\n",
       "    <tr>\n",
       "      <th>dependents</th>\n",
       "      <td>-0.019311</td>\n",
       "      <td>-0.208847</td>\n",
       "      <td>0.451373</td>\n",
       "      <td>1</td>\n",
       "      <td>0.157648</td>\n",
       "      <td>0.00825108</td>\n",
       "      <td>0.0381684</td>\n",
       "      <td>-0.084058</td>\n",
       "      <td>0.070202</td>\n",
       "      <td>-0.149845</td>\n",
       "      <td>0.0390009</td>\n",
       "      <td>-0.130893</td>\n",
       "      <td>-0.206233</td>\n",
       "      <td>0.0551877</td>\n",
       "      <td>0.187891</td>\n",
       "      <td>0.157602</td>\n",
       "      <td>0.084169</td>\n",
       "    </tr>\n",
       "    <tr>\n",
       "      <th>tenure_months</th>\n",
       "      <td>-0.00971591</td>\n",
       "      <td>0.0190898</td>\n",
       "      <td>0.380911</td>\n",
       "      <td>0.157648</td>\n",
       "      <td>1</td>\n",
       "      <td>0.0233355</td>\n",
       "      <td>-0.0106796</td>\n",
       "      <td>0.252441</td>\n",
       "      <td>0.826046</td>\n",
       "      <td>-0.350081</td>\n",
       "      <td>-0.0098843</td>\n",
       "      <td>0.0346646</td>\n",
       "      <td>-0.655901</td>\n",
       "      <td>0.205849</td>\n",
       "      <td>0.568227</td>\n",
       "      <td>0.99212</td>\n",
       "      <td>0.399952</td>\n",
       "    </tr>\n",
       "    <tr>\n",
       "      <th>phone_service</th>\n",
       "      <td>-0.00613821</td>\n",
       "      <td>0.00415726</td>\n",
       "      <td>0.0387024</td>\n",
       "      <td>0.00825108</td>\n",
       "      <td>0.0233355</td>\n",
       "      <td>1</td>\n",
       "      <td>0.371188</td>\n",
       "      <td>0.2398</td>\n",
       "      <td>0.117261</td>\n",
       "      <td>-0.0117801</td>\n",
       "      <td>-0.434287</td>\n",
       "      <td>0.277393</td>\n",
       "      <td>-0.0133442</td>\n",
       "      <td>-0.0152245</td>\n",
       "      <td>0.0303377</td>\n",
       "      <td>0.0224008</td>\n",
       "      <td>0.00506884</td>\n",
       "    </tr>\n",
       "    <tr>\n",
       "      <th>internet_service_type_id</th>\n",
       "      <td>0.00188388</td>\n",
       "      <td>-0.0278047</td>\n",
       "      <td>0.00380386</td>\n",
       "      <td>0.0381684</td>\n",
       "      <td>-0.0106796</td>\n",
       "      <td>0.371188</td>\n",
       "      <td>1</td>\n",
       "      <td>-0.332112</td>\n",
       "      <td>-0.167151</td>\n",
       "      <td>-0.058992</td>\n",
       "      <td>-0.854706</td>\n",
       "      <td>0.146507</td>\n",
       "      <td>-0.0948841</td>\n",
       "      <td>0.00158353</td>\n",
       "      <td>0.109473</td>\n",
       "      <td>-0.012165</td>\n",
       "      <td>-0.0439347</td>\n",
       "    </tr>\n",
       "    <tr>\n",
       "      <th>monthly_charges</th>\n",
       "      <td>0.0172216</td>\n",
       "      <td>0.205728</td>\n",
       "      <td>0.118643</td>\n",
       "      <td>-0.084058</td>\n",
       "      <td>0.252441</td>\n",
       "      <td>0.2398</td>\n",
       "      <td>-0.332112</td>\n",
       "      <td>1</td>\n",
       "      <td>0.65592</td>\n",
       "      <td>0.196942</td>\n",
       "      <td>-0.15436</td>\n",
       "      <td>0.786402</td>\n",
       "      <td>0.0433194</td>\n",
       "      <td>0.00397881</td>\n",
       "      <td>-0.0545282</td>\n",
       "      <td>0.250036</td>\n",
       "      <td>0.0625911</td>\n",
       "    </tr>\n",
       "    <tr>\n",
       "      <th>total_charges</th>\n",
       "      <td>-0.00134437</td>\n",
       "      <td>0.0992579</td>\n",
       "      <td>0.324977</td>\n",
       "      <td>0.070202</td>\n",
       "      <td>0.826046</td>\n",
       "      <td>0.117261</td>\n",
       "      <td>-0.167151</td>\n",
       "      <td>0.65592</td>\n",
       "      <td>1</td>\n",
       "      <td>-0.194262</td>\n",
       "      <td>-0.0665758</td>\n",
       "      <td>0.374618</td>\n",
       "      <td>-0.456423</td>\n",
       "      <td>0.168379</td>\n",
       "      <td>0.371102</td>\n",
       "      <td>0.818817</td>\n",
       "      <td>0.309239</td>\n",
       "    </tr>\n",
       "    <tr>\n",
       "      <th>churn</th>\n",
       "      <td>0.00665888</td>\n",
       "      <td>0.139556</td>\n",
       "      <td>-0.135987</td>\n",
       "      <td>-0.149845</td>\n",
       "      <td>-0.350081</td>\n",
       "      <td>-0.0117801</td>\n",
       "      <td>-0.058992</td>\n",
       "      <td>0.196942</td>\n",
       "      <td>-0.194262</td>\n",
       "      <td>1</td>\n",
       "      <td>-0.118365</td>\n",
       "      <td>0.312992</td>\n",
       "      <td>0.406028</td>\n",
       "      <td>-0.178959</td>\n",
       "      <td>-0.301909</td>\n",
       "      <td>-0.348994</td>\n",
       "      <td>-0.216455</td>\n",
       "    </tr>\n",
       "    <tr>\n",
       "      <th>DSL</th>\n",
       "      <td>-0.0101343</td>\n",
       "      <td>-0.108389</td>\n",
       "      <td>-0.0176173</td>\n",
       "      <td>0.0390009</td>\n",
       "      <td>-0.0098843</td>\n",
       "      <td>-0.434287</td>\n",
       "      <td>-0.854706</td>\n",
       "      <td>-0.15436</td>\n",
       "      <td>-0.0665758</td>\n",
       "      <td>-0.118365</td>\n",
       "      <td>1</td>\n",
       "      <td>-0.638731</td>\n",
       "      <td>-0.0397084</td>\n",
       "      <td>0.0334407</td>\n",
       "      <td>0.0141085</td>\n",
       "      <td>-0.00816509</td>\n",
       "      <td>0.0673915</td>\n",
       "    </tr>\n",
       "    <tr>\n",
       "      <th>fiber_optic</th>\n",
       "      <td>0.0165195</td>\n",
       "      <td>0.247757</td>\n",
       "      <td>0.0279331</td>\n",
       "      <td>-0.130893</td>\n",
       "      <td>0.0346646</td>\n",
       "      <td>0.277393</td>\n",
       "      <td>0.146507</td>\n",
       "      <td>0.786402</td>\n",
       "      <td>0.374618</td>\n",
       "      <td>0.312992</td>\n",
       "      <td>-0.638731</td>\n",
       "      <td>1</td>\n",
       "      <td>0.216305</td>\n",
       "      <td>-0.0660709</td>\n",
       "      <td>-0.189147</td>\n",
       "      <td>0.0335903</td>\n",
       "      <td>-0.0632998</td>\n",
       "    </tr>\n",
       "    <tr>\n",
       "      <th>Month-to-month</th>\n",
       "      <td>0.0114661</td>\n",
       "      <td>0.130232</td>\n",
       "      <td>-0.277372</td>\n",
       "      <td>-0.206233</td>\n",
       "      <td>-0.655901</td>\n",
       "      <td>-0.0133442</td>\n",
       "      <td>-0.0948841</td>\n",
       "      <td>0.0433194</td>\n",
       "      <td>-0.456423</td>\n",
       "      <td>0.406028</td>\n",
       "      <td>-0.0397084</td>\n",
       "      <td>0.216305</td>\n",
       "      <td>1</td>\n",
       "      <td>-0.576297</td>\n",
       "      <td>-0.612463</td>\n",
       "      <td>-0.648742</td>\n",
       "      <td>-0.334311</td>\n",
       "    </tr>\n",
       "    <tr>\n",
       "      <th>One year</th>\n",
       "      <td>-0.00398682</td>\n",
       "      <td>-0.0464107</td>\n",
       "      <td>0.0759212</td>\n",
       "      <td>0.0551877</td>\n",
       "      <td>0.205849</td>\n",
       "      <td>-0.0152245</td>\n",
       "      <td>0.00158353</td>\n",
       "      <td>0.00397881</td>\n",
       "      <td>0.168379</td>\n",
       "      <td>-0.178959</td>\n",
       "      <td>0.0334407</td>\n",
       "      <td>-0.0660709</td>\n",
       "      <td>-0.576297</td>\n",
       "      <td>1</td>\n",
       "      <td>-0.293067</td>\n",
       "      <td>0.200954</td>\n",
       "      <td>0.104766</td>\n",
       "    </tr>\n",
       "    <tr>\n",
       "      <th>Two year</th>\n",
       "      <td>-0.00955784</td>\n",
       "      <td>-0.107466</td>\n",
       "      <td>0.251061</td>\n",
       "      <td>0.187891</td>\n",
       "      <td>0.568227</td>\n",
       "      <td>0.0303377</td>\n",
       "      <td>0.109473</td>\n",
       "      <td>-0.0545282</td>\n",
       "      <td>0.371102</td>\n",
       "      <td>-0.301909</td>\n",
       "      <td>0.0141085</td>\n",
       "      <td>-0.189147</td>\n",
       "      <td>-0.612463</td>\n",
       "      <td>-0.293067</td>\n",
       "      <td>1</td>\n",
       "      <td>0.564587</td>\n",
       "      <td>0.289774</td>\n",
       "    </tr>\n",
       "    <tr>\n",
       "      <th>tenure_year</th>\n",
       "      <td>-0.0100687</td>\n",
       "      <td>0.0219789</td>\n",
       "      <td>0.37872</td>\n",
       "      <td>0.157602</td>\n",
       "      <td>0.99212</td>\n",
       "      <td>0.0224008</td>\n",
       "      <td>-0.012165</td>\n",
       "      <td>0.250036</td>\n",
       "      <td>0.818817</td>\n",
       "      <td>-0.348994</td>\n",
       "      <td>-0.00816509</td>\n",
       "      <td>0.0335903</td>\n",
       "      <td>-0.648742</td>\n",
       "      <td>0.200954</td>\n",
       "      <td>0.564587</td>\n",
       "      <td>1</td>\n",
       "      <td>0.397688</td>\n",
       "    </tr>\n",
       "    <tr>\n",
       "      <th>auto_pay</th>\n",
       "      <td>0.00826339</td>\n",
       "      <td>-0.0246559</td>\n",
       "      <td>0.152424</td>\n",
       "      <td>0.084169</td>\n",
       "      <td>0.399952</td>\n",
       "      <td>0.00506884</td>\n",
       "      <td>-0.0439347</td>\n",
       "      <td>0.0625911</td>\n",
       "      <td>0.309239</td>\n",
       "      <td>-0.216455</td>\n",
       "      <td>0.0673915</td>\n",
       "      <td>-0.0632998</td>\n",
       "      <td>-0.334311</td>\n",
       "      <td>0.104766</td>\n",
       "      <td>0.289774</td>\n",
       "      <td>0.397688</td>\n",
       "      <td>1</td>\n",
       "    </tr>\n",
       "  </tbody>\n",
       "</table>\n",
       "</div>"
      ],
      "text/plain": [
       "                                   0               1            2   \\\n",
       "index                          gender  senior_citizen      partner   \n",
       "gender                              1       0.0189389  4.13239e-05   \n",
       "senior_citizen              0.0189389               1   0.00498783   \n",
       "partner                   4.13239e-05      0.00498783            1   \n",
       "dependents                  -0.019311       -0.208847     0.451373   \n",
       "tenure_months             -0.00971591       0.0190898     0.380911   \n",
       "phone_service             -0.00613821      0.00415726    0.0387024   \n",
       "internet_service_type_id   0.00188388      -0.0278047   0.00380386   \n",
       "monthly_charges             0.0172216        0.205728     0.118643   \n",
       "total_charges             -0.00134437       0.0992579     0.324977   \n",
       "churn                      0.00665888        0.139556    -0.135987   \n",
       "DSL                        -0.0101343       -0.108389   -0.0176173   \n",
       "fiber_optic                 0.0165195        0.247757    0.0279331   \n",
       "Month-to-month              0.0114661        0.130232    -0.277372   \n",
       "One year                  -0.00398682      -0.0464107    0.0759212   \n",
       "Two year                  -0.00955784       -0.107466     0.251061   \n",
       "tenure_year                -0.0100687       0.0219789      0.37872   \n",
       "auto_pay                   0.00826339      -0.0246559     0.152424   \n",
       "\n",
       "                                  3              4              5   \\\n",
       "index                     dependents  tenure_months  phone_service   \n",
       "gender                     -0.019311    -0.00971591    -0.00613821   \n",
       "senior_citizen             -0.208847      0.0190898     0.00415726   \n",
       "partner                     0.451373       0.380911      0.0387024   \n",
       "dependents                         1       0.157648     0.00825108   \n",
       "tenure_months               0.157648              1      0.0233355   \n",
       "phone_service             0.00825108      0.0233355              1   \n",
       "internet_service_type_id   0.0381684     -0.0106796       0.371188   \n",
       "monthly_charges            -0.084058       0.252441         0.2398   \n",
       "total_charges               0.070202       0.826046       0.117261   \n",
       "churn                      -0.149845      -0.350081     -0.0117801   \n",
       "DSL                        0.0390009     -0.0098843      -0.434287   \n",
       "fiber_optic                -0.130893      0.0346646       0.277393   \n",
       "Month-to-month             -0.206233      -0.655901     -0.0133442   \n",
       "One year                   0.0551877       0.205849     -0.0152245   \n",
       "Two year                    0.187891       0.568227      0.0303377   \n",
       "tenure_year                 0.157602        0.99212      0.0224008   \n",
       "auto_pay                    0.084169       0.399952     0.00506884   \n",
       "\n",
       "                                                6                7   \\\n",
       "index                     internet_service_type_id  monthly_charges   \n",
       "gender                                  0.00188388        0.0172216   \n",
       "senior_citizen                          -0.0278047         0.205728   \n",
       "partner                                 0.00380386         0.118643   \n",
       "dependents                               0.0381684        -0.084058   \n",
       "tenure_months                           -0.0106796         0.252441   \n",
       "phone_service                             0.371188           0.2398   \n",
       "internet_service_type_id                         1        -0.332112   \n",
       "monthly_charges                          -0.332112                1   \n",
       "total_charges                            -0.167151          0.65592   \n",
       "churn                                    -0.058992         0.196942   \n",
       "DSL                                      -0.854706         -0.15436   \n",
       "fiber_optic                               0.146507         0.786402   \n",
       "Month-to-month                          -0.0948841        0.0433194   \n",
       "One year                                0.00158353       0.00397881   \n",
       "Two year                                  0.109473       -0.0545282   \n",
       "tenure_year                              -0.012165         0.250036   \n",
       "auto_pay                                -0.0439347        0.0625911   \n",
       "\n",
       "                                     8           9           10           11  \\\n",
       "index                     total_charges       churn         DSL  fiber_optic   \n",
       "gender                      -0.00134437  0.00665888  -0.0101343    0.0165195   \n",
       "senior_citizen                0.0992579    0.139556   -0.108389     0.247757   \n",
       "partner                        0.324977   -0.135987  -0.0176173    0.0279331   \n",
       "dependents                     0.070202   -0.149845   0.0390009    -0.130893   \n",
       "tenure_months                  0.826046   -0.350081  -0.0098843    0.0346646   \n",
       "phone_service                  0.117261  -0.0117801   -0.434287     0.277393   \n",
       "internet_service_type_id      -0.167151   -0.058992   -0.854706     0.146507   \n",
       "monthly_charges                 0.65592    0.196942    -0.15436     0.786402   \n",
       "total_charges                         1   -0.194262  -0.0665758     0.374618   \n",
       "churn                         -0.194262           1   -0.118365     0.312992   \n",
       "DSL                          -0.0665758   -0.118365           1    -0.638731   \n",
       "fiber_optic                    0.374618    0.312992   -0.638731            1   \n",
       "Month-to-month                -0.456423    0.406028  -0.0397084     0.216305   \n",
       "One year                       0.168379   -0.178959   0.0334407   -0.0660709   \n",
       "Two year                       0.371102   -0.301909   0.0141085    -0.189147   \n",
       "tenure_year                    0.818817   -0.348994 -0.00816509    0.0335903   \n",
       "auto_pay                       0.309239   -0.216455   0.0673915   -0.0632998   \n",
       "\n",
       "                                      12          13          14           15  \\\n",
       "index                     Month-to-month    One year    Two year  tenure_year   \n",
       "gender                         0.0114661 -0.00398682 -0.00955784   -0.0100687   \n",
       "senior_citizen                  0.130232  -0.0464107   -0.107466    0.0219789   \n",
       "partner                        -0.277372   0.0759212    0.251061      0.37872   \n",
       "dependents                     -0.206233   0.0551877    0.187891     0.157602   \n",
       "tenure_months                  -0.655901    0.205849    0.568227      0.99212   \n",
       "phone_service                 -0.0133442  -0.0152245   0.0303377    0.0224008   \n",
       "internet_service_type_id      -0.0948841  0.00158353    0.109473    -0.012165   \n",
       "monthly_charges                0.0433194  0.00397881  -0.0545282     0.250036   \n",
       "total_charges                  -0.456423    0.168379    0.371102     0.818817   \n",
       "churn                           0.406028   -0.178959   -0.301909    -0.348994   \n",
       "DSL                           -0.0397084   0.0334407   0.0141085  -0.00816509   \n",
       "fiber_optic                     0.216305  -0.0660709   -0.189147    0.0335903   \n",
       "Month-to-month                         1   -0.576297   -0.612463    -0.648742   \n",
       "One year                       -0.576297           1   -0.293067     0.200954   \n",
       "Two year                       -0.612463   -0.293067           1     0.564587   \n",
       "tenure_year                    -0.648742    0.200954    0.564587            1   \n",
       "auto_pay                       -0.334311    0.104766    0.289774     0.397688   \n",
       "\n",
       "                                  16  \n",
       "index                       auto_pay  \n",
       "gender                    0.00826339  \n",
       "senior_citizen            -0.0246559  \n",
       "partner                     0.152424  \n",
       "dependents                  0.084169  \n",
       "tenure_months               0.399952  \n",
       "phone_service             0.00506884  \n",
       "internet_service_type_id  -0.0439347  \n",
       "monthly_charges            0.0625911  \n",
       "total_charges               0.309239  \n",
       "churn                      -0.216455  \n",
       "DSL                        0.0673915  \n",
       "fiber_optic               -0.0632998  \n",
       "Month-to-month             -0.334311  \n",
       "One year                    0.104766  \n",
       "Two year                    0.289774  \n",
       "tenure_year                 0.397688  \n",
       "auto_pay                           1  "
      ]
     },
     "execution_count": 52,
     "metadata": {},
     "output_type": "execute_result"
    }
   ],
   "source": [
    "train_corr = train.corr().reset_index()\n",
    "train_corr.T"
   ]
  },
  {
   "cell_type": "code",
   "execution_count": 53,
   "metadata": {},
   "outputs": [],
   "source": [
    "train_corr.set_index('index', drop = True, inplace = True)"
   ]
  },
  {
   "cell_type": "code",
   "execution_count": 54,
   "metadata": {},
   "outputs": [
    {
     "data": {
      "text/html": [
       "<div>\n",
       "<style scoped>\n",
       "    .dataframe tbody tr th:only-of-type {\n",
       "        vertical-align: middle;\n",
       "    }\n",
       "\n",
       "    .dataframe tbody tr th {\n",
       "        vertical-align: top;\n",
       "    }\n",
       "\n",
       "    .dataframe thead th {\n",
       "        text-align: right;\n",
       "    }\n",
       "</style>\n",
       "<table border=\"1\" class=\"dataframe\">\n",
       "  <thead>\n",
       "    <tr style=\"text-align: right;\">\n",
       "      <th></th>\n",
       "      <th>churn</th>\n",
       "    </tr>\n",
       "    <tr>\n",
       "      <th>index</th>\n",
       "      <th></th>\n",
       "    </tr>\n",
       "  </thead>\n",
       "  <tbody>\n",
       "    <tr>\n",
       "      <th>tenure_months</th>\n",
       "      <td>-0.350081</td>\n",
       "    </tr>\n",
       "    <tr>\n",
       "      <th>tenure_year</th>\n",
       "      <td>-0.348994</td>\n",
       "    </tr>\n",
       "    <tr>\n",
       "      <th>Two year</th>\n",
       "      <td>-0.301909</td>\n",
       "    </tr>\n",
       "    <tr>\n",
       "      <th>auto_pay</th>\n",
       "      <td>-0.216455</td>\n",
       "    </tr>\n",
       "    <tr>\n",
       "      <th>total_charges</th>\n",
       "      <td>-0.194262</td>\n",
       "    </tr>\n",
       "    <tr>\n",
       "      <th>One year</th>\n",
       "      <td>-0.178959</td>\n",
       "    </tr>\n",
       "    <tr>\n",
       "      <th>dependents</th>\n",
       "      <td>-0.149845</td>\n",
       "    </tr>\n",
       "    <tr>\n",
       "      <th>partner</th>\n",
       "      <td>-0.135987</td>\n",
       "    </tr>\n",
       "    <tr>\n",
       "      <th>DSL</th>\n",
       "      <td>-0.118365</td>\n",
       "    </tr>\n",
       "    <tr>\n",
       "      <th>internet_service_type_id</th>\n",
       "      <td>-0.058992</td>\n",
       "    </tr>\n",
       "    <tr>\n",
       "      <th>phone_service</th>\n",
       "      <td>-0.011780</td>\n",
       "    </tr>\n",
       "    <tr>\n",
       "      <th>gender</th>\n",
       "      <td>0.006659</td>\n",
       "    </tr>\n",
       "    <tr>\n",
       "      <th>senior_citizen</th>\n",
       "      <td>0.139556</td>\n",
       "    </tr>\n",
       "    <tr>\n",
       "      <th>monthly_charges</th>\n",
       "      <td>0.196942</td>\n",
       "    </tr>\n",
       "    <tr>\n",
       "      <th>fiber_optic</th>\n",
       "      <td>0.312992</td>\n",
       "    </tr>\n",
       "    <tr>\n",
       "      <th>Month-to-month</th>\n",
       "      <td>0.406028</td>\n",
       "    </tr>\n",
       "    <tr>\n",
       "      <th>churn</th>\n",
       "      <td>1.000000</td>\n",
       "    </tr>\n",
       "  </tbody>\n",
       "</table>\n",
       "</div>"
      ],
      "text/plain": [
       "                             churn\n",
       "index                             \n",
       "tenure_months            -0.350081\n",
       "tenure_year              -0.348994\n",
       "Two year                 -0.301909\n",
       "auto_pay                 -0.216455\n",
       "total_charges            -0.194262\n",
       "One year                 -0.178959\n",
       "dependents               -0.149845\n",
       "partner                  -0.135987\n",
       "DSL                      -0.118365\n",
       "internet_service_type_id -0.058992\n",
       "phone_service            -0.011780\n",
       "gender                    0.006659\n",
       "senior_citizen            0.139556\n",
       "monthly_charges           0.196942\n",
       "fiber_optic               0.312992\n",
       "Month-to-month            0.406028\n",
       "churn                     1.000000"
      ]
     },
     "execution_count": 54,
     "metadata": {},
     "output_type": "execute_result"
    }
   ],
   "source": [
    "train_corr = pd.DataFrame(train_corr[train_corr.index[9]]).sort_values(by ='churn')\n",
    "train_corr"
   ]
  },
  {
   "cell_type": "code",
   "execution_count": 55,
   "metadata": {},
   "outputs": [
    {
     "data": {
      "image/png": "[encoded data removed]",
      "text/plain": [
       "<Figure size 1008x720 with 2 Axes>"
      ]
     },
     "metadata": {
      "needs_background": "light"
     },
     "output_type": "display_data"
    }
   ],
   "source": [
    "#The heat map clearly shows there is a correlation between churn and fiber optic, electronic checking and monthly charges.\n",
    "plt.figure(figsize=(14, 10))\n",
    "sns.heatmap(train_corr, cmap = 'coolwarm', center = 0, annot = True, fmt = '.0%',)\n",
    "plt.show()"
   ]
  },
  {
   "cell_type": "code",
   "execution_count": 56,
   "metadata": {},
   "outputs": [
    {
     "data": {
      "image/png": "[encoded data removed]",
      "text/plain": [
       "<Figure size 1152x432 with 2 Axes>"
      ]
     },
     "metadata": {
      "needs_background": "light"
     },
     "output_type": "display_data"
    }
   ],
   "source": [
    "#Comparing internet service types\n",
    "features = ['DSL', 'fiber_optic',]\n",
    "\n",
    "churn_rate = train.churn.mean()\n",
    "_, ax = plt.subplots(nrows=1, ncols=2, figsize=(16, 6), sharey=True)\n",
    "for i, feature in enumerate(features):\n",
    "    sns.barplot(feature, 'churn', data=train, ax=ax[i], alpha=0.5)\n",
    "    ax[i].set_xlabel('Has DSL or Fiber')\n",
    "    ax[i].set_ylabel('churn_rate')\n",
    "    ax[i].set_title(feature)\n",
    "    ax[i].axhline(churn_rate, ls='--', color='grey')"
   ]
  },
  {
   "cell_type": "code",
   "execution_count": 57,
   "metadata": {},
   "outputs": [
    {
     "data": {
      "image/png": "[encoded data removed]",
      "text/plain": [
       "<Figure size 720x576 with 1 Axes>"
      ]
     },
     "metadata": {
      "needs_background": "light"
     },
     "output_type": "display_data"
    }
   ],
   "source": [
    "features = ['auto_pay']\n",
    "plt.figure(figsize=(10, 8))\n",
    "churn_rate = train.churn.mean()\n",
    "for i, feature in enumerate(features):\n",
    "    sns.barplot(feature, 'churn', data = train, alpha=0.5, palette ='colorblind')\n",
    "    plt.xlabel('has_auto')\n",
    "    plt.ylabel('churn_rate')\n",
    "    plt.title(feature)\n",
    "    plt.axhline(churn_rate, ls='--', color='grey')"
   ]
  },
  {
   "cell_type": "code",
   "execution_count": 58,
   "metadata": {},
   "outputs": [],
   "source": [
    "# next is hypothesis test using tests, ttest, correlation, chi remember alpha and p value t statsitic."
   ]
  },
  {
   "cell_type": "code",
   "execution_count": 5,
   "metadata": {},
   "outputs": [
    {
     "ename": "NameError",
     "evalue": "name 'plt' is not defined",
     "output_type": "error",
     "traceback": [
      "\u001b[0;31m---------------------------------------------------------------------------\u001b[0m",
      "\u001b[0;31mNameError\u001b[0m                                 Traceback (most recent call last)",
      "\u001b[0;32m<ipython-input-5-2df3bb7b8916>\u001b[0m in \u001b[0;36m<module>\u001b[0;34m\u001b[0m\n\u001b[0;32m----> 1\u001b[0;31m \u001b[0mplt\u001b[0m\u001b[0;34m.\u001b[0m\u001b[0mfigure\u001b[0m\u001b[0;34m(\u001b[0m\u001b[0mfigsize\u001b[0m\u001b[0;34m=\u001b[0m\u001b[0;34m(\u001b[0m\u001b[0;36m14\u001b[0m\u001b[0;34m,\u001b[0m \u001b[0;36m10\u001b[0m\u001b[0;34m)\u001b[0m\u001b[0;34m)\u001b[0m\u001b[0;34m\u001b[0m\u001b[0;34m\u001b[0m\u001b[0m\n\u001b[0m\u001b[1;32m      2\u001b[0m \u001b[0msns\u001b[0m\u001b[0;34m.\u001b[0m\u001b[0mcatplot\u001b[0m\u001b[0;34m(\u001b[0m\u001b[0mx\u001b[0m\u001b[0;34m=\u001b[0m\u001b[0;34m'tenure_months'\u001b[0m\u001b[0;34m,\u001b[0m \u001b[0my\u001b[0m\u001b[0;34m=\u001b[0m\u001b[0;34m'monthly_charges'\u001b[0m\u001b[0;34m,\u001b[0m \u001b[0mdata\u001b[0m\u001b[0;34m=\u001b[0m\u001b[0mtrain\u001b[0m\u001b[0;34m,\u001b[0m \u001b[0mhue\u001b[0m\u001b[0;34m=\u001b[0m\u001b[0;34m'churn'\u001b[0m\u001b[0;34m)\u001b[0m\u001b[0;34m\u001b[0m\u001b[0;34m\u001b[0m\u001b[0m\n\u001b[1;32m      3\u001b[0m \u001b[0mplt\u001b[0m\u001b[0;34m.\u001b[0m\u001b[0mshow\u001b[0m\u001b[0;34m(\u001b[0m\u001b[0;34m)\u001b[0m\u001b[0;34m\u001b[0m\u001b[0;34m\u001b[0m\u001b[0m\n",
      "\u001b[0;31mNameError\u001b[0m: name 'plt' is not defined"
     ]
    }
   ],
   "source": [
    "plt.figure(figsize=(14, 10))\n",
    "sns.catplot(x='tenure_months', y='monthly_charges', data=train, hue='churn')\n",
    "plt.show()"
   ]
  },
  {
   "cell_type": "code",
   "execution_count": 3,
   "metadata": {},
   "outputs": [],
   "source": [
    "cat_vars = ['tenure_months', 'auto_pay', 'fiber_optic', 'Month-to-month']\n",
    "quant_vars = ['monthly_charges', 'total_charges']"
   ]
  },
  {
   "cell_type": "code",
   "execution_count": 61,
   "metadata": {},
   "outputs": [
    {
     "data": {
      "image/png": "[encoded data removed]",
      "text/plain": [
       "<Figure size 1008x720 with 1 Axes>"
      ]
     },
     "metadata": {
      "needs_background": "light"
     },
     "output_type": "display_data"
    }
   ],
   "source": [
    "plt.figure(figsize=(14, 10))\n",
    "sns.histplot(data=train, x='tenure_months', hue='churn', multiple='stack',binwidth =1)\n",
    "plt.xlim(1,train.tenure_months.median())\n",
    "plt.show()"
   ]
  },
  {
   "cell_type": "markdown",
   "metadata": {},
   "source": [
    "## Statistical Tests:"
   ]
  },
  {
   "cell_type": "markdown",
   "metadata": {},
   "source": [
    "Hypothesis Test 1\n",
    "\n",
    "Hypothesis Null : autopay method is independent of churn.\n",
    "\n",
    "Hypothesis Alternative : \"autopay methods is not independent of churn\"."
   ]
  },
  {
   "cell_type": "code",
   "execution_count": 62,
   "metadata": {},
   "outputs": [
    {
     "name": "stdout",
     "output_type": "stream",
     "text": [
      "Observed\n",
      "\n",
      "[[1448  778]\n",
      " [1443  268]]\n",
      "---\n",
      "Expected\n",
      "\n",
      "[[1634  591]\n",
      " [1256  454]]\n",
      "---\n",
      "\n",
      "chi^2 = 183.4720\n",
      "p     = 0.0000\n",
      "\n",
      "We can reject the null hypothesis that autopay method is independent of churn\n"
     ]
    }
   ],
   "source": [
    "# examine the 3 types of internet service and the relation to churn\n",
    "# make a crosstab\n",
    "# internet_service_types values = (0 = 'None', 1 = 'DSL', 2 = 'Fiber optic')\n",
    "# churn values = (No = 0, Yes = 1)\n",
    "observed1 = pd.crosstab(train.auto_pay, train.churn)\n",
    "\n",
    "# run the chi^2 test\n",
    "chi2, p, degf, expected = stats.chi2_contingency(observed1)\n",
    "\n",
    "print('Observed\\n')\n",
    "print(observed1.values)\n",
    "print('---\\nExpected\\n')\n",
    "print(expected.astype(int))\n",
    "print('---\\n')\n",
    "print(f'chi^2 = {chi2:.4f}')\n",
    "print(f'p     = {p:.4f}')\n",
    "\n",
    "# set alpha\n",
    "alpha = 0.05\n",
    "\n",
    "null_hypothesis = \"autopay method is independent of churn\"\n",
    "\n",
    "if p < alpha:\n",
    "    print(f'\\nWe can reject the null hypothesis that', null_hypothesis)\n",
    "else:\n",
    "    print(f'\\nWe fail to reject the null hypothesis.')"
   ]
  },
  {
   "cell_type": "code",
   "execution_count": null,
   "metadata": {},
   "outputs": [],
   "source": []
  },
  {
   "cell_type": "markdown",
   "metadata": {},
   "source": [
    "### Hypothesis Test 2\n",
    "\n",
    "Hypothesis Null : internet service type fiber optic is independent of churn.\n",
    "\n",
    "\n",
    "Hypothesis Alternative : \"internet service type fiber optic is not independent of churn\".\n",
    "\n",
    "\n"
   ]
  },
  {
   "cell_type": "markdown",
   "metadata": {},
   "source": [
    "### CHI Test\n",
    "- Churn(categorical)\n",
    "- Fiber Optic (categorical)"
   ]
  },
  {
   "cell_type": "code",
   "execution_count": 63,
   "metadata": {},
   "outputs": [
    {
     "name": "stdout",
     "output_type": "stream",
     "text": [
      "Observed\n",
      "\n",
      "[[1880  312]\n",
      " [1011  734]]\n",
      "---\n",
      "Expected\n",
      "\n",
      "[[1609  582]\n",
      " [1281  463]]\n",
      "---\n",
      "\n",
      "chi^2 = 384.2585\n",
      "p     = 0.0000\n",
      "\n",
      "We can reject the null hypothesis that internet service type fiber optic is independent of churn\n"
     ]
    }
   ],
   "source": [
    "observed1 = pd.crosstab(train.fiber_optic, train.churn)\n",
    "\n",
    "# run the chi^2 test\n",
    "chi2, p, degf, expected = stats.chi2_contingency(observed1)\n",
    "\n",
    "print('Observed\\n')\n",
    "print(observed1.values)\n",
    "print('---\\nExpected\\n')\n",
    "print(expected.astype(int))\n",
    "print('---\\n')\n",
    "print(f'chi^2 = {chi2:.4f}')\n",
    "print(f'p     = {p:.4f}')\n",
    "\n",
    "# set alpha\n",
    "alpha = 0.05\n",
    "\n",
    "null_hypothesis = \"internet service type fiber optic is independent of churn\"\n",
    "\n",
    "if p < alpha:\n",
    "    print(f'\\nWe can reject the null hypothesis that', null_hypothesis)\n",
    "else:\n",
    "    print(f'\\nWe fail to reject the null hypothesis.')"
   ]
  },
  {
   "cell_type": "code",
   "execution_count": null,
   "metadata": {},
   "outputs": [],
   "source": []
  },
  {
   "cell_type": "code",
   "execution_count": null,
   "metadata": {},
   "outputs": [],
   "source": []
  },
  {
   "cell_type": "markdown",
   "metadata": {},
   "source": [
    "### One Sample T_test\n",
    "- Churn(categorical)\n",
    "- Tenure_months(continous)"
   ]
  },
  {
   "cell_type": "markdown",
   "metadata": {},
   "source": [
    "### Hypothesis Test 3\n",
    "\n",
    "Hypothesis Null : there is no difference between tenure_months and churn.\n",
    "\n",
    "\n",
    "Hypothesis Alternative : there is a difference between tenure_months and churn.\n",
    "\n",
    "\n",
    "One of the assumptions of the t-test is that the continuous variable is normally distributed. To check this, we can make a quick visualization:"
   ]
  },
  {
   "cell_type": "code",
   "execution_count": 64,
   "metadata": {},
   "outputs": [
    {
     "data": {
      "text/plain": [
       "(32.49428498856998, 29.0)"
      ]
     },
     "execution_count": 64,
     "metadata": {},
     "output_type": "execute_result"
    }
   ],
   "source": [
    "#compare the mean and median.\n",
    "train.tenure_months.mean(), train.tenure_months.median()"
   ]
  },
  {
   "cell_type": "code",
   "execution_count": 65,
   "metadata": {},
   "outputs": [
    {
     "data": {
      "text/plain": [
       "<AxesSubplot:xlabel='tenure_months', ylabel='Density'>"
      ]
     },
     "execution_count": 65,
     "metadata": {},
     "output_type": "execute_result"
    },
    {
     "data": {
      "image/png": "[encoded data removed]",
      "text/plain": [
       "<Figure size 432x288 with 1 Axes>"
      ]
     },
     "metadata": {
      "needs_background": "light"
     },
     "output_type": "display_data"
    }
   ],
   "source": [
    "# Chart for distribution Analysis\n",
    "sns.distplot(train.tenure_months)"
   ]
  },
  {
   "cell_type": "code",
   "execution_count": 66,
   "metadata": {},
   "outputs": [],
   "source": [
    "#The above chart doesnt present an ideal normal distribution, looking it is over 30 and mean and median values are nearly identical.\n",
    "#So we will assume a normal distribution."
   ]
  },
  {
   "cell_type": "code",
   "execution_count": 67,
   "metadata": {},
   "outputs": [
    {
     "name": "stdout",
     "output_type": "stream",
     "text": [
      "\n",
      "statistic = 81.9624\n",
      "p_value = 0.0000\n",
      "\n",
      "We can reject the null hypothesis that there is no difference between tenure_months and churn.\n"
     ]
    }
   ],
   "source": [
    "#cont vs categorical\n",
    "# make a subset \n",
    "x1 = train.tenure_months\n",
    "\n",
    "# make a subset for \n",
    "x2 = train.churn.mean()\n",
    "\n",
    "# run a 2 sample, 2 tail t-test\n",
    "t_stat, p = stats.ttest_1samp(x1, x2)\n",
    "\n",
    "print(f'\\nstatistic = {t_stat:.4f}')\n",
    "print(f'p_value = {p:.4f}')\n",
    "\n",
    "# set alpha\n",
    "alpha = 0.05\n",
    "\n",
    "null_hypothesis = \"there is no difference between tenure_months and churn.\"\n",
    "\n",
    "if p < alpha:\n",
    "    print(f'\\nWe can reject the null hypothesis that', null_hypothesis)\n",
    "else:\n",
    "    print(f'\\nWe fail to reject the null hypothesis.')"
   ]
  },
  {
   "cell_type": "markdown",
   "metadata": {},
   "source": [
    "# Modeling"
   ]
  },
  {
   "cell_type": "markdown",
   "metadata": {},
   "source": [
    "#Begin by asking what is our Baseline Prediction? We know our target is churn. So we will look at our baseline being the most fequently occuring in our target.\n",
    "\n",
    "#Based on the value_counts we can see that no churn is the most frequent so we will set our baseline prediction to zero"
   ]
  },
  {
   "cell_type": "code",
   "execution_count": 68,
   "metadata": {},
   "outputs": [
    {
     "data": {
      "text/plain": [
       "0    2891\n",
       "1    1046\n",
       "Name: churn, dtype: int64"
      ]
     },
     "execution_count": 68,
     "metadata": {},
     "output_type": "execute_result"
    }
   ],
   "source": [
    "#Begin by asking what is our Baseline Prediction? We know our target is churn. So we will look at our baseline being the most fequently occuring in our target.\n",
    "#Based on the value_counts we can see that no churn is the most frequent so we will set our baseline prediction to zero\n",
    "train.churn.value_counts() "
   ]
  },
  {
   "cell_type": "markdown",
   "metadata": {},
   "source": [
    "### Baseline Accuracy"
   ]
  },
  {
   "cell_type": "code",
   "execution_count": 69,
   "metadata": {},
   "outputs": [],
   "source": [
    "train['baseline_prediction'] = 0"
   ]
  },
  {
   "cell_type": "code",
   "execution_count": 70,
   "metadata": {},
   "outputs": [
    {
     "data": {
      "text/plain": [
       "0.7343154686309372"
      ]
     },
     "execution_count": 70,
     "metadata": {},
     "output_type": "execute_result"
    }
   ],
   "source": [
    "baseline_acc =(train.baseline_prediction == train.churn).mean()\n",
    "f'baseline_acc"
   ]
  },
  {
   "cell_type": "code",
   "execution_count": 71,
   "metadata": {},
   "outputs": [],
   "source": [
    "train.drop(columns ='baseline_prediction', inplace = True)\n",
    "#do not need baseline_prediction_column anymore\n"
   ]
  },
  {
   "cell_type": "code",
   "execution_count": 72,
   "metadata": {},
   "outputs": [],
   "source": [
    "baseline_accuracy = 0.7343154686309372"
   ]
  },
  {
   "cell_type": "code",
   "execution_count": null,
   "metadata": {},
   "outputs": [],
   "source": [
    "# Now creating the features (X_train) which DF will exclude the target churn.\n",
    "#y_train is a series of the DF it is the target churn"
   ]
  },
  {
   "cell_type": "code",
   "execution_count": 90,
   "metadata": {},
   "outputs": [],
   "source": [
    "X_train = train.drop(columns='churn')\n",
    "y_train = train[['churn']]\n",
    "X_validate, y_validate = validate.drop(columns='churn'), validate['churn']\n",
    "X_test, y_test = test.drop(columns='churn'), test['churn']"
   ]
  },
  {
   "cell_type": "code",
   "execution_count": 139,
   "metadata": {},
   "outputs": [
    {
     "data": {
      "text/plain": [
       "0.7343154686309372"
      ]
     },
     "execution_count": 139,
     "metadata": {},
     "output_type": "execute_result"
    }
   ],
   "source": [
    "#Calulate the baseline accuracy for no_churn\n",
    "# 1. Create our \"thing\".\n",
    "baseline = DummyClassifier(strategy='constant', constant=0)\n",
    "# 2. Fit our \"thing\" \n",
    "baseline.fit(X_train, y_train)\n",
    "baseline.score(X_train, y_train)"
   ]
  },
  {
   "cell_type": "markdown",
   "metadata": {},
   "source": [
    "#### Possible Outcomes:\n",
    "\n",
    "##### Positive Outcome: predict customer churn.\n",
    "##### Negative Outcome: predict customer not churn.\n",
    "\n",
    "\n",
    "- TP: Predict a customer churn and they do churn\n",
    "- TN: Predict a customer not churn and they do not churn\n",
    "- FP: Predict a customer churn but the customer did not churn\n",
    "- FN: Predict a customer not churn and they did churn. \n",
    "\n",
    "The worst outcome is FN, due to if we miss churn and a customer does churn it could be the most costly.\n",
    "\n"
   ]
  },
  {
   "cell_type": "code",
   "execution_count": 105,
   "metadata": {},
   "outputs": [
    {
     "data": {
      "text/plain": [
       "Index(['gender', 'senior_citizen', 'partner', 'dependents', 'tenure_months',\n",
       "       'phone_service', 'internet_service_type_id', 'monthly_charges',\n",
       "       'total_charges', 'churn', 'DSL', 'fiber_optic', 'Month-to-month',\n",
       "       'One year', 'Two year', 'tenure_year', 'auto_pay'],\n",
       "      dtype='object')"
      ]
     },
     "execution_count": 105,
     "metadata": {},
     "output_type": "execute_result"
    }
   ],
   "source": [
    "train.columns"
   ]
  },
  {
   "cell_type": "code",
   "execution_count": 73,
   "metadata": {},
   "outputs": [],
   "source": [
    "#Narrowed down features list.\n",
    "x_col =  features = ['fiber_optic', 'tenure_months', 'auto_pay', 'Month-to-month', 'Two year']\n",
    "y_col = 'churn'"
   ]
  },
  {
   "cell_type": "code",
   "execution_count": 74,
   "metadata": {},
   "outputs": [],
   "source": [
    "X_train, y_train = train[x_col], train[y_col]\n",
    "X_validate, y_validate = validate[x_col], validate[y_col]\n",
    "X_test, y_test = test[x_col], test[y_col]"
   ]
  },
  {
   "cell_type": "markdown",
   "metadata": {},
   "source": [
    "### Model 1: Decision Tree"
   ]
  },
  {
   "cell_type": "code",
   "execution_count": 75,
   "metadata": {},
   "outputs": [
    {
     "data": {
      "text/plain": [
       "DecisionTreeClassifier(max_depth=2, random_state=1349)"
      ]
     },
     "execution_count": 75,
     "metadata": {},
     "output_type": "execute_result"
    }
   ],
   "source": [
    "#create our thing!\n",
    "dt_model = DecisionTreeClassifier(max_depth = 2, random_state=1349)\n",
    "#fit our thing!\n",
    "dt_model.fit(X_train, y_train)"
   ]
  },
  {
   "cell_type": "code",
   "execution_count": 211,
   "metadata": {},
   "outputs": [
    {
     "data": {
      "text/plain": [
       "array([0, 1, 0, ..., 0, 0, 0])"
      ]
     },
     "execution_count": 211,
     "metadata": {},
     "output_type": "execute_result"
    }
   ],
   "source": [
    "#Make Predictions\n",
    "y_pred_dt = dt_model.predict(X_train)\n",
    "y_pred_dt\n",
    "y_pred_dt_val = dt_model.predict(X_validate)\n",
    "y_pred_dt_val\n"
   ]
  },
  {
   "cell_type": "code",
   "execution_count": 155,
   "metadata": {},
   "outputs": [
    {
     "data": {
      "text/plain": [
       "array([[0.72441743, 0.27558257],\n",
       "       [0.96680498, 0.03319502],\n",
       "       [0.44072165, 0.55927835],\n",
       "       ...,\n",
       "       [0.96680498, 0.03319502],\n",
       "       [0.96680498, 0.03319502],\n",
       "       [0.96680498, 0.03319502]])"
      ]
     },
     "execution_count": 155,
     "metadata": {},
     "output_type": "execute_result"
    }
   ],
   "source": [
    "#estimate probability.\n",
    "y_pred_proba = dt_model.predict_proba(X_train)\n",
    "y_pred_proba"
   ]
  },
  {
   "cell_type": "code",
   "execution_count": 187,
   "metadata": {},
   "outputs": [
    {
     "data": {
      "text/html": [
       "<div>\n",
       "<style scoped>\n",
       "    .dataframe tbody tr th:only-of-type {\n",
       "        vertical-align: middle;\n",
       "    }\n",
       "\n",
       "    .dataframe tbody tr th {\n",
       "        vertical-align: top;\n",
       "    }\n",
       "\n",
       "    .dataframe thead th {\n",
       "        text-align: right;\n",
       "    }\n",
       "</style>\n",
       "<table border=\"1\" class=\"dataframe\">\n",
       "  <thead>\n",
       "    <tr style=\"text-align: right;\">\n",
       "      <th></th>\n",
       "      <th>pred_no_churn</th>\n",
       "      <th>pred_churn</th>\n",
       "    </tr>\n",
       "  </thead>\n",
       "  <tbody>\n",
       "    <tr>\n",
       "      <th>actual_no_churn</th>\n",
       "      <td>2686</td>\n",
       "      <td>205</td>\n",
       "    </tr>\n",
       "    <tr>\n",
       "      <th>actual_churn</th>\n",
       "      <td>607</td>\n",
       "      <td>439</td>\n",
       "    </tr>\n",
       "  </tbody>\n",
       "</table>\n",
       "</div>"
      ],
      "text/plain": [
       "                 pred_no_churn  pred_churn\n",
       "actual_no_churn           2686         205\n",
       "actual_churn               607         439"
      ]
     },
     "execution_count": 187,
     "metadata": {},
     "output_type": "execute_result"
    }
   ],
   "source": [
    "pd.DataFrame ((confusion_matrix(y_train, y_pred )),index = ['actual_no_churn','actual_churn'], columns =['pred_no_churn','pred_churn' ])"
   ]
  },
  {
   "cell_type": "code",
   "execution_count": 217,
   "metadata": {},
   "outputs": [],
   "source": [
    "TN, FP, FN, TP = confusion_matrix(y_train, y_pred_dt).ravel()"
   ]
  },
  {
   "cell_type": "code",
   "execution_count": 218,
   "metadata": {},
   "outputs": [],
   "source": [
    "tpr = TP/(TP+FN)\n",
    "fpr = FP/(FP+TN)\n",
    "tnr = TN/(TN+FP)\n",
    "fnr = FN/(FN+TP)"
   ]
  },
  {
   "cell_type": "code",
   "execution_count": 219,
   "metadata": {},
   "outputs": [
    {
     "name": "stdout",
     "output_type": "stream",
     "text": [
      "\n",
      "- TP: Predict a customer churn and they do churn\n",
      "- TN: Predict a customer not churn and they do not churn\n",
      "- FP: Predict a customer churn but the customer did not churn\n",
      "- FN: Predict a customer not churn and they did churn. \n",
      "\n",
      "-------------------------------------\n",
      "True Positive 651\n",
      "True Negative 2378\n",
      "False Positive 513\n",
      "False Negative 395\n",
      "--------------------------------------\n",
      "True Positive Rate:62.237%,  \n",
      "False Positive Rate :17.745%,\n",
      "True Negative Rate: 82.255%,  \n",
      "False Negative Rate: 37.763%\n",
      "--------------------------------------\n",
      "Baseline accuracy of train set: 0.73\n",
      "--------------------------------------\n",
      "training score: 76.94%\n",
      "              precision    recall  f1-score   support\n",
      "\n",
      "           0       0.86      0.82      0.84      2891\n",
      "           1       0.56      0.62      0.59      1046\n",
      "\n",
      "    accuracy                           0.77      3937\n",
      "   macro avg       0.71      0.72      0.71      3937\n",
      "weighted avg       0.78      0.77      0.77      3937\n",
      "\n",
      "--------------------------------------\n",
      "validate score: 78.73%\n",
      "              precision    recall  f1-score   support\n",
      "\n",
      "           0       0.85      0.81      0.83      1239\n",
      "           1       0.53      0.62      0.57       449\n",
      "\n",
      "    accuracy                           0.76      1688\n",
      "   macro avg       0.69      0.71      0.70      1688\n",
      "weighted avg       0.77      0.76      0.76      1688\n",
      "\n"
     ]
    }
   ],
   "source": [
    "# look at the model accuracy scores for training set and validate set\n",
    "print('''\n",
    "- TP: Predict a customer churn and they do churn\n",
    "- TN: Predict a customer not churn and they do not churn\n",
    "- FP: Predict a customer churn but the customer did not churn\n",
    "- FN: Predict a customer not churn and they did churn. \n",
    "''')\n",
    "print('-------------------------------------')\n",
    "print(\"True Positive\", TP)\n",
    "print(\"True Negative\", TN)\n",
    "print(\"False Positive\", FP)\n",
    "print(\"False Negative\", FN)\n",
    "print('--------------------------------------')\n",
    "print(f'''True Positive Rate:{tpr:.3%},  \n",
    "False Positive Rate :{fpr:.3%},\n",
    "True Negative Rate: {tnr:.3%},  \n",
    "False Negative Rate: {fnr:.3%}''')\n",
    "print('--------------------------------------')\n",
    "\n",
    "print(f'Baseline accuracy of train set: {baseline.score(X_train, y_train):.2}')\n",
    "\n",
    "print('--------------------------------------')\n",
    "print(f'training score: {dt_model.score(X_train, y_train):.2%}')\n",
    "print(classification_report(y_train, y_pred_dt))\n",
    "print('--------------------------------------')\n",
    "print(f'validate score: {logit.score(X_validate, y_validate):.2%}')\n",
    "print(classification_report(y_validate, y_pred_dt_val))\n",
    "\n",
    "\n",
    "\n",
    "\n",
    " \n"
   ]
  },
  {
   "cell_type": "markdown",
   "metadata": {},
   "source": [
    "### Model 2: Logistic Regression"
   ]
  },
  {
   "cell_type": "code",
   "execution_count": 158,
   "metadata": {},
   "outputs": [
    {
     "data": {
      "text/plain": [
       "LogisticRegression(random_state=1349)"
      ]
     },
     "execution_count": 158,
     "metadata": {},
     "output_type": "execute_result"
    }
   ],
   "source": [
    "#create our thing!\n",
    "logit = LogisticRegression(random_state =1349)\n",
    "logit.fit(X_train, y_train)"
   ]
  },
  {
   "cell_type": "code",
   "execution_count": 209,
   "metadata": {},
   "outputs": [],
   "source": [
    "y_pred_logit = logit.predict(X_train)\n",
    "y_pred_logit_val = logit.predict(X_validate)"
   ]
  },
  {
   "cell_type": "code",
   "execution_count": 160,
   "metadata": {},
   "outputs": [
    {
     "data": {
      "text/plain": [
       "array([[0.91116512, 0.08883488],\n",
       "       [0.96565123, 0.03434877],\n",
       "       [0.41480232, 0.58519768],\n",
       "       ...,\n",
       "       [0.92171842, 0.07828158],\n",
       "       [0.99042719, 0.00957281],\n",
       "       [0.95477452, 0.04522548]])"
      ]
     },
     "execution_count": 160,
     "metadata": {},
     "output_type": "execute_result"
    }
   ],
   "source": [
    "y_pred_proba = logit.predict_proba(X_train)\n",
    "y_pred_proba"
   ]
  },
  {
   "cell_type": "code",
   "execution_count": 210,
   "metadata": {},
   "outputs": [
    {
     "name": "stdout",
     "output_type": "stream",
     "text": [
      "\n",
      "- TP: Predict a customer churn and they do churn\n",
      "- TN: Predict a customer not churn and they do not churn\n",
      "- FP: Predict a customer churn but the customer did not churn\n",
      "- FN: Predict a customer not churn and they did churn. \n",
      "\n",
      "-------------------------------------\n",
      "True Positive 439\n",
      "True Negative 2686\n",
      "False Positive 205\n",
      "False Negative 607\n",
      "--------------------------------------\n",
      "True Positive Rate:41.969%,  \n",
      "False Positive Rate :7.091%,\n",
      "True Negative Rate: 92.909%,  \n",
      "False Negative Rate: 58.031%\n",
      "--------------------------------------\n",
      "Baseline accuracy of train set: 0.73\n",
      "--------------------------------------\n",
      "training score: 78.84%\n",
      "              precision    recall  f1-score   support\n",
      "\n",
      "           0       0.83      0.89      0.86      2891\n",
      "           1       0.63      0.50      0.56      1046\n",
      "\n",
      "    accuracy                           0.79      3937\n",
      "   macro avg       0.73      0.70      0.71      3937\n",
      "weighted avg       0.78      0.79      0.78      3937\n",
      "\n",
      "--------------------------------------\n",
      "validate score: 78.73%\n",
      "              precision    recall  f1-score   support\n",
      "\n",
      "           0       0.83      0.89      0.86      1239\n",
      "           1       0.62      0.51      0.56       449\n",
      "\n",
      "    accuracy                           0.79      1688\n",
      "   macro avg       0.73      0.70      0.71      1688\n",
      "weighted avg       0.78      0.79      0.78      1688\n",
      "\n"
     ]
    }
   ],
   "source": [
    "#model score\n",
    "print('''\n",
    "- TP: Predict a customer churn and they do churn\n",
    "- TN: Predict a customer not churn and they do not churn\n",
    "- FP: Predict a customer churn but the customer did not churn\n",
    "- FN: Predict a customer not churn and they did churn. \n",
    "''')\n",
    "print('-------------------------------------')\n",
    "print(\"True Positive\", TP)\n",
    "print(\"True Negative\", TN)\n",
    "print(\"False Positive\", FP)\n",
    "print(\"False Negative\", FN)\n",
    "print('--------------------------------------')\n",
    "print(f'''True Positive Rate:{tpr:.3%},  \n",
    "False Positive Rate :{fpr:.3%},\n",
    "True Negative Rate: {tnr:.3%},  \n",
    "False Negative Rate: {fnr:.3%}''')\n",
    "print('--------------------------------------')\n",
    "\n",
    "print(f'Baseline accuracy of train set: {baseline.score(X_train, y_train):.2}')\n",
    "\n",
    "print('--------------------------------------')\n",
    "print(f'training score: {logit.score(X_train, y_train):.2%}')\n",
    "print(classification_report(y_train, y_pred_logit))\n",
    "print('--------------------------------------')\n",
    "print(f'validate score: {logit.score(X_validate, y_validate):.2%}')\n",
    "print(classification_report(y_validate, y_pred_logit_val))\n",
    "\n"
   ]
  },
  {
   "cell_type": "markdown",
   "metadata": {},
   "source": [
    "### Model 3: Random Forest "
   ]
  },
  {
   "cell_type": "code",
   "execution_count": 162,
   "metadata": {},
   "outputs": [
    {
     "data": {
      "text/plain": [
       "RandomForestClassifier(max_depth=4, min_samples_leaf=3, random_state=1349)"
      ]
     },
     "execution_count": 162,
     "metadata": {},
     "output_type": "execute_result"
    }
   ],
   "source": [
    "rf_model = RandomForestClassifier(max_depth=4, min_samples_leaf=3, random_state=1349)\n",
    "rf_model.fit(X_train, y_train)"
   ]
  },
  {
   "cell_type": "code",
   "execution_count": 213,
   "metadata": {},
   "outputs": [],
   "source": [
    "y_pred_rf = rf_model.predict(X_train)\n",
    "y_pred_rf_val = rf_model.predict(X_validate)"
   ]
  },
  {
   "cell_type": "code",
   "execution_count": 164,
   "metadata": {},
   "outputs": [
    {
     "data": {
      "text/plain": [
       "array([[0.83153958, 0.16846042],\n",
       "       [0.93284267, 0.06715733],\n",
       "       [0.50134658, 0.49865342],\n",
       "       ...,\n",
       "       [0.93247115, 0.06752885],\n",
       "       [0.98053142, 0.01946858],\n",
       "       [0.92520904, 0.07479096]])"
      ]
     },
     "execution_count": 164,
     "metadata": {},
     "output_type": "execute_result"
    }
   ],
   "source": [
    "#estimate probability.\n",
    "y_pred_proba = rf_model.predict_proba(X_train)\n",
    "y_pred_proba"
   ]
  },
  {
   "cell_type": "code",
   "execution_count": 82,
   "metadata": {},
   "outputs": [
    {
     "name": "stdout",
     "output_type": "stream",
     "text": [
      "\n",
      "- TP: Predict a customer churn and they do churn\n",
      "- TN: Predict a customer not churn and they do not churn\n",
      "- FP: Predict a customer churn but the customer did not churn\n",
      "- FN: Predict a customer not churn and they did churn. \n",
      "\n",
      "-------------------------------------\n"
     ]
    },
    {
     "ename": "NameError",
     "evalue": "name 'TP' is not defined",
     "output_type": "error",
     "traceback": [
      "\u001b[0;31m---------------------------------------------------------------------------\u001b[0m",
      "\u001b[0;31mNameError\u001b[0m                                 Traceback (most recent call last)",
      "\u001b[0;32m<ipython-input-82-b29c3b2e5dbe>\u001b[0m in \u001b[0;36m<module>\u001b[0;34m\u001b[0m\n\u001b[1;32m      7\u001b[0m ''')\n\u001b[1;32m      8\u001b[0m \u001b[0mprint\u001b[0m\u001b[0;34m(\u001b[0m\u001b[0;34m'-------------------------------------'\u001b[0m\u001b[0;34m)\u001b[0m\u001b[0;34m\u001b[0m\u001b[0;34m\u001b[0m\u001b[0m\n\u001b[0;32m----> 9\u001b[0;31m \u001b[0mprint\u001b[0m\u001b[0;34m(\u001b[0m\u001b[0;34m\"True Positive\"\u001b[0m\u001b[0;34m,\u001b[0m \u001b[0mTP\u001b[0m\u001b[0;34m)\u001b[0m\u001b[0;34m\u001b[0m\u001b[0;34m\u001b[0m\u001b[0m\n\u001b[0m\u001b[1;32m     10\u001b[0m \u001b[0mprint\u001b[0m\u001b[0;34m(\u001b[0m\u001b[0;34m\"True Negative\"\u001b[0m\u001b[0;34m,\u001b[0m \u001b[0mTN\u001b[0m\u001b[0;34m)\u001b[0m\u001b[0;34m\u001b[0m\u001b[0;34m\u001b[0m\u001b[0m\n\u001b[1;32m     11\u001b[0m \u001b[0mprint\u001b[0m\u001b[0;34m(\u001b[0m\u001b[0;34m\"False Positive\"\u001b[0m\u001b[0;34m,\u001b[0m \u001b[0mFP\u001b[0m\u001b[0;34m)\u001b[0m\u001b[0;34m\u001b[0m\u001b[0;34m\u001b[0m\u001b[0m\n",
      "\u001b[0;31mNameError\u001b[0m: name 'TP' is not defined"
     ]
    }
   ],
   "source": [
    "#model score\n",
    "print('''\n",
    "- TP: Predict a customer churn and they do churn\n",
    "- TN: Predict a customer not churn and they do not churn\n",
    "- FP: Predict a customer churn but the customer did not churn\n",
    "- FN: Predict a customer not churn and they did churn. \n",
    "''')\n",
    "print('-------------------------------------')\n",
    "print(\"True Positive\", TP)\n",
    "print(\"True Negative\", TN)\n",
    "print(\"False Positive\", FP)\n",
    "print(\"False Negative\", FN)\n",
    "print('--------------------------------------')\n",
    "print(f'''True Positive Rate:{tpr:.2%},  \n",
    "False Positive Rate :{fpr:.2%},\n",
    "True Negative Rate: {tnr:.2%},  \n",
    "False Negative Rate: {fnr:.2%}''')\n",
    "print('--------------------------------------')\n",
    "\n",
    "print(f'Baseline accuracy of train set: {baseline.score(X_train, y_train):.2}')\n",
    "\n",
    "print('--------------------------------------')\n",
    "print(f'training score: {rf_model.score(X_train, y_train):.2%}')\n",
    "print(classification_report(y_train, y_pred_rf))\n",
    "print('--------------------------------------')\n",
    "print(f'validate score: {rf_model.score(X_validate, y_validate):.2%}')\n",
    "print(classification_report(y_validate, y_pred_rf_val))"
   ]
  },
  {
   "cell_type": "code",
   "execution_count": 255,
   "metadata": {},
   "outputs": [],
   "source": [
    "x_col =  features = ['fiber_optic', 'tenure_months', 'auto_pay', 'Month-to-month', 'Two year']\n",
    "y_col = 'churn'"
   ]
  },
  {
   "cell_type": "code",
   "execution_count": 256,
   "metadata": {},
   "outputs": [],
   "source": [
    "X_train, y_train = train[x_col], train[y_col]\n",
    "X_validate, y_validate = validate[x_col], validate[y_col]\n",
    "X_test, y_test = test[x_col], test[y_col]"
   ]
  },
  {
   "cell_type": "code",
   "execution_count": 94,
   "metadata": {},
   "outputs": [],
   "source": [
    "def model_metrics(X_train, y_train, X_validate, y_validate):\n",
    "    '''\n",
    "    function will score models.\n",
    "    Print classification reports to decide on a model to test.\n",
    "    Return each trained model, so I can choose one to test.\n",
    "    models = lr_model, dt_model, rf_model, kn_model.\n",
    "    '''\n",
    "    lr_model = LogisticRegression(random_state =1349)\n",
    "    dt_model = DecisionTreeClassifier(max_depth = 2, random_state=1349)\n",
    "    rf_model = RandomForestClassifier(max_depth=4, min_samples_leaf=3, random_state=1349)\n",
    "    models = [lr_model, dt_model, rf_model]\n",
    "    for model in models:\n",
    "        model.fit(X_train, y_train)\n",
    "        train_target = y_train\n",
    "        train_prediction = model.predict(X_train)\n",
    "        val_target = y_validate\n",
    "        val_prediction = model.predict(X_validate)\n",
    "        \n",
    "        TN_t, FP_t, FN_t, TP_t = confusion_matrix(y_train, train_prediction).ravel()\n",
    "        TN_v, FP_v, FN_v, TP_v = confusion_matrix(y_validate, val_prediction).ravel()\n",
    "    \n",
    "        tpr_t = TP_t/(TP_t+FN_t)\n",
    "        fpr_t = FP_t/(FP_t+TN_t)\n",
    "        tnr_t = TN_t/(TN_t+FP_t)\n",
    "        fnr_t = FN_t/(FN_t+TP_t)\n",
    "        tpr_v = TP_v/(TP_v+FN_v)\n",
    "        fpr_v = FP_v/(FP_v+TN_v)\n",
    "        tnr_v = TN_v/(TN_v+FP_v)\n",
    "        fnr_v = FN_v/(FN_v+TP_v)\n",
    "        \n",
    "        \n",
    "        \n",
    "        print('--------------------------')\n",
    "        print('')\n",
    "        print(model)\n",
    "        print('train set')\n",
    "        print('')\n",
    "        print(f'train accuracy: {model.score(X_train, y_train):.2%}')\n",
    "        print('classification report:')\n",
    "        print(classification_report(train_target, train_prediction))\n",
    "        print('')\n",
    "        print(f'''\n",
    "        True Positive Rate:{tpr_t:.2%},  \n",
    "        False Positive Rate :{fpr_t:.2%},\n",
    "        True Negative Rate: {tnr_t:.2%},  \n",
    "        False Negative Rate: {fnr_t:.2%}''')\n",
    "        print('------------------------')\n",
    "        \n",
    "        print('validate set')\n",
    "        print('')\n",
    "        print(f'validate accuracy: {model.score(X_validate, y_validate):.2%}')\n",
    "        print('classification report:')\n",
    "        print(classification_report(y_validate, val_prediction))\n",
    "        print('')\n",
    "        print(f'''\n",
    "        True Positive Rate:{tpr_v:.2%},  \n",
    "        False Positive Rate :{fpr_v:.2%},\n",
    "        True Negative Rate: {tnr_v:.2%},  \n",
    "        False Negative Rate: {fnr_v:.2%}''')\n",
    "        print('')\n",
    "        print('------------------------')\n",
    "        "
   ]
  },
  {
   "cell_type": "code",
   "execution_count": 7,
   "metadata": {},
   "outputs": [],
   "source": [
    "def evaluate_test(X_test, y_test,model):\n",
    "    '''\n",
    "    run this function AFTER compairng models.\n",
    "    function will evaluate tests.\n",
    "    #model types: lr_model, dt_model, rf_model\n",
    "    '''\n",
    "    #model types\n",
    "    lr_model = LogisticRegression(random_state =1349)\n",
    "    dt_model = DecisionTreeClassifier(max_depth = 2, random_state=1349)\n",
    "    rf_model = RandomForestClassifier(max_depth=4, min_samples_leaf=3, random_state=1349)\n",
    "    \n",
    "    model = ['lr_model', 'dt_model', 'rf_model']\n",
    "    for mod in model:\n",
    "\n",
    "    \n",
    "        test_target= y_test\n",
    "        test_prediction = model.predict(X_test)\n",
    "        \n",
    "    print('--------------------------')\n",
    "    print('')\n",
    "    print(model)\n",
    "    print('Test set')\n",
    "    print('')\n",
    "    print(f'test accuracy: {model.score(X_test, y_test):.2%}')\n",
    "    print('classification report:')\n",
    "    print(classification_report(test_target, test_prediction))\n",
    "    "
   ]
  },
  {
   "cell_type": "code",
   "execution_count": 9,
   "metadata": {},
   "outputs": [
    {
     "ename": "NameError",
     "evalue": "name 'X_test' is not defined",
     "output_type": "error",
     "traceback": [
      "\u001b[0;31m---------------------------------------------------------------------------\u001b[0m",
      "\u001b[0;31mNameError\u001b[0m                                 Traceback (most recent call last)",
      "\u001b[0;32m<ipython-input-9-b71004ab33cd>\u001b[0m in \u001b[0;36m<module>\u001b[0;34m\u001b[0m\n\u001b[0;32m----> 1\u001b[0;31m \u001b[0mevaluate_test\u001b[0m\u001b[0;34m(\u001b[0m\u001b[0mX_test\u001b[0m\u001b[0;34m,\u001b[0m \u001b[0my_test\u001b[0m\u001b[0;34m)\u001b[0m\u001b[0;34m\u001b[0m\u001b[0;34m\u001b[0m\u001b[0m\n\u001b[0m",
      "\u001b[0;31mNameError\u001b[0m: name 'X_test' is not defined"
     ]
    }
   ],
   "source": [
    "evaluate_test(rf_model)"
   ]
  },
  {
   "cell_type": "code",
   "execution_count": 95,
   "metadata": {},
   "outputs": [
    {
     "name": "stdout",
     "output_type": "stream",
     "text": [
      "--------------------------\n",
      "\n",
      "LogisticRegression(random_state=1349)\n",
      "train set\n",
      "\n",
      "train score: 78.84%\n",
      "classification report:\n",
      "              precision    recall  f1-score   support\n",
      "\n",
      "           0       0.83      0.89      0.86      2891\n",
      "           1       0.63      0.50      0.56      1046\n",
      "\n",
      "    accuracy                           0.79      3937\n",
      "   macro avg       0.73      0.70      0.71      3937\n",
      "weighted avg       0.78      0.79      0.78      3937\n",
      "\n",
      "\n",
      "\n",
      "        True Positive Rate:50.38%,  \n",
      "        False Positive Rate :10.86%,\n",
      "        True Negative Rate: 89.14%,  \n",
      "        False Negative Rate: 49.62%\n",
      "------------------------\n",
      "validate set\n",
      "\n",
      "validate score: 78.73%\n",
      "classification report:\n",
      "              precision    recall  f1-score   support\n",
      "\n",
      "           0       0.83      0.89      0.86      1239\n",
      "           1       0.62      0.51      0.56       449\n",
      "\n",
      "    accuracy                           0.79      1688\n",
      "   macro avg       0.73      0.70      0.71      1688\n",
      "weighted avg       0.78      0.79      0.78      1688\n",
      "\n",
      "\n",
      "\n",
      "        True Positive Rate:51.22%,  \n",
      "        False Positive Rate :11.30%,\n",
      "        True Negative Rate: 88.70%,  \n",
      "        False Negative Rate: 48.78%\n",
      "\n",
      "------------------------\n",
      "--------------------------\n",
      "\n",
      "DecisionTreeClassifier(max_depth=2, random_state=1349)\n",
      "train set\n",
      "\n",
      "train score: 76.94%\n",
      "classification report:\n",
      "              precision    recall  f1-score   support\n",
      "\n",
      "           0       0.86      0.82      0.84      2891\n",
      "           1       0.56      0.62      0.59      1046\n",
      "\n",
      "    accuracy                           0.77      3937\n",
      "   macro avg       0.71      0.72      0.71      3937\n",
      "weighted avg       0.78      0.77      0.77      3937\n",
      "\n",
      "\n",
      "\n",
      "        True Positive Rate:62.24%,  \n",
      "        False Positive Rate :17.74%,\n",
      "        True Negative Rate: 82.26%,  \n",
      "        False Negative Rate: 37.76%\n",
      "------------------------\n",
      "validate set\n",
      "\n",
      "validate score: 75.53%\n",
      "classification report:\n",
      "              precision    recall  f1-score   support\n",
      "\n",
      "           0       0.85      0.81      0.83      1239\n",
      "           1       0.53      0.62      0.57       449\n",
      "\n",
      "    accuracy                           0.76      1688\n",
      "   macro avg       0.69      0.71      0.70      1688\n",
      "weighted avg       0.77      0.76      0.76      1688\n",
      "\n",
      "\n",
      "\n",
      "        True Positive Rate:61.69%,  \n",
      "        False Positive Rate :19.45%,\n",
      "        True Negative Rate: 80.55%,  \n",
      "        False Negative Rate: 38.31%\n",
      "\n",
      "------------------------\n",
      "--------------------------\n",
      "\n",
      "RandomForestClassifier(max_depth=4, min_samples_leaf=3, random_state=1349)\n",
      "train set\n",
      "\n",
      "train score: 79.38%\n",
      "classification report:\n",
      "              precision    recall  f1-score   support\n",
      "\n",
      "           0       0.82      0.93      0.87      2891\n",
      "           1       0.68      0.42      0.52      1046\n",
      "\n",
      "    accuracy                           0.79      3937\n",
      "   macro avg       0.75      0.67      0.69      3937\n",
      "weighted avg       0.78      0.79      0.78      3937\n",
      "\n",
      "\n",
      "\n",
      "        True Positive Rate:41.97%,  \n",
      "        False Positive Rate :7.09%,\n",
      "        True Negative Rate: 92.91%,  \n",
      "        False Negative Rate: 58.03%\n",
      "------------------------\n",
      "validate set\n",
      "\n",
      "validate score: 78.91%\n",
      "classification report:\n",
      "              precision    recall  f1-score   support\n",
      "\n",
      "           0       0.81      0.92      0.87      1239\n",
      "           1       0.67      0.41      0.51       449\n",
      "\n",
      "    accuracy                           0.79      1688\n",
      "   macro avg       0.74      0.67      0.69      1688\n",
      "weighted avg       0.77      0.79      0.77      1688\n",
      "\n",
      "\n",
      "\n",
      "        True Positive Rate:41.43%,  \n",
      "        False Positive Rate :7.51%,\n",
      "        True Negative Rate: 92.49%,  \n",
      "        False Negative Rate: 58.57%\n",
      "\n",
      "------------------------\n"
     ]
    }
   ],
   "source": [
    "model_metrics(X_train, y_train, X_validate, y_validate)"
   ]
  },
  {
   "cell_type": "code",
   "execution_count": null,
   "metadata": {},
   "outputs": [],
   "source": []
  },
  {
   "cell_type": "code",
   "execution_count": null,
   "metadata": {},
   "outputs": [],
   "source": []
  }
 ],
 "metadata": {
  "kernelspec": {
   "display_name": "Python 3",
   "language": "python",
   "name": "python3"
  },
  "language_info": {
   "codemirror_mode": {
    "name": "ipython",
    "version": 3
   },
   "file_extension": ".py",
   "mimetype": "text/x-python",
   "name": "python",
   "nbconvert_exporter": "python",
   "pygments_lexer": "ipython3",
   "version": "3.8.5"
  }
 },
 "nbformat": 4,
 "nbformat_minor": 4
}
