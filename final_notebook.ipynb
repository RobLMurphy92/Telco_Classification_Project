{
 "cells": [
  {
   "cell_type": "markdown",
   "metadata": {},
   "source": [
    "# Telco-churn Classification Project\n",
    "--------------------------------------\n",
    "-------------------------------------\n",
    " #### Robert Murphy\n",
    " \n",
    " #### May 5, 2021"
   ]
  },
  {
   "cell_type": "markdown",
   "metadata": {},
   "source": [
    "## Project Planning\n",
    "\n",
    "- Create a README.md which contains a data dictionary, project objectives, business goals, initial hypothesis.\n",
    "- Acquire the telco dataset from the Codeup databse, create a function which will use a sql query and pull specific tables save this function in a acquire.py\n",
    "- Prep the telco dataset and clean it as well, remove unwanted data, make alterations to the datatypes.\n",
    "- Change any categorical variables into a binary categorical. Create a function to simplify this process and include it in a prepare.py\n",
    "- Calculate your baseline accuracy and use this for comparing adequacy of the model.\n",
    "- Train three different classification models.\n",
    "- Evaluate the models on the train and validate datasets.\n",
    "- Choose the model which performs the best, then run that model on the test dataset.\n",
    "- Create csv file.\n",
    "- Present conclusions and main takeaways.\n",
    "\n",
    "\n",
    "\n"
   ]
  },
  {
   "cell_type": "markdown",
   "metadata": {},
   "source": [
    "--------------------------------------"
   ]
  },
  {
   "cell_type": "markdown",
   "metadata": {},
   "source": [
    "### Executive Summary:\n",
    "- There is six features which appear to be significant drivers in churn amongst customers.\n",
    "- Exploration of the data showed a combination of features can be useful in predicting churn.\n",
    "- The logistical model performed the best at predicting churn.\n"
   ]
  },
  {
   "cell_type": "markdown",
   "metadata": {},
   "source": [
    "### Imports"
   ]
  },
  {
   "cell_type": "code",
   "execution_count": 9,
   "metadata": {},
   "outputs": [],
   "source": [
    "import pandas as pd\n",
    "import numpy as np\n",
    "import matplotlib.pyplot as plt\n",
    "import seaborn as sns\n",
    "import os\n",
    "from env import host, user, password\n",
    "import acquire\n",
    "from sklearn.model_selection import train_test_split\n",
    "from sklearn.impute import SimpleImputer\n",
    "import pandas as pd\n",
    "from scipy import stats\n",
    "from pydataset import data\n",
    "from sklearn.tree import DecisionTreeClassifier, plot_tree, export_text\n",
    "from sklearn.ensemble import RandomForestClassifier\n",
    "from sklearn.neighbors import KNeighborsClassifier\n",
    "from sklearn.metrics import classification_report\n",
    "from sklearn.metrics import confusion_matrix\n",
    "from sklearn.dummy import DummyClassifier\n",
    "from sklearn.metrics import accuracy_score\n",
    "from sklearn.metrics import precision_score\n",
    "from sklearn.metrics import recall_score\n",
    "from sklearn.linear_model import LogisticRegression\n",
    "import prepare\n",
    "import model\n",
    "\n",
    "from env import host, user, password\n",
    "\n",
    "\n",
    "\n",
    "\n",
    "# ignore warnings\n",
    "import warnings\n",
    "warnings.filterwarnings(\"ignore\")"
   ]
  },
  {
   "cell_type": "markdown",
   "metadata": {},
   "source": [
    "---------------------------------"
   ]
  },
  {
   "cell_type": "markdown",
   "metadata": {},
   "source": [
    "# Acquire Stage:\n",
    "\n",
    "### Main Objective:\n",
    "- Connect to the Codeup DB and bring in the Telco-churn dataset"
   ]
  },
  {
   "cell_type": "code",
   "execution_count": 10,
   "metadata": {},
   "outputs": [],
   "source": [
    "# creating df using function within our \n",
    "telco_churn_df = acquire.get_telco_churn_data()"
   ]
  },
  {
   "cell_type": "code",
   "execution_count": 53,
   "metadata": {},
   "outputs": [
    {
     "data": {
      "text/html": [
       "<div>\n",
       "<style scoped>\n",
       "    .dataframe tbody tr th:only-of-type {\n",
       "        vertical-align: middle;\n",
       "    }\n",
       "\n",
       "    .dataframe tbody tr th {\n",
       "        vertical-align: top;\n",
       "    }\n",
       "\n",
       "    .dataframe thead th {\n",
       "        text-align: right;\n",
       "    }\n",
       "</style>\n",
       "<table border=\"1\" class=\"dataframe\">\n",
       "  <thead>\n",
       "    <tr style=\"text-align: right;\">\n",
       "      <th></th>\n",
       "      <th>gender</th>\n",
       "      <th>senior_citizen</th>\n",
       "      <th>partner</th>\n",
       "      <th>dependents</th>\n",
       "      <th>tenure_months</th>\n",
       "      <th>phone_service</th>\n",
       "      <th>internet_service_type_id</th>\n",
       "      <th>monthly_charges</th>\n",
       "      <th>total_charges</th>\n",
       "      <th>churn</th>\n",
       "      <th>DSL</th>\n",
       "      <th>fiber_optic</th>\n",
       "      <th>Month-to-month_contract</th>\n",
       "      <th>one_year</th>\n",
       "      <th>two_year_contract</th>\n",
       "      <th>auto_pay</th>\n",
       "      <th>tenure_year</th>\n",
       "    </tr>\n",
       "    <tr>\n",
       "      <th>customer_id</th>\n",
       "      <th></th>\n",
       "      <th></th>\n",
       "      <th></th>\n",
       "      <th></th>\n",
       "      <th></th>\n",
       "      <th></th>\n",
       "      <th></th>\n",
       "      <th></th>\n",
       "      <th></th>\n",
       "      <th></th>\n",
       "      <th></th>\n",
       "      <th></th>\n",
       "      <th></th>\n",
       "      <th></th>\n",
       "      <th></th>\n",
       "      <th></th>\n",
       "      <th></th>\n",
       "    </tr>\n",
       "  </thead>\n",
       "  <tbody>\n",
       "    <tr>\n",
       "      <th>0016-QLJIS</th>\n",
       "      <td>1</td>\n",
       "      <td>0</td>\n",
       "      <td>1</td>\n",
       "      <td>1</td>\n",
       "      <td>65</td>\n",
       "      <td>1</td>\n",
       "      <td>1</td>\n",
       "      <td>90.45</td>\n",
       "      <td>5957.90</td>\n",
       "      <td>0</td>\n",
       "      <td>1</td>\n",
       "      <td>0</td>\n",
       "      <td>0</td>\n",
       "      <td>0</td>\n",
       "      <td>1</td>\n",
       "      <td>0</td>\n",
       "      <td>5.0</td>\n",
       "    </tr>\n",
       "    <tr>\n",
       "      <th>0017-DINOC</th>\n",
       "      <td>0</td>\n",
       "      <td>0</td>\n",
       "      <td>0</td>\n",
       "      <td>0</td>\n",
       "      <td>54</td>\n",
       "      <td>0</td>\n",
       "      <td>1</td>\n",
       "      <td>45.20</td>\n",
       "      <td>2460.55</td>\n",
       "      <td>0</td>\n",
       "      <td>1</td>\n",
       "      <td>0</td>\n",
       "      <td>0</td>\n",
       "      <td>0</td>\n",
       "      <td>1</td>\n",
       "      <td>1</td>\n",
       "      <td>4.0</td>\n",
       "    </tr>\n",
       "    <tr>\n",
       "      <th>0019-GFNTW</th>\n",
       "      <td>1</td>\n",
       "      <td>0</td>\n",
       "      <td>0</td>\n",
       "      <td>0</td>\n",
       "      <td>56</td>\n",
       "      <td>0</td>\n",
       "      <td>1</td>\n",
       "      <td>45.05</td>\n",
       "      <td>2560.10</td>\n",
       "      <td>0</td>\n",
       "      <td>1</td>\n",
       "      <td>0</td>\n",
       "      <td>0</td>\n",
       "      <td>0</td>\n",
       "      <td>1</td>\n",
       "      <td>1</td>\n",
       "      <td>5.0</td>\n",
       "    </tr>\n",
       "  </tbody>\n",
       "</table>\n",
       "</div>"
      ],
      "text/plain": [
       "             gender  senior_citizen  partner  dependents  tenure_months  \\\n",
       "customer_id                                                               \n",
       "0016-QLJIS        1               0        1           1             65   \n",
       "0017-DINOC        0               0        0           0             54   \n",
       "0019-GFNTW        1               0        0           0             56   \n",
       "\n",
       "             phone_service  internet_service_type_id  monthly_charges  \\\n",
       "customer_id                                                             \n",
       "0016-QLJIS               1                         1            90.45   \n",
       "0017-DINOC               0                         1            45.20   \n",
       "0019-GFNTW               0                         1            45.05   \n",
       "\n",
       "             total_charges  churn  DSL  fiber_optic  Month-to-month_contract  \\\n",
       "customer_id                                                                    \n",
       "0016-QLJIS         5957.90      0    1            0                        0   \n",
       "0017-DINOC         2460.55      0    1            0                        0   \n",
       "0019-GFNTW         2560.10      0    1            0                        0   \n",
       "\n",
       "             one_year  two_year_contract  auto_pay  tenure_year  \n",
       "customer_id                                                      \n",
       "0016-QLJIS          0                  1         0          5.0  \n",
       "0017-DINOC          0                  1         1          4.0  \n",
       "0019-GFNTW          0                  1         1          5.0  "
      ]
     },
     "execution_count": 53,
     "metadata": {},
     "output_type": "execute_result"
    }
   ],
   "source": [
    "# looking at the values within the records and fields.\n",
    "telco_churn_df.head(3)"
   ]
  },
  {
   "cell_type": "code",
   "execution_count": 12,
   "metadata": {},
   "outputs": [
    {
     "data": {
      "text/plain": [
       "(7043, 27)"
      ]
     },
     "execution_count": 12,
     "metadata": {},
     "output_type": "execute_result"
    }
   ],
   "source": [
    "# looking into the shape of the DF\n",
    "# 7043 Records and 27 Fields\n",
    "telco_churn_df.shape"
   ]
  },
  {
   "cell_type": "code",
   "execution_count": 13,
   "metadata": {},
   "outputs": [
    {
     "name": "stdout",
     "output_type": "stream",
     "text": [
      "<class 'pandas.core.frame.DataFrame'>\n",
      "RangeIndex: 7043 entries, 0 to 7042\n",
      "Data columns (total 27 columns):\n",
      " #   Column                    Non-Null Count  Dtype  \n",
      "---  ------                    --------------  -----  \n",
      " 0   customer_id               7043 non-null   object \n",
      " 1   gender                    7043 non-null   object \n",
      " 2   senior_citizen            7043 non-null   int64  \n",
      " 3   partner                   7043 non-null   object \n",
      " 4   dependents                7043 non-null   object \n",
      " 5   tenure                    7043 non-null   int64  \n",
      " 6   phone_service             7043 non-null   object \n",
      " 7   multiple_lines            7043 non-null   object \n",
      " 8   internet_service_type_id  7043 non-null   int64  \n",
      " 9   online_security           7043 non-null   object \n",
      " 10  online_backup             7043 non-null   object \n",
      " 11  device_protection         7043 non-null   object \n",
      " 12  tech_support              7043 non-null   object \n",
      " 13  streaming_tv              7043 non-null   object \n",
      " 14  streaming_movies          7043 non-null   object \n",
      " 15  contract_type_id          7043 non-null   int64  \n",
      " 16  paperless_billing         7043 non-null   object \n",
      " 17  payment_type_id           7043 non-null   int64  \n",
      " 18  monthly_charges           7043 non-null   float64\n",
      " 19  total_charges             7043 non-null   object \n",
      " 20  churn                     7043 non-null   object \n",
      " 21  contract_type_id          7043 non-null   int64  \n",
      " 22  contract_type             7043 non-null   object \n",
      " 23  internet_service_type_id  7043 non-null   int64  \n",
      " 24  internet_service_type     7043 non-null   object \n",
      " 25  payment_type_id           7043 non-null   int64  \n",
      " 26  payment_type              7043 non-null   object \n",
      "dtypes: float64(1), int64(8), object(18)\n",
      "memory usage: 1.5+ MB\n"
     ]
    }
   ],
   "source": [
    "# looking at the data types within the dataframe.\n",
    "telco_churn_df.info()"
   ]
  },
  {
   "cell_type": "code",
   "execution_count": 14,
   "metadata": {},
   "outputs": [
    {
     "data": {
      "text/html": [
       "<div>\n",
       "<style scoped>\n",
       "    .dataframe tbody tr th:only-of-type {\n",
       "        vertical-align: middle;\n",
       "    }\n",
       "\n",
       "    .dataframe tbody tr th {\n",
       "        vertical-align: top;\n",
       "    }\n",
       "\n",
       "    .dataframe thead th {\n",
       "        text-align: right;\n",
       "    }\n",
       "</style>\n",
       "<table border=\"1\" class=\"dataframe\">\n",
       "  <thead>\n",
       "    <tr style=\"text-align: right;\">\n",
       "      <th></th>\n",
       "      <th>senior_citizen</th>\n",
       "      <th>tenure</th>\n",
       "      <th>internet_service_type_id</th>\n",
       "      <th>contract_type_id</th>\n",
       "      <th>payment_type_id</th>\n",
       "      <th>monthly_charges</th>\n",
       "      <th>contract_type_id</th>\n",
       "      <th>internet_service_type_id</th>\n",
       "      <th>payment_type_id</th>\n",
       "    </tr>\n",
       "  </thead>\n",
       "  <tbody>\n",
       "    <tr>\n",
       "      <th>count</th>\n",
       "      <td>7043.000000</td>\n",
       "      <td>7043.000000</td>\n",
       "      <td>7043.000000</td>\n",
       "      <td>7043.000000</td>\n",
       "      <td>7043.000000</td>\n",
       "      <td>7043.000000</td>\n",
       "      <td>7043.000000</td>\n",
       "      <td>7043.000000</td>\n",
       "      <td>7043.000000</td>\n",
       "    </tr>\n",
       "    <tr>\n",
       "      <th>mean</th>\n",
       "      <td>0.162147</td>\n",
       "      <td>32.371149</td>\n",
       "      <td>1.872923</td>\n",
       "      <td>1.690473</td>\n",
       "      <td>2.315633</td>\n",
       "      <td>64.761692</td>\n",
       "      <td>1.690473</td>\n",
       "      <td>1.872923</td>\n",
       "      <td>2.315633</td>\n",
       "    </tr>\n",
       "    <tr>\n",
       "      <th>std</th>\n",
       "      <td>0.368612</td>\n",
       "      <td>24.559481</td>\n",
       "      <td>0.737796</td>\n",
       "      <td>0.833755</td>\n",
       "      <td>1.148907</td>\n",
       "      <td>30.090047</td>\n",
       "      <td>0.833755</td>\n",
       "      <td>0.737796</td>\n",
       "      <td>1.148907</td>\n",
       "    </tr>\n",
       "    <tr>\n",
       "      <th>min</th>\n",
       "      <td>0.000000</td>\n",
       "      <td>0.000000</td>\n",
       "      <td>1.000000</td>\n",
       "      <td>1.000000</td>\n",
       "      <td>1.000000</td>\n",
       "      <td>18.250000</td>\n",
       "      <td>1.000000</td>\n",
       "      <td>1.000000</td>\n",
       "      <td>1.000000</td>\n",
       "    </tr>\n",
       "    <tr>\n",
       "      <th>25%</th>\n",
       "      <td>0.000000</td>\n",
       "      <td>9.000000</td>\n",
       "      <td>1.000000</td>\n",
       "      <td>1.000000</td>\n",
       "      <td>1.000000</td>\n",
       "      <td>35.500000</td>\n",
       "      <td>1.000000</td>\n",
       "      <td>1.000000</td>\n",
       "      <td>1.000000</td>\n",
       "    </tr>\n",
       "    <tr>\n",
       "      <th>50%</th>\n",
       "      <td>0.000000</td>\n",
       "      <td>29.000000</td>\n",
       "      <td>2.000000</td>\n",
       "      <td>1.000000</td>\n",
       "      <td>2.000000</td>\n",
       "      <td>70.350000</td>\n",
       "      <td>1.000000</td>\n",
       "      <td>2.000000</td>\n",
       "      <td>2.000000</td>\n",
       "    </tr>\n",
       "    <tr>\n",
       "      <th>75%</th>\n",
       "      <td>0.000000</td>\n",
       "      <td>55.000000</td>\n",
       "      <td>2.000000</td>\n",
       "      <td>2.000000</td>\n",
       "      <td>3.000000</td>\n",
       "      <td>89.850000</td>\n",
       "      <td>2.000000</td>\n",
       "      <td>2.000000</td>\n",
       "      <td>3.000000</td>\n",
       "    </tr>\n",
       "    <tr>\n",
       "      <th>max</th>\n",
       "      <td>1.000000</td>\n",
       "      <td>72.000000</td>\n",
       "      <td>3.000000</td>\n",
       "      <td>3.000000</td>\n",
       "      <td>4.000000</td>\n",
       "      <td>118.750000</td>\n",
       "      <td>3.000000</td>\n",
       "      <td>3.000000</td>\n",
       "      <td>4.000000</td>\n",
       "    </tr>\n",
       "  </tbody>\n",
       "</table>\n",
       "</div>"
      ],
      "text/plain": [
       "       senior_citizen       tenure  internet_service_type_id  \\\n",
       "count     7043.000000  7043.000000               7043.000000   \n",
       "mean         0.162147    32.371149                  1.872923   \n",
       "std          0.368612    24.559481                  0.737796   \n",
       "min          0.000000     0.000000                  1.000000   \n",
       "25%          0.000000     9.000000                  1.000000   \n",
       "50%          0.000000    29.000000                  2.000000   \n",
       "75%          0.000000    55.000000                  2.000000   \n",
       "max          1.000000    72.000000                  3.000000   \n",
       "\n",
       "       contract_type_id  payment_type_id  monthly_charges  contract_type_id  \\\n",
       "count       7043.000000      7043.000000      7043.000000       7043.000000   \n",
       "mean           1.690473         2.315633        64.761692          1.690473   \n",
       "std            0.833755         1.148907        30.090047          0.833755   \n",
       "min            1.000000         1.000000        18.250000          1.000000   \n",
       "25%            1.000000         1.000000        35.500000          1.000000   \n",
       "50%            1.000000         2.000000        70.350000          1.000000   \n",
       "75%            2.000000         3.000000        89.850000          2.000000   \n",
       "max            3.000000         4.000000       118.750000          3.000000   \n",
       "\n",
       "       internet_service_type_id  payment_type_id  \n",
       "count               7043.000000      7043.000000  \n",
       "mean                   1.872923         2.315633  \n",
       "std                    0.737796         1.148907  \n",
       "min                    1.000000         1.000000  \n",
       "25%                    1.000000         1.000000  \n",
       "50%                    2.000000         2.000000  \n",
       "75%                    2.000000         3.000000  \n",
       "max                    3.000000         4.000000  "
      ]
     },
     "execution_count": 14,
     "metadata": {},
     "output_type": "execute_result"
    }
   ],
   "source": [
    "# stats of the numerical columns with range added.\n",
    "telco_churn_df.describe()"
   ]
  },
  {
   "cell_type": "markdown",
   "metadata": {},
   "source": [
    "## Acquire Takeaways:\n",
    "\n",
    "- Created a sql query and implemented it within a function to acquire Telco-churn dataframe from the Codeup DB.\n",
    "- Imported my get_telco_churn_data function from my acquire.py file, which generated a local csv.\n",
    "- The shape of the dataframe is 7043 records and 27 Fields.\n",
    "- Looking at the data frame using .info() can see a majority of dtype is 18 object, then numeric being 1 float64 and 8 int64.\n",
    "- Appears total_charges is an object and needs to be converted to a float.\n",
    "- Several fields provide similar information, would be worth dropping some.\n",
    "\n",
    "\n"
   ]
  },
  {
   "cell_type": "markdown",
   "metadata": {},
   "source": [
    "----------------------------------"
   ]
  },
  {
   "cell_type": "markdown",
   "metadata": {},
   "source": [
    "# Prepare Stage:"
   ]
  },
  {
   "cell_type": "markdown",
   "metadata": {},
   "source": [
    "### Main Objective:\n",
    "\n",
    "#### House cleaning.\n",
    "- Removal of non essential duplicate records and fields.\n",
    "- Inspecting the DF for data inconsitency and correcting these errors.\n",
    "- Inspecting the DF for empty and NaN values and replacing these empty and NaN values with relative data.\n",
    "- Changing datatypes when deemed necessary.\n",
    "- Change several fields a binary categorical.\n"
   ]
  },
  {
   "cell_type": "code",
   "execution_count": 15,
   "metadata": {},
   "outputs": [],
   "source": [
    "#see prepare.py for prep_telco function\n",
    "telco_churn_df = prepare.prep_telco(telco_churn_df)"
   ]
  },
  {
   "cell_type": "code",
   "execution_count": 16,
   "metadata": {},
   "outputs": [
    {
     "data": {
      "text/plain": [
       "(7032, 17)"
      ]
     },
     "execution_count": 16,
     "metadata": {},
     "output_type": "execute_result"
    }
   ],
   "source": [
    "# decrease in records and fields from 7043 x 27, 11 records contained NaN values, these were dropped.\n",
    "# shape of dataframe is 7032 records, and 20 fields.\n",
    "telco_churn_df.shape"
   ]
  },
  {
   "cell_type": "code",
   "execution_count": 17,
   "metadata": {},
   "outputs": [
    {
     "data": {
      "text/html": [
       "<div>\n",
       "<style scoped>\n",
       "    .dataframe tbody tr th:only-of-type {\n",
       "        vertical-align: middle;\n",
       "    }\n",
       "\n",
       "    .dataframe tbody tr th {\n",
       "        vertical-align: top;\n",
       "    }\n",
       "\n",
       "    .dataframe thead th {\n",
       "        text-align: right;\n",
       "    }\n",
       "</style>\n",
       "<table border=\"1\" class=\"dataframe\">\n",
       "  <thead>\n",
       "    <tr style=\"text-align: right;\">\n",
       "      <th></th>\n",
       "      <th>gender</th>\n",
       "      <th>senior_citizen</th>\n",
       "      <th>partner</th>\n",
       "      <th>dependents</th>\n",
       "      <th>tenure_months</th>\n",
       "      <th>phone_service</th>\n",
       "      <th>internet_service_type_id</th>\n",
       "      <th>monthly_charges</th>\n",
       "      <th>total_charges</th>\n",
       "      <th>churn</th>\n",
       "      <th>DSL</th>\n",
       "      <th>fiber_optic</th>\n",
       "      <th>Month-to-month_contract</th>\n",
       "      <th>one_year</th>\n",
       "      <th>two_year_contract</th>\n",
       "      <th>auto_pay</th>\n",
       "      <th>tenure_year</th>\n",
       "    </tr>\n",
       "    <tr>\n",
       "      <th>customer_id</th>\n",
       "      <th></th>\n",
       "      <th></th>\n",
       "      <th></th>\n",
       "      <th></th>\n",
       "      <th></th>\n",
       "      <th></th>\n",
       "      <th></th>\n",
       "      <th></th>\n",
       "      <th></th>\n",
       "      <th></th>\n",
       "      <th></th>\n",
       "      <th></th>\n",
       "      <th></th>\n",
       "      <th></th>\n",
       "      <th></th>\n",
       "      <th></th>\n",
       "      <th></th>\n",
       "    </tr>\n",
       "  </thead>\n",
       "  <tbody>\n",
       "    <tr>\n",
       "      <th>0016-QLJIS</th>\n",
       "      <td>1</td>\n",
       "      <td>0</td>\n",
       "      <td>1</td>\n",
       "      <td>1</td>\n",
       "      <td>65</td>\n",
       "      <td>1</td>\n",
       "      <td>1</td>\n",
       "      <td>90.45</td>\n",
       "      <td>5957.90</td>\n",
       "      <td>0</td>\n",
       "      <td>1</td>\n",
       "      <td>0</td>\n",
       "      <td>0</td>\n",
       "      <td>0</td>\n",
       "      <td>1</td>\n",
       "      <td>0</td>\n",
       "      <td>5.0</td>\n",
       "    </tr>\n",
       "    <tr>\n",
       "      <th>0017-DINOC</th>\n",
       "      <td>0</td>\n",
       "      <td>0</td>\n",
       "      <td>0</td>\n",
       "      <td>0</td>\n",
       "      <td>54</td>\n",
       "      <td>0</td>\n",
       "      <td>1</td>\n",
       "      <td>45.20</td>\n",
       "      <td>2460.55</td>\n",
       "      <td>0</td>\n",
       "      <td>1</td>\n",
       "      <td>0</td>\n",
       "      <td>0</td>\n",
       "      <td>0</td>\n",
       "      <td>1</td>\n",
       "      <td>1</td>\n",
       "      <td>4.0</td>\n",
       "    </tr>\n",
       "    <tr>\n",
       "      <th>0019-GFNTW</th>\n",
       "      <td>1</td>\n",
       "      <td>0</td>\n",
       "      <td>0</td>\n",
       "      <td>0</td>\n",
       "      <td>56</td>\n",
       "      <td>0</td>\n",
       "      <td>1</td>\n",
       "      <td>45.05</td>\n",
       "      <td>2560.10</td>\n",
       "      <td>0</td>\n",
       "      <td>1</td>\n",
       "      <td>0</td>\n",
       "      <td>0</td>\n",
       "      <td>0</td>\n",
       "      <td>1</td>\n",
       "      <td>1</td>\n",
       "      <td>5.0</td>\n",
       "    </tr>\n",
       "    <tr>\n",
       "      <th>0056-EPFBG</th>\n",
       "      <td>0</td>\n",
       "      <td>0</td>\n",
       "      <td>1</td>\n",
       "      <td>1</td>\n",
       "      <td>20</td>\n",
       "      <td>0</td>\n",
       "      <td>1</td>\n",
       "      <td>39.40</td>\n",
       "      <td>825.40</td>\n",
       "      <td>0</td>\n",
       "      <td>1</td>\n",
       "      <td>0</td>\n",
       "      <td>0</td>\n",
       "      <td>0</td>\n",
       "      <td>1</td>\n",
       "      <td>1</td>\n",
       "      <td>2.0</td>\n",
       "    </tr>\n",
       "    <tr>\n",
       "      <th>0078-XZMHT</th>\n",
       "      <td>0</td>\n",
       "      <td>0</td>\n",
       "      <td>1</td>\n",
       "      <td>0</td>\n",
       "      <td>72</td>\n",
       "      <td>1</td>\n",
       "      <td>1</td>\n",
       "      <td>85.15</td>\n",
       "      <td>6316.20</td>\n",
       "      <td>0</td>\n",
       "      <td>1</td>\n",
       "      <td>0</td>\n",
       "      <td>0</td>\n",
       "      <td>0</td>\n",
       "      <td>1</td>\n",
       "      <td>1</td>\n",
       "      <td>6.0</td>\n",
       "    </tr>\n",
       "  </tbody>\n",
       "</table>\n",
       "</div>"
      ],
      "text/plain": [
       "             gender  senior_citizen  partner  dependents  tenure_months  \\\n",
       "customer_id                                                               \n",
       "0016-QLJIS        1               0        1           1             65   \n",
       "0017-DINOC        0               0        0           0             54   \n",
       "0019-GFNTW        1               0        0           0             56   \n",
       "0056-EPFBG        0               0        1           1             20   \n",
       "0078-XZMHT        0               0        1           0             72   \n",
       "\n",
       "             phone_service  internet_service_type_id  monthly_charges  \\\n",
       "customer_id                                                             \n",
       "0016-QLJIS               1                         1            90.45   \n",
       "0017-DINOC               0                         1            45.20   \n",
       "0019-GFNTW               0                         1            45.05   \n",
       "0056-EPFBG               0                         1            39.40   \n",
       "0078-XZMHT               1                         1            85.15   \n",
       "\n",
       "             total_charges  churn  DSL  fiber_optic  Month-to-month_contract  \\\n",
       "customer_id                                                                    \n",
       "0016-QLJIS         5957.90      0    1            0                        0   \n",
       "0017-DINOC         2460.55      0    1            0                        0   \n",
       "0019-GFNTW         2560.10      0    1            0                        0   \n",
       "0056-EPFBG          825.40      0    1            0                        0   \n",
       "0078-XZMHT         6316.20      0    1            0                        0   \n",
       "\n",
       "             one_year  two_year_contract  auto_pay  tenure_year  \n",
       "customer_id                                                      \n",
       "0016-QLJIS          0                  1         0          5.0  \n",
       "0017-DINOC          0                  1         1          4.0  \n",
       "0019-GFNTW          0                  1         1          5.0  \n",
       "0056-EPFBG          0                  1         1          2.0  \n",
       "0078-XZMHT          0                  1         1          6.0  "
      ]
     },
     "execution_count": 17,
     "metadata": {},
     "output_type": "execute_result"
    }
   ],
   "source": [
    "# duplicate records and fields removed, a few fields changed to binary categorical, index changed to customer id.\n",
    "telco_churn_df.head(5)"
   ]
  },
  {
   "cell_type": "code",
   "execution_count": 18,
   "metadata": {},
   "outputs": [
    {
     "name": "stdout",
     "output_type": "stream",
     "text": [
      "<class 'pandas.core.frame.DataFrame'>\n",
      "Index: 7032 entries, 0016-QLJIS to 9986-BONCE\n",
      "Data columns (total 17 columns):\n",
      " #   Column                    Non-Null Count  Dtype  \n",
      "---  ------                    --------------  -----  \n",
      " 0   gender                    7032 non-null   int64  \n",
      " 1   senior_citizen            7032 non-null   int64  \n",
      " 2   partner                   7032 non-null   int64  \n",
      " 3   dependents                7032 non-null   int64  \n",
      " 4   tenure_months             7032 non-null   int64  \n",
      " 5   phone_service             7032 non-null   int64  \n",
      " 6   internet_service_type_id  7032 non-null   int64  \n",
      " 7   monthly_charges           7032 non-null   float64\n",
      " 8   total_charges             7032 non-null   float64\n",
      " 9   churn                     7032 non-null   int64  \n",
      " 10  DSL                       7032 non-null   uint8  \n",
      " 11  fiber_optic               7032 non-null   uint8  \n",
      " 12  Month-to-month_contract   7032 non-null   uint8  \n",
      " 13  one_year                  7032 non-null   uint8  \n",
      " 14  two_year_contract         7032 non-null   uint8  \n",
      " 15  auto_pay                  7032 non-null   uint8  \n",
      " 16  tenure_year               7032 non-null   float64\n",
      "dtypes: float64(3), int64(8), uint8(6)\n",
      "memory usage: 700.5+ KB\n"
     ]
    }
   ],
   "source": [
    "#viewing dtype changes.\n",
    "telco_churn_df.info()"
   ]
  },
  {
   "cell_type": "code",
   "execution_count": 19,
   "metadata": {},
   "outputs": [
    {
     "data": {
      "text/plain": [
       "((3937, 17), (1688, 17), (1407, 17))"
      ]
     },
     "execution_count": 19,
     "metadata": {},
     "output_type": "execute_result"
    }
   ],
   "source": [
    "# use imported function telco_split to split the data, checking shape of train, validate, test.\n",
    "train, validate, test = prepare.telco_split(telco_churn_df)\n",
    "train.shape, validate.shape, test.shape"
   ]
  },
  {
   "cell_type": "markdown",
   "metadata": {},
   "source": [
    "Prepare Takeaways:\n",
    "\n",
    "- Implemented a function which did alot of the \"house cleaning\".\n",
    "- Removal of unncessary fields and records.\n",
    "- Changed total_charges from object to a float.\n",
    "- Customer_id is now the dataframe index.\n",
    "- Several fields changed to a binary categorical.\n",
    "\n"
   ]
  },
  {
   "cell_type": "markdown",
   "metadata": {},
   "source": [
    "-----------------------------------"
   ]
  },
  {
   "cell_type": "markdown",
   "metadata": {},
   "source": [
    "# Explore Stage:"
   ]
  },
  {
   "cell_type": "markdown",
   "metadata": {},
   "source": [
    "### Main Objective:\n",
    "- Visualizing the data, looking for trends.\n",
    "- Visualization showing overall churn rate.\n"
   ]
  },
  {
   "cell_type": "code",
   "execution_count": 20,
   "metadata": {
    "jupyter": {
     "source_hidden": true
    }
   },
   "outputs": [],
   "source": [
    "plt.rc('font', size=14)\n",
    "plt.rc('figure', figsize=(14, 10))"
   ]
  },
  {
   "cell_type": "code",
   "execution_count": 50,
   "metadata": {},
   "outputs": [
    {
     "data": {
      "image/png": "[encoded data removed]",
      "text/plain": [
       "<Figure size 1008x720 with 1 Axes>"
      ]
     },
     "metadata": {
      "needs_background": "light"
     },
     "output_type": "display_data"
    }
   ],
   "source": [
    "#looking at the overall churn rate.\n",
    "telco_churn_df.churn.value_counts().sort_index().plot.bar()\n",
    "churn_rate = telco_churn_df.churn.mean()\n",
    "plt.title(f'Overall churn rate: {churn_rate:.2%}')\n",
    "plt.xlabel('churn')\n",
    "plt.xticks(rotation = 0) \n",
    "plt.show()"
   ]
  },
  {
   "cell_type": "code",
   "execution_count": 22,
   "metadata": {
    "jupyter": {
     "source_hidden": true
    }
   },
   "outputs": [
    {
     "data": {
      "text/html": [
       "<div>\n",
       "<style scoped>\n",
       "    .dataframe tbody tr th:only-of-type {\n",
       "        vertical-align: middle;\n",
       "    }\n",
       "\n",
       "    .dataframe tbody tr th {\n",
       "        vertical-align: top;\n",
       "    }\n",
       "\n",
       "    .dataframe thead th {\n",
       "        text-align: right;\n",
       "    }\n",
       "</style>\n",
       "<table border=\"1\" class=\"dataframe\">\n",
       "  <thead>\n",
       "    <tr style=\"text-align: right;\">\n",
       "      <th></th>\n",
       "      <th>churn</th>\n",
       "    </tr>\n",
       "    <tr>\n",
       "      <th>index</th>\n",
       "      <th></th>\n",
       "    </tr>\n",
       "  </thead>\n",
       "  <tbody>\n",
       "    <tr>\n",
       "      <th>tenure_months</th>\n",
       "      <td>-0.350081</td>\n",
       "    </tr>\n",
       "    <tr>\n",
       "      <th>tenure_year</th>\n",
       "      <td>-0.348994</td>\n",
       "    </tr>\n",
       "    <tr>\n",
       "      <th>two_year_contract</th>\n",
       "      <td>-0.301909</td>\n",
       "    </tr>\n",
       "    <tr>\n",
       "      <th>auto_pay</th>\n",
       "      <td>-0.216455</td>\n",
       "    </tr>\n",
       "    <tr>\n",
       "      <th>total_charges</th>\n",
       "      <td>-0.194262</td>\n",
       "    </tr>\n",
       "    <tr>\n",
       "      <th>one_year</th>\n",
       "      <td>-0.178959</td>\n",
       "    </tr>\n",
       "    <tr>\n",
       "      <th>dependents</th>\n",
       "      <td>-0.149845</td>\n",
       "    </tr>\n",
       "    <tr>\n",
       "      <th>partner</th>\n",
       "      <td>-0.135987</td>\n",
       "    </tr>\n",
       "    <tr>\n",
       "      <th>DSL</th>\n",
       "      <td>-0.118365</td>\n",
       "    </tr>\n",
       "    <tr>\n",
       "      <th>internet_service_type_id</th>\n",
       "      <td>-0.058992</td>\n",
       "    </tr>\n",
       "    <tr>\n",
       "      <th>phone_service</th>\n",
       "      <td>-0.011780</td>\n",
       "    </tr>\n",
       "    <tr>\n",
       "      <th>gender</th>\n",
       "      <td>0.006659</td>\n",
       "    </tr>\n",
       "    <tr>\n",
       "      <th>senior_citizen</th>\n",
       "      <td>0.139556</td>\n",
       "    </tr>\n",
       "    <tr>\n",
       "      <th>monthly_charges</th>\n",
       "      <td>0.196942</td>\n",
       "    </tr>\n",
       "    <tr>\n",
       "      <th>fiber_optic</th>\n",
       "      <td>0.312992</td>\n",
       "    </tr>\n",
       "    <tr>\n",
       "      <th>Month-to-month_contract</th>\n",
       "      <td>0.406028</td>\n",
       "    </tr>\n",
       "    <tr>\n",
       "      <th>churn</th>\n",
       "      <td>1.000000</td>\n",
       "    </tr>\n",
       "  </tbody>\n",
       "</table>\n",
       "</div>"
      ],
      "text/plain": [
       "                             churn\n",
       "index                             \n",
       "tenure_months            -0.350081\n",
       "tenure_year              -0.348994\n",
       "two_year_contract        -0.301909\n",
       "auto_pay                 -0.216455\n",
       "total_charges            -0.194262\n",
       "one_year                 -0.178959\n",
       "dependents               -0.149845\n",
       "partner                  -0.135987\n",
       "DSL                      -0.118365\n",
       "internet_service_type_id -0.058992\n",
       "phone_service            -0.011780\n",
       "gender                    0.006659\n",
       "senior_citizen            0.139556\n",
       "monthly_charges           0.196942\n",
       "fiber_optic               0.312992\n",
       "Month-to-month_contract   0.406028\n",
       "churn                     1.000000"
      ]
     },
     "execution_count": 22,
     "metadata": {},
     "output_type": "execute_result"
    }
   ],
   "source": [
    "#correlation table\n",
    "train_corr = train.corr().reset_index()\n",
    "train_corr.set_index('index', drop = True, inplace = True)\n",
    "train_corr = pd.DataFrame(train_corr[train_corr.index[9]]).sort_values(by ='churn')\n",
    "train_corr"
   ]
  },
  {
   "cell_type": "code",
   "execution_count": 23,
   "metadata": {},
   "outputs": [
    {
     "data": {
      "image/png": "[encoded data removed]",
      "text/plain": [
       "<Figure size 1008x720 with 2 Axes>"
      ]
     },
     "metadata": {
      "needs_background": "light"
     },
     "output_type": "display_data"
    }
   ],
   "source": [
    "#Heatmap\n",
    "#The heat map clearly shows there is a correlation between churn and fiber optic, electronic checking and monthly charges.\n",
    "plt.figure(figsize=(14, 10))\n",
    "sns.heatmap(train_corr, cmap = 'coolwarm', center = 0, annot = True, fmt = '.0%',)\n",
    "plt.show()"
   ]
  },
  {
   "cell_type": "markdown",
   "metadata": {},
   "source": [
    "#### Heat Map Takeaways:\n",
    "\n",
    "Factors which are driving churn are Month-to-month contract, fiber optic, monthly charges, auto-pay, tenure_months, and two_year_contract."
   ]
  },
  {
   "cell_type": "code",
   "execution_count": null,
   "metadata": {},
   "outputs": [],
   "source": []
  },
  {
   "cell_type": "code",
   "execution_count": 24,
   "metadata": {},
   "outputs": [
    {
     "data": {
      "image/png": "[encoded data removed]",
      "text/plain": [
       "<Figure size 1008x720 with 2 Axes>"
      ]
     },
     "metadata": {
      "needs_background": "light"
     },
     "output_type": "display_data"
    }
   ],
   "source": [
    "#Comparing internet service types, with firber optic being a driving factor for churn.\n",
    "#specified features\n",
    "features = ['DSL', 'fiber_optic',]\n",
    "#overall churn rate\n",
    "churn_rate = train.churn.mean()\n",
    "_, ax = plt.subplots(nrows=1, ncols=2, figsize=(14, 10), sharey=True)\n",
    "for i, feature in enumerate(features):\n",
    "    sns.barplot(feature, 'churn', data=train, ax=ax[i], alpha=0.5)\n",
    "    ax[i].set_xlabel('Has DSL or Fiber')\n",
    "    ax[i].set_ylabel('churn_rate')\n",
    "    ax[i].set_title(feature)\n",
    "    ax[i].axhline(churn_rate, ls='--', color='grey')"
   ]
  },
  {
   "cell_type": "markdown",
   "metadata": {},
   "source": [
    "#### Bar plot Takeaways:\n",
    "\n",
    "Customers who have the internet service fiber optic have a higher churn rate than those who dont.#looking at the driving factor of churn auto_pay"
   ]
  },
  {
   "cell_type": "code",
   "execution_count": 25,
   "metadata": {},
   "outputs": [
    {
     "data": {
      "image/png": "[encoded data removed]",
      "text/plain": [
       "<Figure size 720x576 with 1 Axes>"
      ]
     },
     "metadata": {
      "needs_background": "light"
     },
     "output_type": "display_data"
    }
   ],
   "source": [
    "#looking at the driving factor of churn auto_pay\n",
    "features = ['auto_pay']\n",
    "plt.figure(figsize=(10, 8))\n",
    "churn_rate = train.churn.mean()\n",
    "for i, feature in enumerate(features):\n",
    "    sns.barplot(feature, 'churn', data = train, alpha=0.5, palette ='colorblind')\n",
    "    plt.xlabel('has_auto')\n",
    "    plt.ylabel('churn_rate')\n",
    "    plt.title(feature)\n",
    "    plt.axhline(churn_rate, ls='--', color='grey')"
   ]
  },
  {
   "cell_type": "markdown",
   "metadata": {},
   "source": [
    "#### Bar plot Takeaways:\n",
    "\n",
    "Customers who use a payment method which has no auto pay method churn at a higher rate than those who do."
   ]
  },
  {
   "cell_type": "code",
   "execution_count": 26,
   "metadata": {},
   "outputs": [
    {
     "data": {
      "image/png": "[encoded data removed]",
      "text/plain": [
       "<Figure size 1008x720 with 1 Axes>"
      ]
     },
     "metadata": {
      "needs_background": "light"
     },
     "output_type": "display_data"
    }
   ],
   "source": [
    "plt.figure(figsize=(14, 10))\n",
    "sns.histplot(data=train, x='tenure_months', hue='churn', multiple='stack',binwidth =1)\n",
    "plt.xlim(1,train.tenure_months.median())\n",
    "plt.show()"
   ]
  },
  {
   "cell_type": "markdown",
   "metadata": {},
   "source": [
    "####  Histogram Takeaways:\n",
    "\n",
    "Immediately you can see the rate of churn is highest within the first month, as you increase in tenure months the tenure count begins to dissapate."
   ]
  },
  {
   "cell_type": "markdown",
   "metadata": {},
   "source": [
    "### Main takeaway from charts and heatmap:\n",
    "\n",
    "- Based on the Heatmap its best to focus on features with a precentage value of greater than 19% and less than -19%.\n",
    "- In total we will focus on 7 features: total_charges, monthly_charges, auto_pay, two_year, tenure_months, fiber_optic, Month-to-month_contract.\n",
    "- We can see from the charts and heatmap these are factors driving churn."
   ]
  },
  {
   "cell_type": "markdown",
   "metadata": {},
   "source": [
    "---------------------------------"
   ]
  },
  {
   "cell_type": "markdown",
   "metadata": {},
   "source": [
    "## Hypothesis Testing:"
   ]
  },
  {
   "cell_type": "code",
   "execution_count": null,
   "metadata": {},
   "outputs": [],
   "source": []
  },
  {
   "cell_type": "markdown",
   "metadata": {},
   "source": [
    "### Hypothesis Test 1\n",
    "\n",
    "- #### Hypothesis Null : autopay method is independent of churn.\n",
    "\n",
    "- #### Hypothesis Alternative : \"autopay method is not independent of churn\"."
   ]
  },
  {
   "cell_type": "markdown",
   "metadata": {},
   "source": [
    "#### Will utilize a CHI^2 Test:\n",
    "- churn(categorical)\n",
    "- auto_pay (categorical)"
   ]
  },
  {
   "cell_type": "code",
   "execution_count": 27,
   "metadata": {
    "jupyter": {
     "source_hidden": true
    }
   },
   "outputs": [
    {
     "name": "stdout",
     "output_type": "stream",
     "text": [
      "Observed\n",
      "\n",
      "[[1448  778]\n",
      " [1443  268]]\n",
      "---\n",
      "Expected\n",
      "\n",
      "[[1634  591]\n",
      " [1256  454]]\n",
      "---\n",
      "\n",
      "chi^2 = 183.4720\n",
      "p     = 0.0000\n",
      "\n",
      "We can reject the null hypothesis that autopay method is independent of churn\n"
     ]
    }
   ],
   "source": [
    "observed1 = pd.crosstab(train.auto_pay, train.churn)\n",
    "# run the chi^2 test\n",
    "chi2, p, degf, expected = stats.chi2_contingency(observed1)\n",
    "print('Observed\\n')\n",
    "print(observed1.values)\n",
    "print('---\\nExpected\\n')\n",
    "print(expected.astype(int))\n",
    "print('---\\n')\n",
    "print(f'chi^2 = {chi2:.4f}')\n",
    "print(f'p     = {p:.4f}')\n",
    "# set alpha\n",
    "alpha = 0.05\n",
    "\n",
    "null_hypothesis = \"autopay method is independent of churn\"\n",
    "\n",
    "if p < alpha:\n",
    "    print(f'\\nWe can reject the null hypothesis that', null_hypothesis)\n",
    "else:\n",
    "    print(f'\\nWe fail to reject the null hypothesis.')"
   ]
  },
  {
   "cell_type": "code",
   "execution_count": 28,
   "metadata": {
    "jupyter": {
     "source_hidden": true
    }
   },
   "outputs": [
    {
     "data": {
      "image/png": "[encoded data removed]",
      "text/plain": [
       "<Figure size 432x432 with 1 Axes>"
      ]
     },
     "metadata": {
      "needs_background": "light"
     },
     "output_type": "display_data"
    }
   ],
   "source": [
    "#looking at the driving factor of churn auto_pay\n",
    "features = ['auto_pay']\n",
    "plt.figure(figsize=(6, 6))\n",
    "churn_rate = train.churn.mean()\n",
    "for i, feature in enumerate(features):\n",
    "    sns.barplot(feature, 'churn', data = train, alpha=0.5, palette ='colorblind')\n",
    "    plt.xlabel('has_auto')\n",
    "    plt.ylabel('churn_rate')\n",
    "    plt.title(feature)\n",
    "    plt.axhline(churn_rate, ls='--', color='grey')"
   ]
  },
  {
   "cell_type": "code",
   "execution_count": null,
   "metadata": {},
   "outputs": [],
   "source": []
  },
  {
   "cell_type": "markdown",
   "metadata": {},
   "source": [
    "### Hypothesis Test 2\n",
    "\n",
    "- #### Hypothesis Null : internet service type fiber optic is independent of churn.\n",
    "\n",
    "\n",
    "- #### Hypothesis Alternative : \"internet service type fiber optic is not independent of churn\".\n",
    "\n",
    "\n"
   ]
  },
  {
   "cell_type": "markdown",
   "metadata": {},
   "source": [
    "#### Will utilize a CHI^2 Test:\n",
    "\n",
    "churn(categorical)\n",
    "fiber_optic (categorical)"
   ]
  },
  {
   "cell_type": "code",
   "execution_count": 29,
   "metadata": {
    "jupyter": {
     "source_hidden": true
    }
   },
   "outputs": [
    {
     "name": "stdout",
     "output_type": "stream",
     "text": [
      "Observed\n",
      "\n",
      "[[1880  312]\n",
      " [1011  734]]\n",
      "---\n",
      "Expected\n",
      "\n",
      "[[1609  582]\n",
      " [1281  463]]\n",
      "---\n",
      "\n",
      "chi^2 = 384.2585\n",
      "p     = 0.0000\n",
      "\n",
      "We can reject the null hypothesis that internet service type fiber optic is independent of churn\n"
     ]
    }
   ],
   "source": [
    "observed1 = pd.crosstab(train.fiber_optic, train.churn)\n",
    "\n",
    "# run the chi^2 test\n",
    "chi2, p, degf, expected = stats.chi2_contingency(observed1)\n",
    "\n",
    "print('Observed\\n')\n",
    "print(observed1.values)\n",
    "print('---\\nExpected\\n')\n",
    "print(expected.astype(int))\n",
    "print('---\\n')\n",
    "print(f'chi^2 = {chi2:.4f}')\n",
    "print(f'p     = {p:.4f}')\n",
    "\n",
    "# set alpha\n",
    "alpha = 0.05\n",
    "\n",
    "null_hypothesis = \"internet service type fiber optic is independent of churn\"\n",
    "\n",
    "if p < alpha:\n",
    "    print(f'\\nWe can reject the null hypothesis that', null_hypothesis)\n",
    "else:\n",
    "    print(f'\\nWe fail to reject the null hypothesis.')"
   ]
  },
  {
   "cell_type": "code",
   "execution_count": 30,
   "metadata": {
    "jupyter": {
     "source_hidden": true
    }
   },
   "outputs": [
    {
     "data": {
      "image/png": "[encoded data removed]",
      "text/plain": [
       "<Figure size 1008x720 with 2 Axes>"
      ]
     },
     "metadata": {
      "needs_background": "light"
     },
     "output_type": "display_data"
    }
   ],
   "source": [
    "features = ['DSL', 'fiber_optic',]\n",
    "#overall churn rate\n",
    "churn_rate = train.churn.mean()\n",
    "_, ax = plt.subplots(nrows=1, ncols=2, figsize=(14, 10), sharey=True)\n",
    "for i, feature in enumerate(features):\n",
    "    sns.barplot(feature, 'churn', data=train, ax=ax[i], alpha=0.5)\n",
    "    ax[i].set_xlabel('Has DSL or Fiber')\n",
    "    ax[i].set_ylabel('churn_rate')\n",
    "    ax[i].set_title(feature)\n",
    "    ax[i].axhline(churn_rate, ls='--', color='grey')"
   ]
  },
  {
   "cell_type": "markdown",
   "metadata": {},
   "source": [
    "### Hypothesis Test 3\n",
    "\n",
    "- #### Hypothesis Null : there is no difference between tenure_months and churn.\n",
    "\n",
    "\n",
    "- #### Hypothesis Alternative : there is a difference between tenure_months and churn.\n",
    "\n",
    "Note: One of the assumptions of the t-test is that the continuous variable is normally distributed.Number of observations is greater than 30."
   ]
  },
  {
   "cell_type": "code",
   "execution_count": 31,
   "metadata": {},
   "outputs": [
    {
     "data": {
      "text/plain": [
       "(32.49428498856998, 29.0)"
      ]
     },
     "execution_count": 31,
     "metadata": {},
     "output_type": "execute_result"
    }
   ],
   "source": [
    "#compare the mean and median.\n",
    "train.tenure_months.mean(), train.tenure_months.median()\n"
   ]
  },
  {
   "cell_type": "code",
   "execution_count": 32,
   "metadata": {},
   "outputs": [
    {
     "data": {
      "text/plain": [
       "<AxesSubplot:xlabel='tenure_months', ylabel='Density'>"
      ]
     },
     "execution_count": 32,
     "metadata": {},
     "output_type": "execute_result"
    },
    {
     "data": {
      "image/png": "[encoded data removed]",
      "text/plain": [
       "<Figure size 1008x720 with 1 Axes>"
      ]
     },
     "metadata": {
      "needs_background": "light"
     },
     "output_type": "display_data"
    }
   ],
   "source": [
    "# Chart for distribution Analysis\n",
    "sns.distplot(train.tenure_months)"
   ]
  },
  {
   "cell_type": "code",
   "execution_count": 33,
   "metadata": {
    "jupyter": {
     "source_hidden": true
    }
   },
   "outputs": [
    {
     "name": "stdout",
     "output_type": "stream",
     "text": [
      "\n",
      "statistic = 81.9624\n",
      "p_value = 0.0000\n",
      "\n",
      "We can reject the null hypothesis that there is no difference between tenure_months and churn.\n"
     ]
    }
   ],
   "source": [
    "#cont vs categorical\n",
    "# make a subset \n",
    "x1 = train.tenure_months\n",
    "\n",
    "# make a subset for \n",
    "x2 = train.churn.mean()\n",
    "\n",
    "# run a 1 sample, 1 tail t-test\n",
    "t_stat, p = stats.ttest_1samp(x1, x2)\n",
    "\n",
    "print(f'\\nstatistic = {t_stat:.4f}')\n",
    "print(f'p_value = {p:.4f}')\n",
    "\n",
    "# set alpha\n",
    "alpha = 0.05\n",
    "\n",
    "null_hypothesis = \"there is no difference between tenure_months and churn.\"\n",
    "\n",
    "if p < alpha:\n",
    "    print(f'\\nWe can reject the null hypothesis that', null_hypothesis)\n",
    "else:\n",
    "    print(f'\\nWe fail to reject the null hypothesis.')"
   ]
  },
  {
   "cell_type": "markdown",
   "metadata": {},
   "source": [
    "Distribution Plot Takeaway:\n",
    "\n",
    "- This is a bimodal distribution so it doesnt eactly show a normal distribution. \n",
    "- The mean and median of the distribution are nearly similar and the number of observations is more than 30.\n",
    "- So we can assume its normally distributed."
   ]
  },
  {
   "cell_type": "markdown",
   "metadata": {},
   "source": [
    "# Modeling & Evaluation:"
   ]
  },
  {
   "cell_type": "code",
   "execution_count": 34,
   "metadata": {},
   "outputs": [
    {
     "data": {
      "text/plain": [
       "0    2891\n",
       "1    1046\n",
       "Name: churn, dtype: int64"
      ]
     },
     "execution_count": 34,
     "metadata": {},
     "output_type": "execute_result"
    }
   ],
   "source": [
    "#Begin by asking what is our Baseline Prediction? We know our target is churn.\n",
    "#Based on value_counts no churn (0) is our baseline prediction\n",
    "train.churn.value_counts() "
   ]
  },
  {
   "cell_type": "code",
   "execution_count": 35,
   "metadata": {},
   "outputs": [
    {
     "data": {
      "text/plain": [
       "0.7343154686309372"
      ]
     },
     "execution_count": 35,
     "metadata": {},
     "output_type": "execute_result"
    }
   ],
   "source": [
    "#Calculate our baseline accuracy.\n",
    "#Create new field which has our baseline prediciton as no churn (0). \n",
    "train['baseline_prediction'] = 0\n",
    "baseline =(train.baseline_prediction == train.churn).mean()\n",
    "baseline \n",
    "#baseline accuracy is 73.43%"
   ]
  },
  {
   "cell_type": "code",
   "execution_count": 36,
   "metadata": {},
   "outputs": [],
   "source": [
    "#do not need baseline_prediction_column anymore\n",
    "train.drop(columns ='baseline_prediction', inplace = True)\n",
    "#Baseline accuracy means for each observation my accuracy in predicting churn would be 73%\n"
   ]
  },
  {
   "cell_type": "code",
   "execution_count": 37,
   "metadata": {},
   "outputs": [],
   "source": [
    "#features list with % greater than 19% and less than 19%. Followed by churn our target\n",
    "x_col = features_list = ['total_charges', 'monthly_charges', 'auto_pay', 'two_year_contract', 'fiber_optic', 'Month-to-month_contract']\n",
    "y_col = 'churn'"
   ]
  },
  {
   "cell_type": "code",
   "execution_count": 38,
   "metadata": {},
   "outputs": [],
   "source": [
    "#defining our features and target for our train, validate and test sets.\n",
    "X_train, y_train = train[x_col], train[y_col]\n",
    "X_validate, y_validate = validate[x_col], validate[y_col]\n",
    "X_test, y_test = test[x_col], test[y_col]"
   ]
  },
  {
   "cell_type": "markdown",
   "metadata": {},
   "source": [
    "### MVP Models:\n",
    " - use function from model.py to use the above specified target and features with a logistic regrerssion, decisicon tree, and random forest classifiers.\n",
    " - model train and validate accuracy must be greater than the baseline accuracy of 73% in order to be considered viable."
   ]
  },
  {
   "cell_type": "code",
   "execution_count": 39,
   "metadata": {},
   "outputs": [
    {
     "name": "stdout",
     "output_type": "stream",
     "text": [
      "--------------------------\n",
      "\n",
      "LogisticRegression(random_state=1349)\n",
      "train set\n",
      "\n",
      "train accuracy: 78.97%\n",
      "classification report:\n",
      "              precision    recall  f1-score   support\n",
      "\n",
      "           0       0.83      0.89      0.86      2891\n",
      "           1       0.63      0.51      0.56      1046\n",
      "\n",
      "    accuracy                           0.79      3937\n",
      "   macro avg       0.73      0.70      0.71      3937\n",
      "weighted avg       0.78      0.79      0.78      3937\n",
      "\n",
      "\n",
      "\n",
      "        True Positive Rate:51.34%,  \n",
      "        False Positive Rate :11.03%,\n",
      "        True Negative Rate: 88.97%,  \n",
      "        False Negative Rate: 48.66%\n",
      "------------------------\n",
      "validate set\n",
      "\n",
      "validate accuracy: 78.79%\n",
      "classification report:\n",
      "              precision    recall  f1-score   support\n",
      "\n",
      "           0       0.84      0.88      0.86      1239\n",
      "           1       0.62      0.52      0.57       449\n",
      "\n",
      "    accuracy                           0.79      1688\n",
      "   macro avg       0.73      0.70      0.71      1688\n",
      "weighted avg       0.78      0.79      0.78      1688\n",
      "\n",
      "\n",
      "\n",
      "        True Positive Rate:52.12%,  \n",
      "        False Positive Rate :11.54%,\n",
      "        True Negative Rate: 88.46%,  \n",
      "        False Negative Rate: 47.88%\n",
      "\n",
      "------------------------\n",
      "--------------------------\n",
      "\n",
      "DecisionTreeClassifier(max_depth=2, random_state=1349)\n",
      "train set\n",
      "\n",
      "train accuracy: 76.94%\n",
      "classification report:\n",
      "              precision    recall  f1-score   support\n",
      "\n",
      "           0       0.86      0.82      0.84      2891\n",
      "           1       0.56      0.62      0.59      1046\n",
      "\n",
      "    accuracy                           0.77      3937\n",
      "   macro avg       0.71      0.72      0.71      3937\n",
      "weighted avg       0.78      0.77      0.77      3937\n",
      "\n",
      "\n",
      "\n",
      "        True Positive Rate:62.24%,  \n",
      "        False Positive Rate :17.74%,\n",
      "        True Negative Rate: 82.26%,  \n",
      "        False Negative Rate: 37.76%\n",
      "------------------------\n",
      "validate set\n",
      "\n",
      "validate accuracy: 75.53%\n",
      "classification report:\n",
      "              precision    recall  f1-score   support\n",
      "\n",
      "           0       0.85      0.81      0.83      1239\n",
      "           1       0.53      0.62      0.57       449\n",
      "\n",
      "    accuracy                           0.76      1688\n",
      "   macro avg       0.69      0.71      0.70      1688\n",
      "weighted avg       0.77      0.76      0.76      1688\n",
      "\n",
      "\n",
      "\n",
      "        True Positive Rate:61.69%,  \n",
      "        False Positive Rate :19.45%,\n",
      "        True Negative Rate: 80.55%,  \n",
      "        False Negative Rate: 38.31%\n",
      "\n",
      "------------------------\n",
      "--------------------------\n",
      "\n",
      "RandomForestClassifier(max_depth=4, min_samples_leaf=3, random_state=1349)\n",
      "train set\n",
      "\n",
      "train accuracy: 79.73%\n",
      "classification report:\n",
      "              precision    recall  f1-score   support\n",
      "\n",
      "           0       0.83      0.91      0.87      2891\n",
      "           1       0.66      0.48      0.56      1046\n",
      "\n",
      "    accuracy                           0.80      3937\n",
      "   macro avg       0.75      0.70      0.71      3937\n",
      "weighted avg       0.79      0.80      0.79      3937\n",
      "\n",
      "\n",
      "\n",
      "        True Positive Rate:47.99%,  \n",
      "        False Positive Rate :8.79%,\n",
      "        True Negative Rate: 91.21%,  \n",
      "        False Negative Rate: 52.01%\n",
      "------------------------\n",
      "validate set\n",
      "\n",
      "validate accuracy: 78.67%\n",
      "classification report:\n",
      "              precision    recall  f1-score   support\n",
      "\n",
      "           0       0.82      0.91      0.86      1239\n",
      "           1       0.64      0.46      0.53       449\n",
      "\n",
      "    accuracy                           0.79      1688\n",
      "   macro avg       0.73      0.68      0.70      1688\n",
      "weighted avg       0.77      0.79      0.77      1688\n",
      "\n",
      "\n",
      "\n",
      "        True Positive Rate:45.66%,  \n",
      "        False Positive Rate :9.36%,\n",
      "        True Negative Rate: 90.64%,  \n",
      "        False Negative Rate: 54.34%\n",
      "\n",
      "------------------------\n"
     ]
    }
   ],
   "source": [
    "#function which generates confusion matrix, train accuracy, validate accuracy, classification report.\n",
    "model.model_metrics(X_train, y_train, X_validate, y_validate)"
   ]
  },
  {
   "cell_type": "markdown",
   "metadata": {},
   "source": [
    "## MVP Models Takeaway:"
   ]
  },
  {
   "cell_type": "markdown",
   "metadata": {},
   "source": [
    "- Since our baseline accuracy is 73% each models train and validate accuracy pecrentage was higher than the baseline meaning they are all viable.\n",
    "- The best performing models were logistical regression and decision tree, these models performed better than random forest by 2%.\n",
    "- My choice would be the logistical regression since the difference in the train and validate accuracy is less than .2 %.\n",
    "\n"
   ]
  },
  {
   "cell_type": "markdown",
   "metadata": {},
   "source": [
    "-------------------"
   ]
  },
  {
   "cell_type": "markdown",
   "metadata": {},
   "source": [
    "## Evaluate on test dataset:"
   ]
  },
  {
   "cell_type": "code",
   "execution_count": 40,
   "metadata": {},
   "outputs": [
    {
     "name": "stdout",
     "output_type": "stream",
     "text": [
      "Test Accuracy: 0.78\n",
      "              precision    recall  f1-score   support\n",
      "\n",
      "           0       0.83      0.89      0.86      1033\n",
      "           1       0.61      0.50      0.55       374\n",
      "\n",
      "    accuracy                           0.78      1407\n",
      "   macro avg       0.72      0.69      0.71      1407\n",
      "weighted avg       0.77      0.78      0.78      1407\n",
      "\n"
     ]
    }
   ],
   "source": [
    "logit = LogisticRegression(random_state =1349)\n",
    "logit.fit(X_train, y_train)\n",
    "y_pred = logit.predict(X_test)\n",
    "y_pred_proba = logit.predict_proba(X_test)\n",
    "print('Test Accuracy: {:.2f}'.format(logit.score(X_test, y_test)))\n",
    "print(classification_report(y_test, y_pred))"
   ]
  },
  {
   "cell_type": "markdown",
   "metadata": {},
   "source": [
    "## Create Predictions CSV\n",
    "- Create a CSV file with  probability of selected features,  prediction of churn (1=churn, 0=not_churn)\n",
    "- These predictions are based on best performing model: logistic regression.  \n"
   ]
  },
  {
   "cell_type": "code",
   "execution_count": 41,
   "metadata": {},
   "outputs": [],
   "source": [
    "# use the model to make predictions.\n",
    "logit_pred_test = logit.predict(X_test[x_col])\n",
    "logit_actual = y_col\n",
    "\n",
    "# use the model to predict probabilities.\n",
    "proba_test = logit.predict_proba(X_test[x_col])"
   ]
  },
  {
   "cell_type": "code",
   "execution_count": 42,
   "metadata": {},
   "outputs": [],
   "source": [
    "proba_df = pd.DataFrame(proba_test, columns=logit.classes_.tolist())"
   ]
  },
  {
   "cell_type": "code",
   "execution_count": 43,
   "metadata": {},
   "outputs": [
    {
     "data": {
      "text/html": [
       "<div>\n",
       "<style scoped>\n",
       "    .dataframe tbody tr th:only-of-type {\n",
       "        vertical-align: middle;\n",
       "    }\n",
       "\n",
       "    .dataframe tbody tr th {\n",
       "        vertical-align: top;\n",
       "    }\n",
       "\n",
       "    .dataframe thead th {\n",
       "        text-align: right;\n",
       "    }\n",
       "</style>\n",
       "<table border=\"1\" class=\"dataframe\">\n",
       "  <thead>\n",
       "    <tr style=\"text-align: right;\">\n",
       "      <th></th>\n",
       "      <th>customer_id</th>\n",
       "      <th>gender</th>\n",
       "      <th>senior_citizen</th>\n",
       "      <th>partner</th>\n",
       "      <th>dependents</th>\n",
       "      <th>tenure_months</th>\n",
       "      <th>phone_service</th>\n",
       "      <th>internet_service_type_id</th>\n",
       "      <th>monthly_charges</th>\n",
       "      <th>total_charges</th>\n",
       "      <th>churn</th>\n",
       "      <th>DSL</th>\n",
       "      <th>fiber_optic</th>\n",
       "      <th>Month-to-month_contract</th>\n",
       "      <th>one_year</th>\n",
       "      <th>two_year_contract</th>\n",
       "      <th>auto_pay</th>\n",
       "      <th>tenure_year</th>\n",
       "    </tr>\n",
       "  </thead>\n",
       "  <tbody>\n",
       "    <tr>\n",
       "      <th>0</th>\n",
       "      <td>5156-UMKOW</td>\n",
       "      <td>1</td>\n",
       "      <td>0</td>\n",
       "      <td>0</td>\n",
       "      <td>1</td>\n",
       "      <td>3</td>\n",
       "      <td>0</td>\n",
       "      <td>1</td>\n",
       "      <td>29.65</td>\n",
       "      <td>90.05</td>\n",
       "      <td>0</td>\n",
       "      <td>1</td>\n",
       "      <td>0</td>\n",
       "      <td>1</td>\n",
       "      <td>0</td>\n",
       "      <td>0</td>\n",
       "      <td>0</td>\n",
       "      <td>0.0</td>\n",
       "    </tr>\n",
       "    <tr>\n",
       "      <th>1</th>\n",
       "      <td>0621-JFHOL</td>\n",
       "      <td>1</td>\n",
       "      <td>0</td>\n",
       "      <td>0</td>\n",
       "      <td>0</td>\n",
       "      <td>10</td>\n",
       "      <td>0</td>\n",
       "      <td>1</td>\n",
       "      <td>29.60</td>\n",
       "      <td>299.05</td>\n",
       "      <td>0</td>\n",
       "      <td>1</td>\n",
       "      <td>0</td>\n",
       "      <td>0</td>\n",
       "      <td>0</td>\n",
       "      <td>1</td>\n",
       "      <td>0</td>\n",
       "      <td>1.0</td>\n",
       "    </tr>\n",
       "    <tr>\n",
       "      <th>2</th>\n",
       "      <td>2012-NWRPA</td>\n",
       "      <td>1</td>\n",
       "      <td>1</td>\n",
       "      <td>1</td>\n",
       "      <td>0</td>\n",
       "      <td>11</td>\n",
       "      <td>1</td>\n",
       "      <td>2</td>\n",
       "      <td>99.55</td>\n",
       "      <td>1131.20</td>\n",
       "      <td>1</td>\n",
       "      <td>0</td>\n",
       "      <td>1</td>\n",
       "      <td>1</td>\n",
       "      <td>0</td>\n",
       "      <td>0</td>\n",
       "      <td>0</td>\n",
       "      <td>1.0</td>\n",
       "    </tr>\n",
       "    <tr>\n",
       "      <th>3</th>\n",
       "      <td>0701-TJSEF</td>\n",
       "      <td>0</td>\n",
       "      <td>0</td>\n",
       "      <td>0</td>\n",
       "      <td>0</td>\n",
       "      <td>9</td>\n",
       "      <td>1</td>\n",
       "      <td>1</td>\n",
       "      <td>68.25</td>\n",
       "      <td>576.95</td>\n",
       "      <td>0</td>\n",
       "      <td>1</td>\n",
       "      <td>0</td>\n",
       "      <td>1</td>\n",
       "      <td>0</td>\n",
       "      <td>0</td>\n",
       "      <td>1</td>\n",
       "      <td>1.0</td>\n",
       "    </tr>\n",
       "    <tr>\n",
       "      <th>4</th>\n",
       "      <td>7606-BPHHN</td>\n",
       "      <td>0</td>\n",
       "      <td>0</td>\n",
       "      <td>0</td>\n",
       "      <td>0</td>\n",
       "      <td>72</td>\n",
       "      <td>1</td>\n",
       "      <td>3</td>\n",
       "      <td>19.80</td>\n",
       "      <td>1468.75</td>\n",
       "      <td>0</td>\n",
       "      <td>0</td>\n",
       "      <td>0</td>\n",
       "      <td>0</td>\n",
       "      <td>0</td>\n",
       "      <td>1</td>\n",
       "      <td>1</td>\n",
       "      <td>6.0</td>\n",
       "    </tr>\n",
       "  </tbody>\n",
       "</table>\n",
       "</div>"
      ],
      "text/plain": [
       "  customer_id  gender  senior_citizen  partner  dependents  tenure_months  \\\n",
       "0  5156-UMKOW       1               0        0           1              3   \n",
       "1  0621-JFHOL       1               0        0           0             10   \n",
       "2  2012-NWRPA       1               1        1           0             11   \n",
       "3  0701-TJSEF       0               0        0           0              9   \n",
       "4  7606-BPHHN       0               0        0           0             72   \n",
       "\n",
       "   phone_service  internet_service_type_id  monthly_charges  total_charges  \\\n",
       "0              0                         1            29.65          90.05   \n",
       "1              0                         1            29.60         299.05   \n",
       "2              1                         2            99.55        1131.20   \n",
       "3              1                         1            68.25         576.95   \n",
       "4              1                         3            19.80        1468.75   \n",
       "\n",
       "   churn  DSL  fiber_optic  Month-to-month_contract  one_year  \\\n",
       "0      0    1            0                        1         0   \n",
       "1      0    1            0                        0         0   \n",
       "2      1    0            1                        1         0   \n",
       "3      0    1            0                        1         0   \n",
       "4      0    0            0                        0         0   \n",
       "\n",
       "   two_year_contract  auto_pay  tenure_year  \n",
       "0                  0         0          0.0  \n",
       "1                  1         0          1.0  \n",
       "2                  0         0          1.0  \n",
       "3                  0         1          1.0  \n",
       "4                  1         1          6.0  "
      ]
     },
     "execution_count": 43,
     "metadata": {},
     "output_type": "execute_result"
    }
   ],
   "source": [
    "#reset the index.\n",
    "reset_test = test.reset_index()\n",
    "reset_test.head()"
   ]
  },
  {
   "cell_type": "code",
   "execution_count": 44,
   "metadata": {},
   "outputs": [
    {
     "data": {
      "text/html": [
       "<div>\n",
       "<style scoped>\n",
       "    .dataframe tbody tr th:only-of-type {\n",
       "        vertical-align: middle;\n",
       "    }\n",
       "\n",
       "    .dataframe tbody tr th {\n",
       "        vertical-align: top;\n",
       "    }\n",
       "\n",
       "    .dataframe thead th {\n",
       "        text-align: right;\n",
       "    }\n",
       "</style>\n",
       "<table border=\"1\" class=\"dataframe\">\n",
       "  <thead>\n",
       "    <tr style=\"text-align: right;\">\n",
       "      <th></th>\n",
       "      <th>customer_id</th>\n",
       "      <th>gender</th>\n",
       "      <th>senior_citizen</th>\n",
       "      <th>partner</th>\n",
       "      <th>dependents</th>\n",
       "      <th>tenure_months</th>\n",
       "      <th>phone_service</th>\n",
       "      <th>internet_service_type_id</th>\n",
       "      <th>monthly_charges</th>\n",
       "      <th>total_charges</th>\n",
       "      <th>churn</th>\n",
       "      <th>DSL</th>\n",
       "      <th>fiber_optic</th>\n",
       "      <th>Month-to-month_contract</th>\n",
       "      <th>one_year</th>\n",
       "      <th>two_year_contract</th>\n",
       "      <th>auto_pay</th>\n",
       "      <th>tenure_year</th>\n",
       "      <th>0</th>\n",
       "      <th>1</th>\n",
       "    </tr>\n",
       "  </thead>\n",
       "  <tbody>\n",
       "    <tr>\n",
       "      <th>0</th>\n",
       "      <td>5156-UMKOW</td>\n",
       "      <td>1</td>\n",
       "      <td>0</td>\n",
       "      <td>0</td>\n",
       "      <td>1</td>\n",
       "      <td>3</td>\n",
       "      <td>0</td>\n",
       "      <td>1</td>\n",
       "      <td>29.65</td>\n",
       "      <td>90.05</td>\n",
       "      <td>0</td>\n",
       "      <td>1</td>\n",
       "      <td>0</td>\n",
       "      <td>1</td>\n",
       "      <td>0</td>\n",
       "      <td>0</td>\n",
       "      <td>0</td>\n",
       "      <td>0.0</td>\n",
       "      <td>0.739296</td>\n",
       "      <td>0.260704</td>\n",
       "    </tr>\n",
       "    <tr>\n",
       "      <th>1</th>\n",
       "      <td>0621-JFHOL</td>\n",
       "      <td>1</td>\n",
       "      <td>0</td>\n",
       "      <td>0</td>\n",
       "      <td>0</td>\n",
       "      <td>10</td>\n",
       "      <td>0</td>\n",
       "      <td>1</td>\n",
       "      <td>29.60</td>\n",
       "      <td>299.05</td>\n",
       "      <td>0</td>\n",
       "      <td>1</td>\n",
       "      <td>0</td>\n",
       "      <td>0</td>\n",
       "      <td>0</td>\n",
       "      <td>1</td>\n",
       "      <td>0</td>\n",
       "      <td>1.0</td>\n",
       "      <td>0.966365</td>\n",
       "      <td>0.033635</td>\n",
       "    </tr>\n",
       "    <tr>\n",
       "      <th>2</th>\n",
       "      <td>2012-NWRPA</td>\n",
       "      <td>1</td>\n",
       "      <td>1</td>\n",
       "      <td>1</td>\n",
       "      <td>0</td>\n",
       "      <td>11</td>\n",
       "      <td>1</td>\n",
       "      <td>2</td>\n",
       "      <td>99.55</td>\n",
       "      <td>1131.20</td>\n",
       "      <td>1</td>\n",
       "      <td>0</td>\n",
       "      <td>1</td>\n",
       "      <td>1</td>\n",
       "      <td>0</td>\n",
       "      <td>0</td>\n",
       "      <td>0</td>\n",
       "      <td>1.0</td>\n",
       "      <td>0.284371</td>\n",
       "      <td>0.715629</td>\n",
       "    </tr>\n",
       "    <tr>\n",
       "      <th>3</th>\n",
       "      <td>0701-TJSEF</td>\n",
       "      <td>0</td>\n",
       "      <td>0</td>\n",
       "      <td>0</td>\n",
       "      <td>0</td>\n",
       "      <td>9</td>\n",
       "      <td>1</td>\n",
       "      <td>1</td>\n",
       "      <td>68.25</td>\n",
       "      <td>576.95</td>\n",
       "      <td>0</td>\n",
       "      <td>1</td>\n",
       "      <td>0</td>\n",
       "      <td>1</td>\n",
       "      <td>0</td>\n",
       "      <td>0</td>\n",
       "      <td>1</td>\n",
       "      <td>1.0</td>\n",
       "      <td>0.683839</td>\n",
       "      <td>0.316161</td>\n",
       "    </tr>\n",
       "    <tr>\n",
       "      <th>4</th>\n",
       "      <td>7606-BPHHN</td>\n",
       "      <td>0</td>\n",
       "      <td>0</td>\n",
       "      <td>0</td>\n",
       "      <td>0</td>\n",
       "      <td>72</td>\n",
       "      <td>1</td>\n",
       "      <td>3</td>\n",
       "      <td>19.80</td>\n",
       "      <td>1468.75</td>\n",
       "      <td>0</td>\n",
       "      <td>0</td>\n",
       "      <td>0</td>\n",
       "      <td>0</td>\n",
       "      <td>0</td>\n",
       "      <td>1</td>\n",
       "      <td>1</td>\n",
       "      <td>6.0</td>\n",
       "      <td>0.986897</td>\n",
       "      <td>0.013103</td>\n",
       "    </tr>\n",
       "  </tbody>\n",
       "</table>\n",
       "</div>"
      ],
      "text/plain": [
       "  customer_id  gender  senior_citizen  partner  dependents  tenure_months  \\\n",
       "0  5156-UMKOW       1               0        0           1              3   \n",
       "1  0621-JFHOL       1               0        0           0             10   \n",
       "2  2012-NWRPA       1               1        1           0             11   \n",
       "3  0701-TJSEF       0               0        0           0              9   \n",
       "4  7606-BPHHN       0               0        0           0             72   \n",
       "\n",
       "   phone_service  internet_service_type_id  monthly_charges  total_charges  \\\n",
       "0              0                         1            29.65          90.05   \n",
       "1              0                         1            29.60         299.05   \n",
       "2              1                         2            99.55        1131.20   \n",
       "3              1                         1            68.25         576.95   \n",
       "4              1                         3            19.80        1468.75   \n",
       "\n",
       "   churn  DSL  fiber_optic  Month-to-month_contract  one_year  \\\n",
       "0      0    1            0                        1         0   \n",
       "1      0    1            0                        0         0   \n",
       "2      1    0            1                        1         0   \n",
       "3      0    1            0                        1         0   \n",
       "4      0    0            0                        0         0   \n",
       "\n",
       "   two_year_contract  auto_pay  tenure_year         0         1  \n",
       "0                  0         0          0.0  0.739296  0.260704  \n",
       "1                  1         0          1.0  0.966365  0.033635  \n",
       "2                  0         0          1.0  0.284371  0.715629  \n",
       "3                  0         1          1.0  0.683839  0.316161  \n",
       "4                  1         1          6.0  0.986897  0.013103  "
      ]
     },
     "execution_count": 44,
     "metadata": {},
     "output_type": "execute_result"
    }
   ],
   "source": [
    "#concat the reset test and the probabilities\n",
    "test_proba_df = pd.concat([reset_test, proba_df], axis=1)\n",
    "test_proba_df.head()"
   ]
  },
  {
   "cell_type": "code",
   "execution_count": 45,
   "metadata": {},
   "outputs": [],
   "source": [
    "test_proba_df['prediction'] = logit_pred_test"
   ]
  },
  {
   "cell_type": "code",
   "execution_count": 46,
   "metadata": {},
   "outputs": [],
   "source": [
    "telco_prediction = test_proba_df[x_col]"
   ]
  },
  {
   "cell_type": "code",
   "execution_count": 47,
   "metadata": {},
   "outputs": [],
   "source": [
    "telco_prediction.to_csv('telco_churn_predictions.csv')"
   ]
  },
  {
   "cell_type": "markdown",
   "metadata": {},
   "source": [
    "# Conclusions:\n",
    "- #### Baseline accuracy was 73%, every model performed better than the baseline meaning they are all viable.\n",
    "- #### The logistic regression model performed the best out of every model.\n",
    "- #### Accuracy on the validate was 79%, the test accuracy was 78%.\n",
    "- #### Investigate more into relationship between tenure_months and monthly_charges, see if any additional features combined have a role in churn.\n"
   ]
  },
  {
   "cell_type": "markdown",
   "metadata": {},
   "source": [
    "# Recommendations:\n",
    "- #### Offer an incentive customers not using an auto-payment method a reduction in monthly charges.\n",
    "- #### Offer an incentive to customers using fiber optics a reduction in monthly charges.\n"
   ]
  },
  {
   "cell_type": "code",
   "execution_count": null,
   "metadata": {},
   "outputs": [],
   "source": []
  }
 ],
 "metadata": {
  "kernelspec": {
   "display_name": "Python 3",
   "language": "python",
   "name": "python3"
  },
  "language_info": {
   "codemirror_mode": {
    "name": "ipython",
    "version": 3
   },
   "file_extension": ".py",
   "mimetype": "text/x-python",
   "name": "python",
   "nbconvert_exporter": "python",
   "pygments_lexer": "ipython3",
   "version": "3.8.5"
  }
 },
 "nbformat": 4,
 "nbformat_minor": 4
}
